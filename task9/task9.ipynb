{
 "cells": [
  {
   "cell_type": "code",
   "id": "initial_id",
   "metadata": {
    "collapsed": true,
    "ExecuteTime": {
     "end_time": "2025-05-21T09:10:33.238150Z",
     "start_time": "2025-05-21T09:10:33.208594Z"
    }
   },
   "source": [
    "import sympy as sp\n",
    "import numpy as np"
   ],
   "outputs": [],
   "execution_count": 13
  },
  {
   "metadata": {
    "ExecuteTime": {
     "end_time": "2025-05-21T09:07:18.116042Z",
     "start_time": "2025-05-21T09:07:18.103348Z"
    }
   },
   "cell_type": "code",
   "source": [
    "P = np.array([[0.3, 0.6, 0.1],\n",
    "              [0.4, 0.4, 0.2],\n",
    "              [0.2, 0.3, 0.5]])"
   ],
   "id": "7740fef6b2901c89",
   "outputs": [],
   "execution_count": 3
  },
  {
   "metadata": {
    "ExecuteTime": {
     "end_time": "2025-05-21T09:07:25.377317Z",
     "start_time": "2025-05-21T09:07:25.346048Z"
    }
   },
   "cell_type": "code",
   "source": [
    "P2 = P@P\n",
    "P2"
   ],
   "id": "5214ae1c0efe9de7",
   "outputs": [
    {
     "data": {
      "text/plain": [
       "array([[0.35, 0.45, 0.2 ],\n",
       "       [0.32, 0.46, 0.22],\n",
       "       [0.28, 0.39, 0.33]])"
      ]
     },
     "execution_count": 8,
     "metadata": {},
     "output_type": "execute_result"
    }
   ],
   "execution_count": 8
  },
  {
   "metadata": {
    "ExecuteTime": {
     "end_time": "2025-05-21T09:08:26.289352Z",
     "start_time": "2025-05-21T09:08:26.273732Z"
    }
   },
   "cell_type": "code",
   "source": "round(sum(P[0]))",
   "id": "ad1893f577277a0e",
   "outputs": [
    {
     "data": {
      "text/plain": [
       "1"
      ]
     },
     "execution_count": 9,
     "metadata": {},
     "output_type": "execute_result"
    }
   ],
   "execution_count": 9
  },
  {
   "metadata": {
    "ExecuteTime": {
     "end_time": "2025-05-21T09:08:27.788755Z",
     "start_time": "2025-05-21T09:08:27.757531Z"
    }
   },
   "cell_type": "code",
   "source": "round(sum(P[1]))",
   "id": "bd32c595c2e7c478",
   "outputs": [
    {
     "data": {
      "text/plain": [
       "1"
      ]
     },
     "execution_count": 10,
     "metadata": {},
     "output_type": "execute_result"
    }
   ],
   "execution_count": 10
  },
  {
   "metadata": {
    "ExecuteTime": {
     "end_time": "2025-05-21T09:08:28.975187Z",
     "start_time": "2025-05-21T09:08:28.943816Z"
    }
   },
   "cell_type": "code",
   "source": "round(sum(P[2]))",
   "id": "5f7b078072d42cc",
   "outputs": [
    {
     "data": {
      "text/plain": [
       "1"
      ]
     },
     "execution_count": 11,
     "metadata": {},
     "output_type": "execute_result"
    }
   ],
   "execution_count": 11
  },
  {
   "metadata": {
    "ExecuteTime": {
     "end_time": "2025-05-21T09:12:09.146767Z",
     "start_time": "2025-05-21T09:12:09.141765Z"
    }
   },
   "cell_type": "code",
   "source": [
    "λ = sp.Symbol('λ')\n",
    "A = sp.Matrix([[0.3-λ, 0.6, 0.1],\n",
    "              [0.4, 0.4-λ, 0.2],\n",
    "              [0.2, 0.3, 0.5-λ]])"
   ],
   "id": "dc06f50c79a118a3",
   "outputs": [],
   "execution_count": 17
  },
  {
   "metadata": {
    "ExecuteTime": {
     "end_time": "2025-05-21T09:12:10.805168Z",
     "start_time": "2025-05-21T09:12:10.699669Z"
    }
   },
   "cell_type": "code",
   "source": [
    "E = A.det()\n",
    "sp.pprint(E.expand())"
   ],
   "id": "b38fa4afb2731b0f",
   "outputs": [
    {
     "name": "stdout",
     "output_type": "stream",
     "text": [
      "   3        2                \n",
      "- λ  + 1.2⋅λ  - 0.15⋅λ - 0.05\n"
     ]
    }
   ],
   "execution_count": 18
  },
  {
   "metadata": {
    "ExecuteTime": {
     "end_time": "2025-05-21T09:18:17.974312Z",
     "start_time": "2025-05-21T09:18:17.958668Z"
    }
   },
   "cell_type": "code",
   "source": [
    "E *= -1\n",
    "sp.pprint(E.expand())"
   ],
   "id": "2268fa14f006b42",
   "outputs": [
    {
     "name": "stdout",
     "output_type": "stream",
     "text": [
      " 3        2                \n",
      "λ  - 1.2⋅λ  + 0.15⋅λ + 0.05\n"
     ]
    }
   ],
   "execution_count": 30
  },
  {
   "metadata": {
    "ExecuteTime": {
     "end_time": "2025-05-21T09:18:22.317401Z",
     "start_time": "2025-05-21T09:18:22.301776Z"
    }
   },
   "cell_type": "code",
   "source": [
    "coeffs = sp.Poly(E, λ).all_coeffs()\n",
    "coeffs"
   ],
   "id": "2c20e87ab81e8c26",
   "outputs": [
    {
     "data": {
      "text/plain": [
       "[1.00000000000000, -1.20000000000000, 0.150000000000000, 0.0500000000000000]"
      ]
     },
     "execution_count": 31,
     "metadata": {},
     "output_type": "execute_result"
    }
   ],
   "execution_count": 31
  },
  {
   "metadata": {
    "ExecuteTime": {
     "end_time": "2025-05-21T09:27:03.155913Z",
     "start_time": "2025-05-21T09:27:03.140287Z"
    }
   },
   "cell_type": "code",
   "source": "coeffs = (0.05, 0.15, -1.2, 1)",
   "id": "fe54782ebdb45c93",
   "outputs": [],
   "execution_count": 45
  },
  {
   "metadata": {
    "ExecuteTime": {
     "end_time": "2025-05-21T09:27:04.255965Z",
     "start_time": "2025-05-21T09:27:04.224654Z"
    }
   },
   "cell_type": "code",
   "source": [
    "polyroots = np.polynomial.polynomial.polyroots(coeffs)\n",
    "polyroots"
   ],
   "id": "49cf547ba49c9050",
   "outputs": [
    {
     "data": {
      "text/plain": [
       "array([-0.14494897,  0.34494897,  1.        ])"
      ]
     },
     "execution_count": 46,
     "metadata": {},
     "output_type": "execute_result"
    }
   ],
   "execution_count": 46
  },
  {
   "metadata": {
    "ExecuteTime": {
     "end_time": "2025-05-21T09:21:51.609525Z",
     "start_time": "2025-05-21T09:21:51.593992Z"
    }
   },
   "cell_type": "code",
   "source": [
    "A = np.array([[1, 1, 1],\n",
    "              [-0.7, 0.4, 0.2],\n",
    "              [0.6, -0.6, 0.3]])\n",
    "\n",
    "b = np.array([1, 0, 0])"
   ],
   "id": "8fd709b047d2173c",
   "outputs": [],
   "execution_count": 41
  },
  {
   "metadata": {
    "ExecuteTime": {
     "end_time": "2025-05-21T09:22:04.744055Z",
     "start_time": "2025-05-21T09:22:04.728426Z"
    }
   },
   "cell_type": "code",
   "source": "np.linalg.solve(A, b)",
   "id": "25ffb740be306746",
   "outputs": [
    {
     "data": {
      "text/plain": [
       "array([0.32, 0.44, 0.24])"
      ]
     },
     "execution_count": 42,
     "metadata": {},
     "output_type": "execute_result"
    }
   ],
   "execution_count": 42
  }
 ],
 "metadata": {
  "kernelspec": {
   "display_name": "Python 3",
   "language": "python",
   "name": "python3"
  },
  "language_info": {
   "codemirror_mode": {
    "name": "ipython",
    "version": 2
   },
   "file_extension": ".py",
   "mimetype": "text/x-python",
   "name": "python",
   "nbconvert_exporter": "python",
   "pygments_lexer": "ipython2",
   "version": "2.7.6"
  }
 },
 "nbformat": 4,
 "nbformat_minor": 5
}
