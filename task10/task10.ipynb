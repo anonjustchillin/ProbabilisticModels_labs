{
 "cells": [
  {
   "cell_type": "code",
   "id": "initial_id",
   "metadata": {
    "collapsed": true,
    "ExecuteTime": {
     "end_time": "2025-06-01T05:51:41.912771Z",
     "start_time": "2025-06-01T05:51:41.465440Z"
    }
   },
   "source": "import numpy as np",
   "outputs": [],
   "execution_count": 1
  },
  {
   "metadata": {},
   "cell_type": "markdown",
   "source": [
    "На автозаправній станції (АЗС) одна заправна колонка.\n",
    "\n",
    "Заправка одного авто триває в середньому t_serv (t_обс) хвилин.\n",
    "\n",
    "Для заправки бензином на АЗС в середньому кожні 5 хвилин прибуває N авто.\n",
    "\n",
    "Усі водії, які стоять у черзі, \"терпляче\" очікують своєї черги.\n",
    "\n",
    "Установіть, СМО якого типу є математичною моделлю опису роботи АЗС."
   ],
   "id": "dae9b07b999dabf6"
  },
  {
   "metadata": {
    "ExecuteTime": {
     "end_time": "2025-06-01T05:51:41.943995Z",
     "start_time": "2025-06-01T05:51:41.912771Z"
    }
   },
   "cell_type": "code",
   "source": [
    "N = 9\n",
    "t_serv = 0.5\n",
    "t_interv = 5"
   ],
   "id": "553c64184d1147b3",
   "outputs": [],
   "execution_count": 2
  },
  {
   "metadata": {
    "ExecuteTime": {
     "end_time": "2025-06-01T05:51:41.963799Z",
     "start_time": "2025-06-01T05:51:41.950401Z"
    }
   },
   "cell_type": "code",
   "source": [
    "lamb = N / t_interv\n",
    "print(f\"{lamb:.2f}\")"
   ],
   "id": "5b6f46cbde4df27e",
   "outputs": [
    {
     "name": "stdout",
     "output_type": "stream",
     "text": [
      "1.80\n"
     ]
    }
   ],
   "execution_count": 3
  },
  {
   "metadata": {
    "ExecuteTime": {
     "end_time": "2025-06-01T05:51:42.739016Z",
     "start_time": "2025-06-01T05:51:42.723282Z"
    }
   },
   "cell_type": "code",
   "source": [
    "u = 1 / t_serv\n",
    "print(f\"{u:.2f}\")"
   ],
   "id": "5014ce087c8c8bf4",
   "outputs": [
    {
     "name": "stdout",
     "output_type": "stream",
     "text": [
      "2.00\n"
     ]
    }
   ],
   "execution_count": 4
  },
  {
   "metadata": {
    "ExecuteTime": {
     "end_time": "2025-06-01T05:51:42.899311Z",
     "start_time": "2025-06-01T05:51:42.883713Z"
    }
   },
   "cell_type": "code",
   "source": [
    "P = lamb / u\n",
    "print(f\"{P:.2f}\")"
   ],
   "id": "f3f95d4131d0f155",
   "outputs": [
    {
     "name": "stdout",
     "output_type": "stream",
     "text": [
      "0.90\n"
     ]
    }
   ],
   "execution_count": 5
  },
  {
   "metadata": {},
   "cell_type": "markdown",
   "source": "Ймовірності станів у СМО без обмежень",
   "id": "f75ea3bdbefde69e"
  },
  {
   "metadata": {
    "ExecuteTime": {
     "end_time": "2025-06-01T05:52:23.446290Z",
     "start_time": "2025-06-01T05:52:23.430624Z"
    }
   },
   "cell_type": "code",
   "source": [
    "p = np.array([])\n",
    "for i in range(4):\n",
    "    p = np.append(p, (P**i) *(1 - P))\n",
    "\n",
    "for i in range(len(p)):\n",
    "    print(f\"p_  {i} = {p[i]:.3f}\")"
   ],
   "id": "fd9d1a79ee33f5e2",
   "outputs": [
    {
     "name": "stdout",
     "output_type": "stream",
     "text": [
      "p_0 = 0.100\n",
      "p_1 = 0.090\n",
      "p_2 = 0.081\n",
      "p_3 = 0.073\n"
     ]
    }
   ],
   "execution_count": 12
  },
  {
   "metadata": {},
   "cell_type": "markdown",
   "source": "Середня довжина черги",
   "id": "d04cab7d970458cd"
  },
  {
   "metadata": {
    "ExecuteTime": {
     "end_time": "2025-06-01T05:51:43.079969Z",
     "start_time": "2025-06-01T05:51:43.068577Z"
    }
   },
   "cell_type": "code",
   "source": [
    "r = P**2 /(1-P)\n",
    "print(f\"r = {r:.4f}\")"
   ],
   "id": "bfc94954c2a77089",
   "outputs": [
    {
     "name": "stdout",
     "output_type": "stream",
     "text": [
      "r = 8.1000\n"
     ]
    }
   ],
   "execution_count": 7
  },
  {
   "metadata": {},
   "cell_type": "markdown",
   "source": "Середня кількість авто, що обслуговуються",
   "id": "a50068bbde7c63e5"
  },
  {
   "metadata": {
    "ExecuteTime": {
     "end_time": "2025-06-01T05:51:43.144647Z",
     "start_time": "2025-06-01T05:51:43.135650Z"
    }
   },
   "cell_type": "code",
   "source": [
    "L_serv = P\n",
    "print(f\"L_обсл = {L_serv:.2f}\")"
   ],
   "id": "b1b422d49a67d298",
   "outputs": [
    {
     "name": "stdout",
     "output_type": "stream",
     "text": [
      "L_обсл = 0.90\n"
     ]
    }
   ],
   "execution_count": 8
  },
  {
   "metadata": {},
   "cell_type": "markdown",
   "source": "Середня кількість заявок, що знаходяться в СМО",
   "id": "f4bfc714f20d1edd"
  },
  {
   "metadata": {
    "ExecuteTime": {
     "end_time": "2025-06-01T05:51:43.190062Z",
     "start_time": "2025-06-01T05:51:43.174437Z"
    }
   },
   "cell_type": "code",
   "source": [
    "L_syst = P/(1-P)\n",
    "print(f\"L_сист = {L_syst:.2f}\")"
   ],
   "id": "7566c0390a29a0e2",
   "outputs": [
    {
     "name": "stdout",
     "output_type": "stream",
     "text": [
      "L_сист = 9.00\n"
     ]
    }
   ],
   "execution_count": 9
  },
  {
   "metadata": {},
   "cell_type": "markdown",
   "source": "Середній час очікування в черзі\n",
   "id": "917839c9693e2b43"
  },
  {
   "metadata": {
    "ExecuteTime": {
     "end_time": "2025-06-01T05:51:43.240757Z",
     "start_time": "2025-06-01T05:51:43.223148Z"
    }
   },
   "cell_type": "code",
   "source": [
    "L_wait = (P**2) /(1-P)\n",
    "t_wait = (1 / lamb) * L_wait\n",
    "print(f\"t_очік = {t_wait:.3f}\")"
   ],
   "id": "801362b46d20b20f",
   "outputs": [
    {
     "name": "stdout",
     "output_type": "stream",
     "text": [
      "t_очік = 4.500\n"
     ]
    }
   ],
   "execution_count": 10
  },
  {
   "metadata": {},
   "cell_type": "markdown",
   "source": "Середній час перебування заявки в системі",
   "id": "eacb3b93a91d53f7"
  },
  {
   "metadata": {
    "ExecuteTime": {
     "end_time": "2025-06-01T05:51:43.323887Z",
     "start_time": "2025-06-01T05:51:43.308271Z"
    }
   },
   "cell_type": "code",
   "source": [
    "t_syst = (1 / lamb) * L_syst\n",
    "print(f\"t_сист = {t_syst:.3f}\")"
   ],
   "id": "76618e1d52f0e564",
   "outputs": [
    {
     "name": "stdout",
     "output_type": "stream",
     "text": [
      "t_сист = 5.000\n"
     ]
    }
   ],
   "execution_count": 11
  }
 ],
 "metadata": {
  "kernelspec": {
   "display_name": "Python 3",
   "language": "python",
   "name": "python3"
  },
  "language_info": {
   "codemirror_mode": {
    "name": "ipython",
    "version": 2
   },
   "file_extension": ".py",
   "mimetype": "text/x-python",
   "name": "python",
   "nbconvert_exporter": "python",
   "pygments_lexer": "ipython2",
   "version": "2.7.6"
  }
 },
 "nbformat": 4,
 "nbformat_minor": 5
}
