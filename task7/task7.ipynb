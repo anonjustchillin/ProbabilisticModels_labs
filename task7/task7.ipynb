{
 "cells": [
  {
   "metadata": {
    "ExecuteTime": {
     "end_time": "2025-05-15T23:24:20.994505Z",
     "start_time": "2025-05-15T23:24:20.960346Z"
    }
   },
   "cell_type": "code",
   "source": [
    "import numpy as np\n",
    "import matplotlib.pyplot as plt\n",
    "import scipy.stats as stats"
   ],
   "id": "fbc121e30a2defb3",
   "outputs": [],
   "execution_count": 32
  },
  {
   "metadata": {
    "ExecuteTime": {
     "end_time": "2025-05-15T23:24:21.052715Z",
     "start_time": "2025-05-15T23:24:21.037085Z"
    }
   },
   "cell_type": "code",
   "source": [
    "X = np.array([3.0, 3.5, 4.0, 4.5, 5.0, 6.0, 6.5, 7.0, 7.5, 8.0, 8.5, 9.0, 9.5, 10.0, 10.5, 11.0, 11.5, 12.0])\n",
    "Y = np.array([32, 36, 38, 42, 46, 49, 55, 59, 62, 68, 70, 73, 75, 81, 88, 92, 94, 98])\n",
    "x_p = 12.5\n",
    "alpha = 0.05"
   ],
   "id": "cb30bb8defa5f4d",
   "outputs": [],
   "execution_count": 33
  },
  {
   "metadata": {
    "ExecuteTime": {
     "end_time": "2025-05-15T23:24:21.157005Z",
     "start_time": "2025-05-15T23:24:21.141381Z"
    }
   },
   "cell_type": "code",
   "source": [
    "n = len(X)\n",
    "n"
   ],
   "id": "e6101893c4c8da19",
   "outputs": [
    {
     "data": {
      "text/plain": [
       "18"
      ]
     },
     "execution_count": 34,
     "metadata": {},
     "output_type": "execute_result"
    }
   ],
   "execution_count": 34
  },
  {
   "metadata": {
    "ExecuteTime": {
     "end_time": "2025-05-15T23:24:21.342045Z",
     "start_time": "2025-05-15T23:24:21.226115Z"
    }
   },
   "cell_type": "code",
   "source": [
    "plt.scatter(X, Y, label='Кореляційне поле')\n",
    "plt.xlabel('X')\n",
    "plt.ylabel('Y')\n",
    "plt.grid(True)\n",
    "plt.show"
   ],
   "id": "54803217a8b98bd3",
   "outputs": [
    {
     "data": {
      "text/plain": [
       "<function matplotlib.pyplot.show(close=None, block=None)>"
      ]
     },
     "execution_count": 35,
     "metadata": {},
     "output_type": "execute_result"
    },
    {
     "data": {
      "text/plain": [
       "<Figure size 640x480 with 1 Axes>"
      ],
      "image/png": "[encoded data removed]"
     },
     "metadata": {},
     "output_type": "display_data"
    }
   ],
   "execution_count": 35
  },
  {
   "metadata": {
    "ExecuteTime": {
     "end_time": "2025-05-15T23:24:21.426799Z",
     "start_time": "2025-05-15T23:24:21.411172Z"
    }
   },
   "cell_type": "code",
   "source": [
    "xy_b = np.sum(X*Y)/n\n",
    "x_b = np.sum(X)/n\n",
    "y_b = np.sum(Y)/n\n",
    "\n",
    "print(f\"x_b = {x_b}\")\n",
    "print(f\"y_b = {y_b}\")\n",
    "print(f\"xy_b = {xy_b}\")"
   ],
   "id": "32ed9c6119a77ad8",
   "outputs": [
    {
     "name": "stdout",
     "output_type": "stream",
     "text": [
      "x_b = 7.611111111111111\n",
      "y_b = 64.33333333333333\n",
      "xy_b = 546.3333333333334\n"
     ]
    }
   ],
   "execution_count": 36
  },
  {
   "metadata": {
    "ExecuteTime": {
     "end_time": "2025-05-15T23:24:21.511577Z",
     "start_time": "2025-05-15T23:24:21.495989Z"
    }
   },
   "cell_type": "code",
   "source": [
    "var_X = np.var(X, ddof=1)\n",
    "var_Y= np.var(Y, ddof=1)\n",
    "\n",
    "print(f\"S_x^2 = {var_X}\")\n",
    "print(f\"S_y = {var_Y}\")"
   ],
   "id": "cd58bcaad891ce83",
   "outputs": [
    {
     "name": "stdout",
     "output_type": "stream",
     "text": [
      "S_x^2 = 8.133986928104575\n",
      "S_y = 446.11764705882354\n"
     ]
    }
   ],
   "execution_count": 37
  },
  {
   "metadata": {
    "ExecuteTime": {
     "end_time": "2025-05-15T23:24:21.561627Z",
     "start_time": "2025-05-15T23:24:21.546051Z"
    }
   },
   "cell_type": "code",
   "source": [
    "std_X = np.std(X, ddof=1)\n",
    "std_Y = np.std(Y, ddof=1)\n",
    "\n",
    "print(f\"S_x = {std_X}\")\n",
    "print(f\"S_y = {std_Y}\")"
   ],
   "id": "43f23c85aa605b02",
   "outputs": [
    {
     "name": "stdout",
     "output_type": "stream",
     "text": [
      "S_x = 2.8520145385507023\n",
      "S_y = 21.121497273129656\n"
     ]
    }
   ],
   "execution_count": 38
  },
  {
   "metadata": {
    "ExecuteTime": {
     "end_time": "2025-05-15T23:24:21.646234Z",
     "start_time": "2025-05-15T23:24:21.630648Z"
    }
   },
   "cell_type": "code",
   "source": [
    "r_xy = (xy_b - x_b * y_b) / (std_X * std_Y)\n",
    "print(r_xy)"
   ],
   "id": "54acac55f76c2f2b",
   "outputs": [
    {
     "name": "stdout",
     "output_type": "stream",
     "text": [
      "0.9410076048454732\n"
     ]
    }
   ],
   "execution_count": 39
  },
  {
   "metadata": {
    "ExecuteTime": {
     "end_time": "2025-05-15T23:24:21.711880Z",
     "start_time": "2025-05-15T23:24:21.696250Z"
    }
   },
   "cell_type": "code",
   "source": [
    "b = (xy_b - x_b * y_b) / var_X\n",
    "print(b)"
   ],
   "id": "ec1475cb6f4b1a8e",
   "outputs": [
    {
     "name": "stdout",
     "output_type": "stream",
     "text": [
      "6.968929958484008\n"
     ]
    }
   ],
   "execution_count": 40
  },
  {
   "metadata": {
    "ExecuteTime": {
     "end_time": "2025-05-15T23:24:21.758800Z",
     "start_time": "2025-05-15T23:24:21.743205Z"
    }
   },
   "cell_type": "code",
   "source": [
    "a = y_b - b * x_b\n",
    "print(a)"
   ],
   "id": "58436bcbd675d5c7",
   "outputs": [
    {
     "name": "stdout",
     "output_type": "stream",
     "text": [
      "11.292033093760608\n"
     ]
    }
   ],
   "execution_count": 41
  },
  {
   "metadata": {
    "ExecuteTime": {
     "end_time": "2025-05-15T23:24:21.859210Z",
     "start_time": "2025-05-15T23:24:21.843586Z"
    }
   },
   "cell_type": "code",
   "source": [
    "lin_reg_str = f'y = {a:.4f} + {b:.4f}*x'\n",
    "print('Рівняння регресії:', lin_reg_str)"
   ],
   "id": "5bca0a33a8698f77",
   "outputs": [
    {
     "name": "stdout",
     "output_type": "stream",
     "text": [
      "Рівняння регресії: y = 11.2920 + 6.9689*x\n"
     ]
    }
   ],
   "execution_count": 42
  },
  {
   "metadata": {
    "ExecuteTime": {
     "end_time": "2025-05-15T23:24:21.943477Z",
     "start_time": "2025-05-15T23:24:21.912201Z"
    }
   },
   "cell_type": "code",
   "source": [
    "Y_1 = a + b*X\n",
    "Y_1"
   ],
   "id": "fd552c3b28058543",
   "outputs": [
    {
     "data": {
      "text/plain": [
       "array([32.19882297, 35.68328795, 39.16775293, 42.65221791, 46.13668289,\n",
       "       53.10561284, 56.59007782, 60.0745428 , 63.55900778, 67.04347276,\n",
       "       70.52793774, 74.01240272, 77.4968677 , 80.98133268, 84.46579766,\n",
       "       87.95026264, 91.43472762, 94.9191926 ])"
      ]
     },
     "execution_count": 43,
     "metadata": {},
     "output_type": "execute_result"
    }
   ],
   "execution_count": 43
  },
  {
   "metadata": {
    "ExecuteTime": {
     "end_time": "2025-05-15T23:24:22.112604Z",
     "start_time": "2025-05-15T23:24:22.012276Z"
    }
   },
   "cell_type": "code",
   "source": [
    "plt.plot(X, Y_1, color='r', label=lin_reg_str)\n",
    "plt.scatter(X, Y, label='Кореляційне поле')\n",
    "plt.legend()\n",
    "plt.xlabel('X')\n",
    "plt.ylabel('Y')\n",
    "plt.grid(True)\n",
    "plt.show()"
   ],
   "id": "c0192fa77da6c110",
   "outputs": [
    {
     "data": {
      "text/plain": [
       "<Figure size 640x480 with 1 Axes>"
      ],
      "image/png": "[encoded data removed]"
     },
     "metadata": {},
     "output_type": "display_data"
    }
   ],
   "execution_count": 44
  },
  {
   "metadata": {
    "ExecuteTime": {
     "end_time": "2025-05-15T23:24:22.174135Z",
     "start_time": "2025-05-15T23:24:22.145979Z"
    }
   },
   "cell_type": "code",
   "source": [
    "R = np.power(r_xy, 2)\n",
    "print(R)"
   ],
   "id": "f9061d975213158b",
   "outputs": [
    {
     "name": "stdout",
     "output_type": "stream",
     "text": [
      "0.8854953123770142\n"
     ]
    }
   ],
   "execution_count": 45
  },
  {
   "metadata": {
    "ExecuteTime": {
     "end_time": "2025-05-15T23:24:22.228196Z",
     "start_time": "2025-05-15T23:24:22.212575Z"
    }
   },
   "cell_type": "code",
   "source": [
    "S_rem_2 = np.sum((Y - Y_1)**2) / (n-2)\n",
    "S_rem = np.sqrt(S_rem_2)\n",
    "\n",
    "print(f\"S зал ^2 = {S_rem_2}\")\n",
    "print(f\"S залиш = {S_rem}\")"
   ],
   "id": "388cedce80d65aea",
   "outputs": [
    {
     "name": "stdout",
     "output_type": "stream",
     "text": [
      "S зал ^2 = 4.8958362783902745\n",
      "S залиш = 2.2126536733954265\n"
     ]
    }
   ],
   "execution_count": 46
  },
  {
   "metadata": {
    "ExecuteTime": {
     "end_time": "2025-05-15T23:24:22.275082Z",
     "start_time": "2025-05-15T23:24:22.259449Z"
    }
   },
   "cell_type": "code",
   "source": [
    "S_b = np.sqrt(S_rem_2 / np.sum((X - x_b) ** 2))\n",
    "print(S_b)"
   ],
   "id": "479413e9ccf7851f",
   "outputs": [
    {
     "name": "stdout",
     "output_type": "stream",
     "text": [
      "0.1881643078645048\n"
     ]
    }
   ],
   "execution_count": 47
  },
  {
   "metadata": {
    "ExecuteTime": {
     "end_time": "2025-05-15T23:24:22.328126Z",
     "start_time": "2025-05-15T23:24:22.312537Z"
    }
   },
   "cell_type": "code",
   "source": [
    "S_a = S_b * np.sqrt(np.mean(X**2))\n",
    "print(S_a)"
   ],
   "id": "22fe8922d753293d",
   "outputs": [
    {
     "name": "stdout",
     "output_type": "stream",
     "text": [
      "1.524143799293108\n"
     ]
    }
   ],
   "execution_count": 48
  },
  {
   "metadata": {
    "ExecuteTime": {
     "end_time": "2025-05-15T23:24:22.397254Z",
     "start_time": "2025-05-15T23:24:22.374998Z"
    }
   },
   "cell_type": "code",
   "source": [
    "t_a = a / S_a\n",
    "print(t_a)"
   ],
   "id": "caf7ccd1017b1c7f",
   "outputs": [
    {
     "name": "stdout",
     "output_type": "stream",
     "text": [
      "7.40877146828128\n"
     ]
    }
   ],
   "execution_count": 49
  },
  {
   "metadata": {
    "ExecuteTime": {
     "end_time": "2025-05-15T23:24:22.460058Z",
     "start_time": "2025-05-15T23:24:22.444391Z"
    }
   },
   "cell_type": "code",
   "source": [
    "t_b = b / S_b\n",
    "print(t_b)"
   ],
   "id": "b705991571dd017b",
   "outputs": [
    {
     "name": "stdout",
     "output_type": "stream",
     "text": [
      "37.03640736957544\n"
     ]
    }
   ],
   "execution_count": 50
  },
  {
   "metadata": {
    "ExecuteTime": {
     "end_time": "2025-05-15T23:24:22.528690Z",
     "start_time": "2025-05-15T23:24:22.513097Z"
    }
   },
   "cell_type": "code",
   "source": [
    "t_crit = stats.t.ppf(1-alpha/2, n-2)\n",
    "print(f\"t табл = {t_crit}\")"
   ],
   "id": "f78504279fb3f7c3",
   "outputs": [
    {
     "name": "stdout",
     "output_type": "stream",
     "text": [
      "t табл = 2.119905299221011\n"
     ]
    }
   ],
   "execution_count": 51
  },
  {
   "metadata": {
    "ExecuteTime": {
     "end_time": "2025-05-15T23:24:22.575598Z",
     "start_time": "2025-05-15T23:24:22.559932Z"
    }
   },
   "cell_type": "code",
   "source": [
    "if abs(t_b) > t_crit:\n",
    "    print(f'Оскільки t_спост > t_крит, то гіпотеза H0 відхиляється. Параметр b є значущим при a = {alpha}.')\n",
    "else:\n",
    "    print(f'Оскільки t_спост < t_крит, то гіпотезу H0 не відхиляємо. Параметр b не є значущим при a = {alpha}.')\n"
   ],
   "id": "82e718dbbb7b8308",
   "outputs": [
    {
     "name": "stdout",
     "output_type": "stream",
     "text": [
      "Оскільки t_спост > t_крит, то гіпотеза H0 відхиляється. Параметр b є значущим при a = 0.05.\n"
     ]
    }
   ],
   "execution_count": 52
  },
  {
   "metadata": {
    "ExecuteTime": {
     "end_time": "2025-05-15T23:24:22.629948Z",
     "start_time": "2025-05-15T23:24:22.614415Z"
    }
   },
   "cell_type": "code",
   "source": [
    "\n",
    "if abs(t_a) > t_crit:\n",
    "    print(f'Оскільки t_спост > t_крит, то гіпотеза H0 відхиляється. Параметр a є значущим при a = {alpha}.')\n",
    "else:\n",
    "    print(f'Оскільки t_спост < t_крит, то гіпотезу H0 не відхиляємо. Параметр a не є значущим при a = {alpha}.')\n"
   ],
   "id": "73fd56aa7f6aeea2",
   "outputs": [
    {
     "name": "stdout",
     "output_type": "stream",
     "text": [
      "Оскільки t_спост > t_крит, то гіпотеза H0 відхиляється. Параметр a є значущим при a = 0.05.\n"
     ]
    }
   ],
   "execution_count": 53
  },
  {
   "metadata": {
    "ExecuteTime": {
     "end_time": "2025-05-15T23:24:22.676899Z",
     "start_time": "2025-05-15T23:24:22.661284Z"
    }
   },
   "cell_type": "code",
   "source": [
    "delt_a = t_crit * S_a\n",
    "delt_b = t_crit * S_b\n",
    "print(f\"delt_a = {delt_a}\")\n",
    "print(f\"delt_b = {delt_b}\")"
   ],
   "id": "a53197a618ee4f00",
   "outputs": [
    {
     "name": "stdout",
     "output_type": "stream",
     "text": [
      "delt_a = 3.231040516896304\n",
      "delt_b = 0.39889051336621745\n"
     ]
    }
   ],
   "execution_count": 54
  },
  {
   "metadata": {
    "ExecuteTime": {
     "end_time": "2025-05-15T23:24:22.744224Z",
     "start_time": "2025-05-15T23:24:22.728595Z"
    }
   },
   "cell_type": "code",
   "source": [
    "print(f\"a є ({a- delt_a} ; {a+ delt_a})\")\n",
    "print(f\"b є ({b- delt_b} ; {b+ delt_b})\")"
   ],
   "id": "85ba0fdd351372ce",
   "outputs": [
    {
     "name": "stdout",
     "output_type": "stream",
     "text": [
      "a є (8.060992576864304 ; 14.523073610656912)\n",
      "b є (6.57003944511779 ; 7.367820471850226)\n"
     ]
    }
   ],
   "execution_count": 55
  },
  {
   "metadata": {
    "ExecuteTime": {
     "end_time": "2025-05-15T23:24:22.797789Z",
     "start_time": "2025-05-15T23:24:22.775516Z"
    }
   },
   "cell_type": "code",
   "source": [
    "if (a - delt_a) < 0 < (a + delt_a):\n",
    "    print(\"Виправлений a\")\n",
    "    print(f\"a є (0 ; {a+ delt_a})\")\n",
    "if (b - delt_b) < 0 < (b + delt_b):\n",
    "    print(\"Виправлений b\")\n",
    "    print(f\"b є (0 ; {b+ delt_b})\")"
   ],
   "id": "5c3b5bbd05b0cfd9",
   "outputs": [],
   "execution_count": 56
  },
  {
   "metadata": {
    "ExecuteTime": {
     "end_time": "2025-05-15T23:24:22.844664Z",
     "start_time": "2025-05-15T23:24:22.829023Z"
    }
   },
   "cell_type": "code",
   "source": [
    "y_p = a + b*x_p\n",
    "print(y_p)"
   ],
   "id": "dd712bd1c5a3e682",
   "outputs": [
    {
     "name": "stdout",
     "output_type": "stream",
     "text": [
      "98.40365757481071\n"
     ]
    }
   ],
   "execution_count": 57
  },
  {
   "metadata": {
    "ExecuteTime": {
     "end_time": "2025-05-15T23:24:22.913762Z",
     "start_time": "2025-05-15T23:24:22.898158Z"
    }
   },
   "cell_type": "code",
   "source": [
    "delta_y_p = t_crit * S_rem * np.sqrt(1 + 1 / n + np.pow(x_p - x_b, 2) / np.sum(np.pow(X - x_b, 2)))\n",
    "print(delta_y_p)"
   ],
   "id": "a4e15e76af2eb82b",
   "outputs": [
    {
     "name": "stdout",
     "output_type": "stream",
     "text": [
      "5.1987710051712845\n"
     ]
    }
   ],
   "execution_count": 58
  },
  {
   "metadata": {
    "ExecuteTime": {
     "end_time": "2025-05-15T23:24:22.982251Z",
     "start_time": "2025-05-15T23:24:22.960671Z"
    }
   },
   "cell_type": "code",
   "source": "print(f\"delta_y_p є ({y_p - delta_y_p}; {y_p + delta_y_p})\")",
   "id": "11527a82062afcfc",
   "outputs": [
    {
     "name": "stdout",
     "output_type": "stream",
     "text": [
      "delta_y_p є (93.20488656963943; 103.60242857998199)\n"
     ]
    }
   ],
   "execution_count": 59
  }
 ],
 "metadata": {
  "kernelspec": {
   "display_name": "Python 3",
   "language": "python",
   "name": "python3"
  },
  "language_info": {
   "codemirror_mode": {
    "name": "ipython",
    "version": 2
   },
   "file_extension": ".py",
   "mimetype": "text/x-python",
   "name": "python",
   "nbconvert_exporter": "python",
   "pygments_lexer": "ipython2",
   "version": "2.7.6"
  }
 },
 "nbformat": 4,
 "nbformat_minor": 5
}
