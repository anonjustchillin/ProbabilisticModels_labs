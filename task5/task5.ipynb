{
 "cells": [
  {
   "cell_type": "code",
   "id": "initial_id",
   "metadata": {
    "collapsed": true,
    "ExecuteTime": {
     "end_time": "2025-03-28T16:53:32.563843Z",
     "start_time": "2025-03-28T16:53:32.532513Z"
    }
   },
   "source": [
    "import numpy as np\n",
    "import matplotlib.pyplot as plt\n",
    "from prettytable import PrettyTable\n",
    "from task1.poly_plot import plot_dsd\n",
    "from task1.poly_plot import plot_isd"
   ],
   "outputs": [],
   "execution_count": 44
  },
  {
   "metadata": {
    "ExecuteTime": {
     "end_time": "2025-03-28T16:53:32.579390Z",
     "start_time": "2025-03-28T16:53:32.563843Z"
    }
   },
   "cell_type": "code",
   "source": [
    "x_i = np.array([4.2, 4.28, 4.36, 4.44, 4.52, 4.6, 4.68, 4.76, 4.84, 4.92, 5])\n",
    "counts = np.array([2, 6, 10, 14, 16, 8, 6, 4, 2, 1])\n",
    "n = np.sum(counts)\n",
    "a = 0.01\n",
    "\n",
    "h = x_i[1] - x_i[0]"
   ],
   "id": "eae3cc898b126b00",
   "outputs": [],
   "execution_count": 45
  },
  {
   "metadata": {
    "ExecuteTime": {
     "end_time": "2025-03-28T16:53:32.601690Z",
     "start_time": "2025-03-28T16:53:32.579390Z"
    }
   },
   "cell_type": "code",
   "source": "print(f'n = {n}')",
   "id": "4f3401c91867b20e",
   "outputs": [
    {
     "name": "stdout",
     "output_type": "stream",
     "text": [
      "n = 69\n"
     ]
    }
   ],
   "execution_count": 46
  },
  {
   "metadata": {
    "ExecuteTime": {
     "end_time": "2025-03-28T16:53:32.617315Z",
     "start_time": "2025-03-28T16:53:32.601690Z"
    }
   },
   "cell_type": "code",
   "source": "print(f'h = {h: .3f}')",
   "id": "85f2f56981dda85e",
   "outputs": [
    {
     "name": "stdout",
     "output_type": "stream",
     "text": [
      "h =  0.080\n"
     ]
    }
   ],
   "execution_count": 47
  },
  {
   "metadata": {
    "ExecuteTime": {
     "end_time": "2025-03-28T16:53:32.717456Z",
     "start_time": "2025-03-28T16:53:32.617315Z"
    }
   },
   "cell_type": "code",
   "source": [
    "w_div_h = []\n",
    "for i in counts:\n",
    "    w_div_h.append(round(i/(n*h), 6))\n",
    "\n",
    "plot_isd(x_i, w_div_h)"
   ],
   "id": "1034e2d9c90f2f1a",
   "outputs": [
    {
     "data": {
      "text/plain": [
       "<Figure size 640x480 with 1 Axes>"
      ],
      "image/png": "[encoded data removed]"
     },
     "metadata": {},
     "output_type": "display_data"
    }
   ],
   "execution_count": 48
  },
  {
   "metadata": {
    "ExecuteTime": {
     "end_time": "2025-03-28T16:53:32.733089Z",
     "start_time": "2025-03-28T16:53:32.717456Z"
    }
   },
   "cell_type": "code",
   "source": [
    "values = []\n",
    "for i in range(np.size(x_i)-1):\n",
    "    num = x_i[i]+x_i[i+1]\n",
    "    num /= 2\n",
    "    values.append(num)"
   ],
   "id": "13e063b088344d5f",
   "outputs": [],
   "execution_count": 49
  },
  {
   "metadata": {
    "ExecuteTime": {
     "end_time": "2025-03-28T16:53:32.750671Z",
     "start_time": "2025-03-28T16:53:32.734954Z"
    }
   },
   "cell_type": "code",
   "source": [
    "table = PrettyTable()\n",
    "table.field_names = [\"i\", \"x_i\", \"n_i\"]\n",
    "for i in range(np.size(values)):\n",
    "    table.add_row([i+1, values[i], counts[i]])\n",
    "print(table)"
   ],
   "id": "980d22f770848ca3",
   "outputs": [
    {
     "name": "stdout",
     "output_type": "stream",
     "text": [
      "+----+------+-----+\n",
      "| i  | x_i  | n_i |\n",
      "+----+------+-----+\n",
      "| 1  | 4.24 |  2  |\n",
      "| 2  | 4.32 |  6  |\n",
      "| 3  | 4.4  |  10 |\n",
      "| 4  | 4.48 |  14 |\n",
      "| 5  | 4.56 |  16 |\n",
      "| 6  | 4.64 |  8  |\n",
      "| 7  | 4.72 |  6  |\n",
      "| 8  | 4.8  |  4  |\n",
      "| 9  | 4.88 |  2  |\n",
      "| 10 | 4.96 |  1  |\n",
      "+----+------+-----+\n"
     ]
    }
   ],
   "execution_count": 50
  },
  {
   "metadata": {
    "ExecuteTime": {
     "end_time": "2025-03-28T16:53:32.766209Z",
     "start_time": "2025-03-28T16:53:32.750671Z"
    }
   },
   "cell_type": "code",
   "source": [
    "x_b = round(np.sum(values * counts) / n, 3)\n",
    "print(f'x_b = {x_b}')"
   ],
   "id": "4433ff6365fd869a",
   "outputs": [
    {
     "name": "stdout",
     "output_type": "stream",
     "text": [
      "x_b = 4.543\n"
     ]
    }
   ],
   "execution_count": 51
  },
  {
   "metadata": {
    "ExecuteTime": {
     "end_time": "2025-03-28T16:53:32.781875Z",
     "start_time": "2025-03-28T16:53:32.766209Z"
    }
   },
   "cell_type": "code",
   "source": [
    "d = round(np.sum(np.power(values, 2) * counts) / np.sum(counts) - np.power(4.54, 2), 3)\n",
    "print(f\"D_b = {d}\")"
   ],
   "id": "3d6843e4dde1e41a",
   "outputs": [
    {
     "name": "stdout",
     "output_type": "stream",
     "text": [
      "D_b = 0.048\n"
     ]
    }
   ],
   "execution_count": 52
  },
  {
   "metadata": {
    "ExecuteTime": {
     "end_time": "2025-03-28T16:53:32.802070Z",
     "start_time": "2025-03-28T16:53:32.781875Z"
    }
   },
   "cell_type": "code",
   "source": [
    "sigma = round(np.sqrt(d), 3)\n",
    "print(f\"sigma = {sigma}\")"
   ],
   "id": "2ac8de1819f88227",
   "outputs": [
    {
     "name": "stdout",
     "output_type": "stream",
     "text": [
      "sigma = 0.219\n"
     ]
    }
   ],
   "execution_count": 53
  },
  {
   "metadata": {
    "ExecuteTime": {
     "end_time": "2025-03-28T17:00:18.605212Z",
     "start_time": "2025-03-28T17:00:18.589750Z"
    }
   },
   "cell_type": "code",
   "source": [
    "def calc_z_i(x, x_b, sigma):\n",
    "    return (x - x_b)/sigma\n",
    "\n",
    "z = []\n",
    "for i in range(len(x_i)):\n",
    "    if i == 0:\n",
    "        z.append(0)\n",
    "    elif i == len(x_i)-1:\n",
    "        z.append(0)\n",
    "    else:\n",
    "        num = calc_z_i(x_i[i], x_b, sigma)\n",
    "        z.append(num)"
   ],
   "id": "744fdc5e25579f71",
   "outputs": [],
   "execution_count": 59
  },
  {
   "metadata": {
    "ExecuteTime": {
     "end_time": "2025-03-28T16:53:32.833327Z",
     "start_time": "2025-03-28T16:53:32.817692Z"
    }
   },
   "cell_type": "code",
   "source": [
    "from scipy.special import erf\n",
    "Phi = lambda x: erf(x/2**0.5)/2"
   ],
   "id": "377b0390ccfff994",
   "outputs": [],
   "execution_count": 55
  },
  {
   "metadata": {
    "ExecuteTime": {
     "end_time": "2025-03-28T17:00:21.625738Z",
     "start_time": "2025-03-28T17:00:21.610213Z"
    }
   },
   "cell_type": "code",
   "source": [
    "Phi_z = []\n",
    "for i in range(len(z)):\n",
    "    if i == 0:\n",
    "        Phi_z.append(-0.5)\n",
    "    elif i == len(z)-1:\n",
    "        Phi_z.append(0.5)\n",
    "    else:\n",
    "        num = Phi(z[i])\n",
    "        Phi_z.append(num)"
   ],
   "id": "262c79d5431126a4",
   "outputs": [],
   "execution_count": 60
  },
  {
   "metadata": {
    "ExecuteTime": {
     "end_time": "2025-03-28T17:12:00.277232Z",
     "start_time": "2025-03-28T17:12:00.252509Z"
    }
   },
   "cell_type": "code",
   "source": [
    "P = []\n",
    "for i in range(len(Phi_z)-1):\n",
    "    P.append(Phi_z[i+1] - Phi_z[i])"
   ],
   "id": "43d06079e3f9e1cc",
   "outputs": [],
   "execution_count": 66
  },
  {
   "metadata": {
    "ExecuteTime": {
     "end_time": "2025-03-28T17:12:02.212533Z",
     "start_time": "2025-03-28T17:12:02.177109Z"
    }
   },
   "cell_type": "code",
   "source": [
    "table = PrettyTable()\n",
    "table.field_names = [\"i\", \"x_i\", \"x_i+1\", \"z_i\", \"z_i+1\",\"Ф(z_i)\", \"Ф(z_i+1)\", \"P_i\"]\n",
    "\n",
    "for i in range(len(z)-1):\n",
    "    \n",
    "    table.add_row([i+1,\n",
    "                   x_i[i],\n",
    "                   x_i[i+1],\n",
    "                   round(z[i], 4) if i != 0 else \"-inf\",\n",
    "                   round(z[i+1], 4) if i+1 != len(z)-1 else \"+inf\",\n",
    "                   round(Phi_z[i], 4),\n",
    "                   round(Phi_z[i+1], 4),\n",
    "                   round(P[i], 4),])\n",
    "\n",
    "table.add_row([\"-\",\n",
    "               \"-\",\n",
    "               \"-\",\n",
    "               \"-\",\n",
    "               \"-\",\n",
    "               \"-\",\n",
    "               \"Сума\",\n",
    "               round(np.sum(P), 4)\n",
    "               ])\n",
    "table"
   ],
   "id": "f5211d452b1d2a65",
   "outputs": [
    {
     "data": {
      "text/plain": [
       "+----+------+-------+---------+---------+---------+----------+--------+\n",
       "| i  | x_i  | x_i+1 |   z_i   |  z_i+1  |  Ф(z_i) | Ф(z_i+1) |  P_i   |\n",
       "+----+------+-------+---------+---------+---------+----------+--------+\n",
       "| 1  | 4.2  |  4.28 |   -inf  | -1.2009 |   -0.5  | -0.3851  | 0.1149 |\n",
       "| 2  | 4.28 |  4.36 | -1.2009 | -0.8356 | -0.3851 | -0.2983  | 0.0868 |\n",
       "| 3  | 4.36 |  4.44 | -0.8356 | -0.4703 | -0.2983 | -0.1809  | 0.1174 |\n",
       "| 4  | 4.44 |  4.52 | -0.4703 |  -0.105 | -0.1809 | -0.0418  | 0.1391 |\n",
       "| 5  | 4.52 |  4.6  |  -0.105 |  0.2603 | -0.0418 |  0.1027  | 0.1445 |\n",
       "| 6  | 4.6  |  4.68 |  0.2603 |  0.6256 |  0.1027 |  0.2342  | 0.1315 |\n",
       "| 7  | 4.68 |  4.76 |  0.6256 |  0.9909 |  0.2342 |  0.3391  | 0.1049 |\n",
       "| 8  | 4.76 |  4.84 |  0.9909 |  1.3562 |  0.3391 |  0.4125  | 0.0734 |\n",
       "| 9  | 4.84 |  4.92 |  1.3562 |  1.7215 |  0.4125 |  0.4574  | 0.0449 |\n",
       "| 10 | 4.92 |  5.0  |  1.7215 |   +inf  |  0.4574 |   0.5    | 0.0426 |\n",
       "| -  |  -   |   -   |    -    |    -    |    -    |   Сума   |  1.0   |\n",
       "+----+------+-------+---------+---------+---------+----------+--------+"
      ],
      "text/html": [
       "<table>\n",
       "    <thead>\n",
       "        <tr>\n",
       "            <th>i</th>\n",
       "            <th>x_i</th>\n",
       "            <th>x_i+1</th>\n",
       "            <th>z_i</th>\n",
       "            <th>z_i+1</th>\n",
       "            <th>Ф(z_i)</th>\n",
       "            <th>Ф(z_i+1)</th>\n",
       "            <th>P_i</th>\n",
       "        </tr>\n",
       "    </thead>\n",
       "    <tbody>\n",
       "        <tr>\n",
       "            <td>1</td>\n",
       "            <td>4.2</td>\n",
       "            <td>4.28</td>\n",
       "            <td>-inf</td>\n",
       "            <td>-1.2009</td>\n",
       "            <td>-0.5</td>\n",
       "            <td>-0.3851</td>\n",
       "            <td>0.1149</td>\n",
       "        </tr>\n",
       "        <tr>\n",
       "            <td>2</td>\n",
       "            <td>4.28</td>\n",
       "            <td>4.36</td>\n",
       "            <td>-1.2009</td>\n",
       "            <td>-0.8356</td>\n",
       "            <td>-0.3851</td>\n",
       "            <td>-0.2983</td>\n",
       "            <td>0.0868</td>\n",
       "        </tr>\n",
       "        <tr>\n",
       "            <td>3</td>\n",
       "            <td>4.36</td>\n",
       "            <td>4.44</td>\n",
       "            <td>-0.8356</td>\n",
       "            <td>-0.4703</td>\n",
       "            <td>-0.2983</td>\n",
       "            <td>-0.1809</td>\n",
       "            <td>0.1174</td>\n",
       "        </tr>\n",
       "        <tr>\n",
       "            <td>4</td>\n",
       "            <td>4.44</td>\n",
       "            <td>4.52</td>\n",
       "            <td>-0.4703</td>\n",
       "            <td>-0.105</td>\n",
       "            <td>-0.1809</td>\n",
       "            <td>-0.0418</td>\n",
       "            <td>0.1391</td>\n",
       "        </tr>\n",
       "        <tr>\n",
       "            <td>5</td>\n",
       "            <td>4.52</td>\n",
       "            <td>4.6</td>\n",
       "            <td>-0.105</td>\n",
       "            <td>0.2603</td>\n",
       "            <td>-0.0418</td>\n",
       "            <td>0.1027</td>\n",
       "            <td>0.1445</td>\n",
       "        </tr>\n",
       "        <tr>\n",
       "            <td>6</td>\n",
       "            <td>4.6</td>\n",
       "            <td>4.68</td>\n",
       "            <td>0.2603</td>\n",
       "            <td>0.6256</td>\n",
       "            <td>0.1027</td>\n",
       "            <td>0.2342</td>\n",
       "            <td>0.1315</td>\n",
       "        </tr>\n",
       "        <tr>\n",
       "            <td>7</td>\n",
       "            <td>4.68</td>\n",
       "            <td>4.76</td>\n",
       "            <td>0.6256</td>\n",
       "            <td>0.9909</td>\n",
       "            <td>0.2342</td>\n",
       "            <td>0.3391</td>\n",
       "            <td>0.1049</td>\n",
       "        </tr>\n",
       "        <tr>\n",
       "            <td>8</td>\n",
       "            <td>4.76</td>\n",
       "            <td>4.84</td>\n",
       "            <td>0.9909</td>\n",
       "            <td>1.3562</td>\n",
       "            <td>0.3391</td>\n",
       "            <td>0.4125</td>\n",
       "            <td>0.0734</td>\n",
       "        </tr>\n",
       "        <tr>\n",
       "            <td>9</td>\n",
       "            <td>4.84</td>\n",
       "            <td>4.92</td>\n",
       "            <td>1.3562</td>\n",
       "            <td>1.7215</td>\n",
       "            <td>0.4125</td>\n",
       "            <td>0.4574</td>\n",
       "            <td>0.0449</td>\n",
       "        </tr>\n",
       "        <tr>\n",
       "            <td>10</td>\n",
       "            <td>4.92</td>\n",
       "            <td>5.0</td>\n",
       "            <td>1.7215</td>\n",
       "            <td>+inf</td>\n",
       "            <td>0.4574</td>\n",
       "            <td>0.5</td>\n",
       "            <td>0.0426</td>\n",
       "        </tr>\n",
       "        <tr>\n",
       "            <td>-</td>\n",
       "            <td>-</td>\n",
       "            <td>-</td>\n",
       "            <td>-</td>\n",
       "            <td>-</td>\n",
       "            <td>-</td>\n",
       "            <td>Сума</td>\n",
       "            <td>1.0</td>\n",
       "        </tr>\n",
       "    </tbody>\n",
       "</table>"
      ]
     },
     "execution_count": 67,
     "metadata": {},
     "output_type": "execute_result"
    }
   ],
   "execution_count": 67
  },
  {
   "metadata": {
    "ExecuteTime": {
     "end_time": "2025-03-28T17:19:01.062510Z",
     "start_time": "2025-03-28T17:19:01.053711Z"
    }
   },
   "cell_type": "code",
   "source": [
    "n1 = []\n",
    "for i in P:\n",
    "    n1.append(n*i)\n",
    "\n",
    "sub_n = []\n",
    "for i in range(len(counts)):\n",
    "    sub_n.append(counts[i]-n1[i])\n",
    "\n",
    "sub_n2 = []\n",
    "for i in sub_n:\n",
    "    sub_n2.append(np.pow(i, 2))\n",
    "\n",
    "frac_sub_n2 = []\n",
    "for i in range(len(sub_n2)):\n",
    "    frac_sub_n2.append(sub_n2[i] / n1[i])"
   ],
   "id": "8f004d4e8954474e",
   "outputs": [],
   "execution_count": 79
  },
  {
   "metadata": {
    "ExecuteTime": {
     "end_time": "2025-03-28T17:19:02.434173Z",
     "start_time": "2025-03-28T17:19:02.405933Z"
    }
   },
   "cell_type": "code",
   "source": [
    "table = PrettyTable()\n",
    "table.field_names = [\"i\", \"n_i\", \"n'_i\", \"n_i-n'_i\", \"(n_i-n'_i)^2\", \"(n_i-n'_i)^2 / n'_i\"]\n",
    "\n",
    "for i in range(len(counts)):\n",
    "    table.add_row([i+1,\n",
    "                   counts[i],\n",
    "                   round(n1[i], 4),\n",
    "                   round(sub_n[i], 4),\n",
    "                   round(sub_n2[i], 4),\n",
    "                   round(frac_sub_n2[i], 4)])\n",
    "\n",
    "table.add_row([\"Сума\",\n",
    "               np.sum(counts),\n",
    "               np.sum(n1),\n",
    "               \"-\",\n",
    "               \"-\",\n",
    "               round(np.sum(frac_sub_n2), 4)\n",
    "               ])\n",
    "table"
   ],
   "id": "9bb86a6e6d9c8921",
   "outputs": [
    {
     "data": {
      "text/plain": [
       "+------+-----+--------+----------+--------------+---------------------+\n",
       "|  i   | n_i |  n'_i  | n_i-n'_i | (n_i-n'_i)^2 | (n_i-n'_i)^2 / n'_i |\n",
       "+------+-----+--------+----------+--------------+---------------------+\n",
       "|  1   |  2  | 7.9276 | -5.9276  |   35.1362    |        4.4321       |\n",
       "|  2   |  6  | 5.9887 |  0.0113  |    0.0001    |         0.0         |\n",
       "|  3   |  10 | 8.0991 |  1.9009  |    3.6135    |        0.4462       |\n",
       "|  4   |  14 | 9.599  |  4.401   |   19.3691    |        2.0178       |\n",
       "|  5   |  16 | 9.9702 |  6.0298  |   36.3591    |        3.6468       |\n",
       "|  6   |  8  | 9.0754 | -1.0754  |    1.1565    |        0.1274       |\n",
       "|  7   |  6  | 7.2397 | -1.2397  |    1.5368    |        0.2123       |\n",
       "|  8   |  4  | 5.0613 | -1.0613  |    1.1263    |        0.2225       |\n",
       "|  9   |  2  | 3.1008 | -1.1008  |    1.2119    |        0.3908       |\n",
       "|  10  |  1  | 2.9383 | -1.9383  |    3.7569    |        1.2786       |\n",
       "| Сума |  69 |  69.0  |    -     |      -       |       12.7746       |\n",
       "+------+-----+--------+----------+--------------+---------------------+"
      ],
      "text/html": [
       "<table>\n",
       "    <thead>\n",
       "        <tr>\n",
       "            <th>i</th>\n",
       "            <th>n_i</th>\n",
       "            <th>n&#x27;_i</th>\n",
       "            <th>n_i-n&#x27;_i</th>\n",
       "            <th>(n_i-n&#x27;_i)^2</th>\n",
       "            <th>(n_i-n&#x27;_i)^2 / n&#x27;_i</th>\n",
       "        </tr>\n",
       "    </thead>\n",
       "    <tbody>\n",
       "        <tr>\n",
       "            <td>1</td>\n",
       "            <td>2</td>\n",
       "            <td>7.9276</td>\n",
       "            <td>-5.9276</td>\n",
       "            <td>35.1362</td>\n",
       "            <td>4.4321</td>\n",
       "        </tr>\n",
       "        <tr>\n",
       "            <td>2</td>\n",
       "            <td>6</td>\n",
       "            <td>5.9887</td>\n",
       "            <td>0.0113</td>\n",
       "            <td>0.0001</td>\n",
       "            <td>0.0</td>\n",
       "        </tr>\n",
       "        <tr>\n",
       "            <td>3</td>\n",
       "            <td>10</td>\n",
       "            <td>8.0991</td>\n",
       "            <td>1.9009</td>\n",
       "            <td>3.6135</td>\n",
       "            <td>0.4462</td>\n",
       "        </tr>\n",
       "        <tr>\n",
       "            <td>4</td>\n",
       "            <td>14</td>\n",
       "            <td>9.599</td>\n",
       "            <td>4.401</td>\n",
       "            <td>19.3691</td>\n",
       "            <td>2.0178</td>\n",
       "        </tr>\n",
       "        <tr>\n",
       "            <td>5</td>\n",
       "            <td>16</td>\n",
       "            <td>9.9702</td>\n",
       "            <td>6.0298</td>\n",
       "            <td>36.3591</td>\n",
       "            <td>3.6468</td>\n",
       "        </tr>\n",
       "        <tr>\n",
       "            <td>6</td>\n",
       "            <td>8</td>\n",
       "            <td>9.0754</td>\n",
       "            <td>-1.0754</td>\n",
       "            <td>1.1565</td>\n",
       "            <td>0.1274</td>\n",
       "        </tr>\n",
       "        <tr>\n",
       "            <td>7</td>\n",
       "            <td>6</td>\n",
       "            <td>7.2397</td>\n",
       "            <td>-1.2397</td>\n",
       "            <td>1.5368</td>\n",
       "            <td>0.2123</td>\n",
       "        </tr>\n",
       "        <tr>\n",
       "            <td>8</td>\n",
       "            <td>4</td>\n",
       "            <td>5.0613</td>\n",
       "            <td>-1.0613</td>\n",
       "            <td>1.1263</td>\n",
       "            <td>0.2225</td>\n",
       "        </tr>\n",
       "        <tr>\n",
       "            <td>9</td>\n",
       "            <td>2</td>\n",
       "            <td>3.1008</td>\n",
       "            <td>-1.1008</td>\n",
       "            <td>1.2119</td>\n",
       "            <td>0.3908</td>\n",
       "        </tr>\n",
       "        <tr>\n",
       "            <td>10</td>\n",
       "            <td>1</td>\n",
       "            <td>2.9383</td>\n",
       "            <td>-1.9383</td>\n",
       "            <td>3.7569</td>\n",
       "            <td>1.2786</td>\n",
       "        </tr>\n",
       "        <tr>\n",
       "            <td>Сума</td>\n",
       "            <td>69</td>\n",
       "            <td>69.0</td>\n",
       "            <td>-</td>\n",
       "            <td>-</td>\n",
       "            <td>12.7746</td>\n",
       "        </tr>\n",
       "    </tbody>\n",
       "</table>"
      ]
     },
     "execution_count": 80,
     "metadata": {},
     "output_type": "execute_result"
    }
   ],
   "execution_count": 80
  },
  {
   "metadata": {
    "ExecuteTime": {
     "end_time": "2025-03-28T17:23:18.223138Z",
     "start_time": "2025-03-28T17:23:18.208101Z"
    }
   },
   "cell_type": "code",
   "source": [
    "pearson_observed = np.sum(frac_sub_n2)\n",
    "print(f\"χ^2 спост = {pearson_observed:.4f}\")"
   ],
   "id": "7694c460406e7075",
   "outputs": [
    {
     "name": "stdout",
     "output_type": "stream",
     "text": [
      "χ^2 спост = 12.7746\n"
     ]
    }
   ],
   "execution_count": 82
  },
  {
   "metadata": {
    "ExecuteTime": {
     "end_time": "2025-03-28T17:23:19.004695Z",
     "start_time": "2025-03-28T17:23:18.223138Z"
    }
   },
   "cell_type": "code",
   "source": "from scipy.stats import chi2",
   "id": "1e755d649057b082",
   "outputs": [],
   "execution_count": 83
  },
  {
   "metadata": {
    "ExecuteTime": {
     "end_time": "2025-03-28T17:27:31.231632Z",
     "start_time": "2025-03-28T17:27:31.216167Z"
    }
   },
   "cell_type": "code",
   "source": [
    "k = len(values) - 2 - 1\n",
    "print(f'k = {k}')"
   ],
   "id": "57390078b3b05e2",
   "outputs": [
    {
     "name": "stdout",
     "output_type": "stream",
     "text": [
      "k = 7\n"
     ]
    }
   ],
   "execution_count": 87
  },
  {
   "metadata": {
    "ExecuteTime": {
     "end_time": "2025-03-28T17:27:47.217735Z",
     "start_time": "2025-03-28T17:27:47.186480Z"
    }
   },
   "cell_type": "code",
   "source": [
    "critical_value = chi2.ppf(1 - a, k)\n",
    "print(f\"Критичне значення χ^2 для α = {a} та k = {k}: {critical_value:.4f}\")"
   ],
   "id": "42d13b4b135d5e6b",
   "outputs": [
    {
     "name": "stdout",
     "output_type": "stream",
     "text": [
      "Критичне значення χ^2 для α = 0.01 та k = 7: 18.4753\n"
     ]
    }
   ],
   "execution_count": 90
  },
  {
   "metadata": {
    "ExecuteTime": {
     "end_time": "2025-03-28T17:27:33.903322Z",
     "start_time": "2025-03-28T17:27:33.890142Z"
    }
   },
   "cell_type": "code",
   "source": [
    "if pearson_observed < critical_value:\n",
    "    print(\"Оскільки χ^2спост < χ^2кр, гіпотезу про розподіл ознаки генеральної сукупності не відхиляємо\")\n",
    "else:\n",
    "    print(\"Оскільки χ^2спост > χ^2кр, гіпотезу про розподіл ознаки генеральної сукупності відхиляємо\")"
   ],
   "id": "ab0a2df06aaf9fc4",
   "outputs": [
    {
     "name": "stdout",
     "output_type": "stream",
     "text": [
      "Оскільки χ^2спост < χ^2кр, гіпотезу про розподіл ознаки генеральної сукупності не відхиляємо\n"
     ]
    }
   ],
   "execution_count": 89
  }
 ],
 "metadata": {
  "kernelspec": {
   "display_name": "Python 3",
   "language": "python",
   "name": "python3"
  },
  "language_info": {
   "codemirror_mode": {
    "name": "ipython",
    "version": 2
   },
   "file_extension": ".py",
   "mimetype": "text/x-python",
   "name": "python",
   "nbconvert_exporter": "python",
   "pygments_lexer": "ipython2",
   "version": "2.7.6"
  }
 },
 "nbformat": 4,
 "nbformat_minor": 5
}
