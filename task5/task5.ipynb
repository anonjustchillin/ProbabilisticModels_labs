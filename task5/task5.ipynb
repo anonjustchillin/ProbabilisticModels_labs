{
 "cells": [
  {
   "cell_type": "code",
   "id": "initial_id",
   "metadata": {
    "collapsed": true,
    "ExecuteTime": {
     "end_time": "2025-03-29T16:29:12.811271Z",
     "start_time": "2025-03-29T16:29:11.337383Z"
    }
   },
   "source": [
    "import numpy as np\n",
    "from prettytable import PrettyTable\n",
    "from task1.poly_plot import plot_isd"
   ],
   "outputs": [],
   "execution_count": 1
  },
  {
   "metadata": {
    "ExecuteTime": {
     "end_time": "2025-03-29T16:29:12.826707Z",
     "start_time": "2025-03-29T16:29:12.812264Z"
    }
   },
   "cell_type": "code",
   "source": [
    "x_i = np.array([4.2, 4.28, 4.36, 4.44, 4.52, 4.6, 4.68, 4.76, 4.84, 4.92, 5])\n",
    "counts = np.array([2, 6, 10, 14, 16, 8, 6, 4, 2, 1])\n",
    "n = np.sum(counts)\n",
    "a = 0.01\n",
    "\n",
    "h = x_i[1] - x_i[0]"
   ],
   "id": "eae3cc898b126b00",
   "outputs": [],
   "execution_count": 2
  },
  {
   "metadata": {
    "ExecuteTime": {
     "end_time": "2025-03-29T16:29:12.842356Z",
     "start_time": "2025-03-29T16:29:12.829055Z"
    }
   },
   "cell_type": "code",
   "source": "print(f'n = {n}')",
   "id": "4f3401c91867b20e",
   "outputs": [
    {
     "name": "stdout",
     "output_type": "stream",
     "text": [
      "n = 114\n"
     ]
    }
   ],
   "execution_count": 3
  },
  {
   "metadata": {
    "ExecuteTime": {
     "end_time": "2025-03-29T16:29:12.857842Z",
     "start_time": "2025-03-29T16:29:12.844354Z"
    }
   },
   "cell_type": "code",
   "source": "print(f'h = {h: .3f}')",
   "id": "85f2f56981dda85e",
   "outputs": [
    {
     "name": "stdout",
     "output_type": "stream",
     "text": [
      "h =  12.000\n"
     ]
    }
   ],
   "execution_count": 4
  },
  {
   "metadata": {
    "ExecuteTime": {
     "end_time": "2025-03-29T16:29:13.214709Z",
     "start_time": "2025-03-29T16:29:12.860845Z"
    }
   },
   "cell_type": "code",
   "source": [
    "w_div_h = []\n",
    "for i in counts:\n",
    "    w_div_h.append(round(i/(n*h), 6))\n",
    "\n",
    "plot_isd(x_i, w_div_h)"
   ],
   "id": "1034e2d9c90f2f1a",
   "outputs": [
    {
     "data": {
      "text/plain": [
       "<Figure size 640x480 with 1 Axes>"
      ],
      "image/png": "[encoded data removed]"
     },
     "metadata": {},
     "output_type": "display_data"
    }
   ],
   "execution_count": 5
  },
  {
   "metadata": {
    "ExecuteTime": {
     "end_time": "2025-03-29T16:29:13.230238Z",
     "start_time": "2025-03-29T16:29:13.216958Z"
    }
   },
   "cell_type": "code",
   "source": [
    "values = []\n",
    "for i in range(np.size(x_i)-1):\n",
    "    num = x_i[i]+x_i[i+1]\n",
    "    num /= 2\n",
    "    values.append(num)"
   ],
   "id": "13e063b088344d5f",
   "outputs": [],
   "execution_count": 6
  },
  {
   "metadata": {
    "ExecuteTime": {
     "end_time": "2025-03-29T16:29:13.246037Z",
     "start_time": "2025-03-29T16:29:13.232237Z"
    }
   },
   "cell_type": "code",
   "source": [
    "table = PrettyTable()\n",
    "table.field_names = [\"i\", \"x_i\", \"n_i\"]\n",
    "for i in range(np.size(values)):\n",
    "    table.add_row([i+1, values[i], counts[i]])\n",
    "print(table)"
   ],
   "id": "980d22f770848ca3",
   "outputs": [
    {
     "name": "stdout",
     "output_type": "stream",
     "text": [
      "+----+-------+-----+\n",
      "| i  |  x_i  | n_i |\n",
      "+----+-------+-----+\n",
      "| 1  | 446.0 |  24 |\n",
      "| 2  | 458.0 |  18 |\n",
      "| 3  | 470.0 |  16 |\n",
      "| 4  | 482.0 |  14 |\n",
      "| 5  | 494.0 |  12 |\n",
      "| 6  | 506.0 |  10 |\n",
      "| 7  | 518.0 |  8  |\n",
      "| 8  | 530.0 |  6  |\n",
      "| 9  | 542.0 |  4  |\n",
      "| 10 | 554.0 |  2  |\n",
      "+----+-------+-----+\n"
     ]
    }
   ],
   "execution_count": 7
  },
  {
   "metadata": {
    "ExecuteTime": {
     "end_time": "2025-03-29T16:29:13.261554Z",
     "start_time": "2025-03-29T16:29:13.248267Z"
    }
   },
   "cell_type": "code",
   "source": [
    "x_b = round(np.sum(values * counts) / n, 3)\n",
    "print(f'x_b = {x_b}')"
   ],
   "id": "4433ff6365fd869a",
   "outputs": [
    {
     "name": "stdout",
     "output_type": "stream",
     "text": [
      "x_b = 480.737\n"
     ]
    }
   ],
   "execution_count": 8
  },
  {
   "metadata": {
    "ExecuteTime": {
     "end_time": "2025-03-29T16:29:13.277417Z",
     "start_time": "2025-03-29T16:29:13.262553Z"
    }
   },
   "cell_type": "code",
   "source": [
    "d = round(np.sum(np.power(values, 2) * counts) / np.sum(counts) - np.power(x_b, 2), 3)\n",
    "print(f\"D_b = {d}\")"
   ],
   "id": "3d6843e4dde1e41a",
   "outputs": [
    {
     "name": "stdout",
     "output_type": "stream",
     "text": [
      "D_b = 877.411\n"
     ]
    }
   ],
   "execution_count": 9
  },
  {
   "metadata": {
    "ExecuteTime": {
     "end_time": "2025-03-29T16:29:13.292749Z",
     "start_time": "2025-03-29T16:29:13.279588Z"
    }
   },
   "cell_type": "code",
   "source": [
    "sigma = round(np.sqrt(d), 3)\n",
    "print(f\"sigma = {sigma}\")"
   ],
   "id": "2ac8de1819f88227",
   "outputs": [
    {
     "name": "stdout",
     "output_type": "stream",
     "text": [
      "sigma = 29.621\n"
     ]
    }
   ],
   "execution_count": 10
  },
  {
   "metadata": {
    "ExecuteTime": {
     "end_time": "2025-03-29T16:29:13.308501Z",
     "start_time": "2025-03-29T16:29:13.294750Z"
    }
   },
   "cell_type": "code",
   "source": [
    "def calc_z_i(x, x_b, sigma):\n",
    "    return (x - x_b)/sigma\n",
    "\n",
    "z = []\n",
    "for i in range(len(x_i)):\n",
    "    if i == 0:\n",
    "        z.append(0)\n",
    "    elif i == len(x_i)-1:\n",
    "        z.append(0)\n",
    "    else:\n",
    "        num = calc_z_i(x_i[i], x_b, sigma)\n",
    "        z.append(num)"
   ],
   "id": "744fdc5e25579f71",
   "outputs": [],
   "execution_count": 11
  },
  {
   "metadata": {
    "ExecuteTime": {
     "end_time": "2025-03-29T16:29:16.727962Z",
     "start_time": "2025-03-29T16:29:13.310499Z"
    }
   },
   "cell_type": "code",
   "source": [
    "from scipy.special import erf\n",
    "Phi = lambda x: erf(x/2**0.5)/2"
   ],
   "id": "377b0390ccfff994",
   "outputs": [],
   "execution_count": 12
  },
  {
   "metadata": {
    "ExecuteTime": {
     "end_time": "2025-03-29T16:29:16.743296Z",
     "start_time": "2025-03-29T16:29:16.729960Z"
    }
   },
   "cell_type": "code",
   "source": [
    "Phi_z = []\n",
    "for i in range(len(z)):\n",
    "    if i == 0:\n",
    "        Phi_z.append(-0.5)\n",
    "    elif i == len(z)-1:\n",
    "        Phi_z.append(0.5)\n",
    "    else:\n",
    "        num = Phi(z[i])\n",
    "        Phi_z.append(num)"
   ],
   "id": "262c79d5431126a4",
   "outputs": [],
   "execution_count": 13
  },
  {
   "metadata": {
    "ExecuteTime": {
     "end_time": "2025-03-29T16:29:16.758774Z",
     "start_time": "2025-03-29T16:29:16.746347Z"
    }
   },
   "cell_type": "code",
   "source": [
    "P = []\n",
    "for i in range(len(Phi_z)-1):\n",
    "    P.append(Phi_z[i+1] - Phi_z[i])"
   ],
   "id": "43d06079e3f9e1cc",
   "outputs": [],
   "execution_count": 14
  },
  {
   "metadata": {
    "ExecuteTime": {
     "end_time": "2025-03-29T16:29:16.789694Z",
     "start_time": "2025-03-29T16:29:16.763776Z"
    }
   },
   "cell_type": "code",
   "source": [
    "table = PrettyTable()\n",
    "table.field_names = [\"i\", \"x_i\", \"x_i+1\", \"z_i\", \"z_i+1\",\"Ф(z_i)\", \"Ф(z_i+1)\", \"P_i\"]\n",
    "\n",
    "for i in range(len(z)-1):\n",
    "    \n",
    "    table.add_row([i+1,\n",
    "                   x_i[i],\n",
    "                   x_i[i+1],\n",
    "                   round(z[i], 4) if i != 0 else \"-inf\",\n",
    "                   round(z[i+1], 4) if i+1 != len(z)-1 else \"+inf\",\n",
    "                   round(Phi_z[i], 4),\n",
    "                   round(Phi_z[i+1], 4),\n",
    "                   round(P[i], 4),])\n",
    "\n",
    "table.add_row([\"-\",\n",
    "               \"-\",\n",
    "               \"-\",\n",
    "               \"-\",\n",
    "               \"-\",\n",
    "               \"-\",\n",
    "               \"Сума\",\n",
    "               round(np.sum(P), 4)\n",
    "               ])\n",
    "table"
   ],
   "id": "f5211d452b1d2a65",
   "outputs": [
    {
     "data": {
      "text/plain": [
       "+----+-----+-------+---------+---------+---------+----------+--------+\n",
       "| i  | x_i | x_i+1 |   z_i   |  z_i+1  |  Ф(z_i) | Ф(z_i+1) |  P_i   |\n",
       "+----+-----+-------+---------+---------+---------+----------+--------+\n",
       "| 1  | 440 |  452  |   -inf  | -0.9702 |   -0.5  |  -0.334  | 0.166  |\n",
       "| 2  | 452 |  464  | -0.9702 |  -0.565 |  -0.334 |  -0.214  |  0.12  |\n",
       "| 3  | 464 |  476  |  -0.565 | -0.1599 |  -0.214 | -0.0635  | 0.1504 |\n",
       "| 4  | 476 |  488  | -0.1599 |  0.2452 | -0.0635 |  0.0968  | 0.1604 |\n",
       "| 5  | 488 |  500  |  0.2452 |  0.6503 |  0.0968 |  0.2423  | 0.1454 |\n",
       "| 6  | 500 |  512  |  0.6503 |  1.0554 |  0.2423 |  0.3544  | 0.1121 |\n",
       "| 7  | 512 |  524  |  1.0554 |  1.4606 |  0.3544 |  0.4279  | 0.0735 |\n",
       "| 8  | 524 |  536  |  1.4606 |  1.8657 |  0.4279 |  0.469   | 0.041  |\n",
       "| 9  | 536 |  548  |  1.8657 |  2.2708 |  0.469  |  0.4884  | 0.0195 |\n",
       "| 10 | 548 |  560  |  2.2708 |   +inf  |  0.4884 |   0.5    | 0.0116 |\n",
       "| -  |  -  |   -   |    -    |    -    |    -    |   Сума   |  1.0   |\n",
       "+----+-----+-------+---------+---------+---------+----------+--------+"
      ],
      "text/html": [
       "<table>\n",
       "    <thead>\n",
       "        <tr>\n",
       "            <th>i</th>\n",
       "            <th>x_i</th>\n",
       "            <th>x_i+1</th>\n",
       "            <th>z_i</th>\n",
       "            <th>z_i+1</th>\n",
       "            <th>Ф(z_i)</th>\n",
       "            <th>Ф(z_i+1)</th>\n",
       "            <th>P_i</th>\n",
       "        </tr>\n",
       "    </thead>\n",
       "    <tbody>\n",
       "        <tr>\n",
       "            <td>1</td>\n",
       "            <td>440</td>\n",
       "            <td>452</td>\n",
       "            <td>-inf</td>\n",
       "            <td>-0.9702</td>\n",
       "            <td>-0.5</td>\n",
       "            <td>-0.334</td>\n",
       "            <td>0.166</td>\n",
       "        </tr>\n",
       "        <tr>\n",
       "            <td>2</td>\n",
       "            <td>452</td>\n",
       "            <td>464</td>\n",
       "            <td>-0.9702</td>\n",
       "            <td>-0.565</td>\n",
       "            <td>-0.334</td>\n",
       "            <td>-0.214</td>\n",
       "            <td>0.12</td>\n",
       "        </tr>\n",
       "        <tr>\n",
       "            <td>3</td>\n",
       "            <td>464</td>\n",
       "            <td>476</td>\n",
       "            <td>-0.565</td>\n",
       "            <td>-0.1599</td>\n",
       "            <td>-0.214</td>\n",
       "            <td>-0.0635</td>\n",
       "            <td>0.1504</td>\n",
       "        </tr>\n",
       "        <tr>\n",
       "            <td>4</td>\n",
       "            <td>476</td>\n",
       "            <td>488</td>\n",
       "            <td>-0.1599</td>\n",
       "            <td>0.2452</td>\n",
       "            <td>-0.0635</td>\n",
       "            <td>0.0968</td>\n",
       "            <td>0.1604</td>\n",
       "        </tr>\n",
       "        <tr>\n",
       "            <td>5</td>\n",
       "            <td>488</td>\n",
       "            <td>500</td>\n",
       "            <td>0.2452</td>\n",
       "            <td>0.6503</td>\n",
       "            <td>0.0968</td>\n",
       "            <td>0.2423</td>\n",
       "            <td>0.1454</td>\n",
       "        </tr>\n",
       "        <tr>\n",
       "            <td>6</td>\n",
       "            <td>500</td>\n",
       "            <td>512</td>\n",
       "            <td>0.6503</td>\n",
       "            <td>1.0554</td>\n",
       "            <td>0.2423</td>\n",
       "            <td>0.3544</td>\n",
       "            <td>0.1121</td>\n",
       "        </tr>\n",
       "        <tr>\n",
       "            <td>7</td>\n",
       "            <td>512</td>\n",
       "            <td>524</td>\n",
       "            <td>1.0554</td>\n",
       "            <td>1.4606</td>\n",
       "            <td>0.3544</td>\n",
       "            <td>0.4279</td>\n",
       "            <td>0.0735</td>\n",
       "        </tr>\n",
       "        <tr>\n",
       "            <td>8</td>\n",
       "            <td>524</td>\n",
       "            <td>536</td>\n",
       "            <td>1.4606</td>\n",
       "            <td>1.8657</td>\n",
       "            <td>0.4279</td>\n",
       "            <td>0.469</td>\n",
       "            <td>0.041</td>\n",
       "        </tr>\n",
       "        <tr>\n",
       "            <td>9</td>\n",
       "            <td>536</td>\n",
       "            <td>548</td>\n",
       "            <td>1.8657</td>\n",
       "            <td>2.2708</td>\n",
       "            <td>0.469</td>\n",
       "            <td>0.4884</td>\n",
       "            <td>0.0195</td>\n",
       "        </tr>\n",
       "        <tr>\n",
       "            <td>10</td>\n",
       "            <td>548</td>\n",
       "            <td>560</td>\n",
       "            <td>2.2708</td>\n",
       "            <td>+inf</td>\n",
       "            <td>0.4884</td>\n",
       "            <td>0.5</td>\n",
       "            <td>0.0116</td>\n",
       "        </tr>\n",
       "        <tr>\n",
       "            <td>-</td>\n",
       "            <td>-</td>\n",
       "            <td>-</td>\n",
       "            <td>-</td>\n",
       "            <td>-</td>\n",
       "            <td>-</td>\n",
       "            <td>Сума</td>\n",
       "            <td>1.0</td>\n",
       "        </tr>\n",
       "    </tbody>\n",
       "</table>"
      ]
     },
     "execution_count": 15,
     "metadata": {},
     "output_type": "execute_result"
    }
   ],
   "execution_count": 15
  },
  {
   "metadata": {
    "ExecuteTime": {
     "end_time": "2025-03-29T16:29:16.805071Z",
     "start_time": "2025-03-29T16:29:16.792697Z"
    }
   },
   "cell_type": "code",
   "source": [
    "n1 = []\n",
    "for i in P:\n",
    "    n1.append(n*i)\n",
    "\n",
    "sub_n = []\n",
    "for i in range(len(counts)):\n",
    "    sub_n.append(counts[i]-n1[i])\n",
    "\n",
    "sub_n2 = []\n",
    "for i in sub_n:\n",
    "    sub_n2.append(np.pow(i, 2))\n",
    "\n",
    "frac_sub_n2 = []\n",
    "for i in range(len(sub_n2)):\n",
    "    frac_sub_n2.append(sub_n2[i] / n1[i])"
   ],
   "id": "8f004d4e8954474e",
   "outputs": [],
   "execution_count": 16
  },
  {
   "metadata": {
    "ExecuteTime": {
     "end_time": "2025-03-29T16:29:16.836123Z",
     "start_time": "2025-03-29T16:29:16.807394Z"
    }
   },
   "cell_type": "code",
   "source": [
    "table = PrettyTable()\n",
    "table.field_names = [\"i\", \"n_i\", \"n'_i\", \"n_i-n'_i\", \"(n_i-n'_i)^2\", \"(n_i-n'_i)^2 / n'_i\"]\n",
    "\n",
    "for i in range(len(counts)):\n",
    "    table.add_row([i+1,\n",
    "                   counts[i],\n",
    "                   round(n1[i], 4),\n",
    "                   round(sub_n[i], 4),\n",
    "                   round(sub_n2[i], 4),\n",
    "                   round(frac_sub_n2[i], 4)])\n",
    "\n",
    "table.add_row([\"Сума\",\n",
    "               np.sum(counts),\n",
    "               np.sum(n1),\n",
    "               \"-\",\n",
    "               \"-\",\n",
    "               round(np.sum(frac_sub_n2), 4)\n",
    "               ])\n",
    "table"
   ],
   "id": "9bb86a6e6d9c8921",
   "outputs": [
    {
     "data": {
      "text/plain": [
       "+------+-----+--------------------+----------+--------------+---------------------+\n",
       "|  i   | n_i |        n'_i        | n_i-n'_i | (n_i-n'_i)^2 | (n_i-n'_i)^2 / n'_i |\n",
       "+------+-----+--------------------+----------+--------------+---------------------+\n",
       "|  1   |  24 |      18.9222       |  5.0778  |    25.784    |        1.3626       |\n",
       "|  2   |  18 |      13.6845       |  4.3155  |   18.6235    |        1.3609       |\n",
       "|  3   |  16 |      17.1511       | -1.1511  |    1.325     |        0.0773       |\n",
       "|  4   |  14 |      18.2829       | -4.2829  |   18.3433    |        1.0033       |\n",
       "|  5   |  12 |      16.5765       | -4.5765  |    20.944    |        1.2635       |\n",
       "|  6   |  10 |      12.7829       | -2.7829  |    7.7445    |        0.6058       |\n",
       "|  7   |  8  |       8.384        |  -0.384  |    0.1475    |        0.0176       |\n",
       "|  8   |  6  |       4.6769       |  1.3231  |    1.7506    |        0.3743       |\n",
       "|  9   |  4  |       2.2189       |  1.7811  |    3.1724    |        1.4297       |\n",
       "|  10  |  2  |       1.3201       |  0.6799  |    0.4622    |        0.3502       |\n",
       "| Сума | 114 | 113.99999999999999 |    -     |      -       |        7.8452       |\n",
       "+------+-----+--------------------+----------+--------------+---------------------+"
      ],
      "text/html": [
       "<table>\n",
       "    <thead>\n",
       "        <tr>\n",
       "            <th>i</th>\n",
       "            <th>n_i</th>\n",
       "            <th>n&#x27;_i</th>\n",
       "            <th>n_i-n&#x27;_i</th>\n",
       "            <th>(n_i-n&#x27;_i)^2</th>\n",
       "            <th>(n_i-n&#x27;_i)^2 / n&#x27;_i</th>\n",
       "        </tr>\n",
       "    </thead>\n",
       "    <tbody>\n",
       "        <tr>\n",
       "            <td>1</td>\n",
       "            <td>24</td>\n",
       "            <td>18.9222</td>\n",
       "            <td>5.0778</td>\n",
       "            <td>25.784</td>\n",
       "            <td>1.3626</td>\n",
       "        </tr>\n",
       "        <tr>\n",
       "            <td>2</td>\n",
       "            <td>18</td>\n",
       "            <td>13.6845</td>\n",
       "            <td>4.3155</td>\n",
       "            <td>18.6235</td>\n",
       "            <td>1.3609</td>\n",
       "        </tr>\n",
       "        <tr>\n",
       "            <td>3</td>\n",
       "            <td>16</td>\n",
       "            <td>17.1511</td>\n",
       "            <td>-1.1511</td>\n",
       "            <td>1.325</td>\n",
       "            <td>0.0773</td>\n",
       "        </tr>\n",
       "        <tr>\n",
       "            <td>4</td>\n",
       "            <td>14</td>\n",
       "            <td>18.2829</td>\n",
       "            <td>-4.2829</td>\n",
       "            <td>18.3433</td>\n",
       "            <td>1.0033</td>\n",
       "        </tr>\n",
       "        <tr>\n",
       "            <td>5</td>\n",
       "            <td>12</td>\n",
       "            <td>16.5765</td>\n",
       "            <td>-4.5765</td>\n",
       "            <td>20.944</td>\n",
       "            <td>1.2635</td>\n",
       "        </tr>\n",
       "        <tr>\n",
       "            <td>6</td>\n",
       "            <td>10</td>\n",
       "            <td>12.7829</td>\n",
       "            <td>-2.7829</td>\n",
       "            <td>7.7445</td>\n",
       "            <td>0.6058</td>\n",
       "        </tr>\n",
       "        <tr>\n",
       "            <td>7</td>\n",
       "            <td>8</td>\n",
       "            <td>8.384</td>\n",
       "            <td>-0.384</td>\n",
       "            <td>0.1475</td>\n",
       "            <td>0.0176</td>\n",
       "        </tr>\n",
       "        <tr>\n",
       "            <td>8</td>\n",
       "            <td>6</td>\n",
       "            <td>4.6769</td>\n",
       "            <td>1.3231</td>\n",
       "            <td>1.7506</td>\n",
       "            <td>0.3743</td>\n",
       "        </tr>\n",
       "        <tr>\n",
       "            <td>9</td>\n",
       "            <td>4</td>\n",
       "            <td>2.2189</td>\n",
       "            <td>1.7811</td>\n",
       "            <td>3.1724</td>\n",
       "            <td>1.4297</td>\n",
       "        </tr>\n",
       "        <tr>\n",
       "            <td>10</td>\n",
       "            <td>2</td>\n",
       "            <td>1.3201</td>\n",
       "            <td>0.6799</td>\n",
       "            <td>0.4622</td>\n",
       "            <td>0.3502</td>\n",
       "        </tr>\n",
       "        <tr>\n",
       "            <td>Сума</td>\n",
       "            <td>114</td>\n",
       "            <td>113.99999999999999</td>\n",
       "            <td>-</td>\n",
       "            <td>-</td>\n",
       "            <td>7.8452</td>\n",
       "        </tr>\n",
       "    </tbody>\n",
       "</table>"
      ]
     },
     "execution_count": 17,
     "metadata": {},
     "output_type": "execute_result"
    }
   ],
   "execution_count": 17
  },
  {
   "metadata": {
    "ExecuteTime": {
     "end_time": "2025-03-29T16:29:16.851749Z",
     "start_time": "2025-03-29T16:29:16.838452Z"
    }
   },
   "cell_type": "code",
   "source": [
    "pearson_observed = np.sum(frac_sub_n2)\n",
    "print(f\"χ^2 спост = {pearson_observed:.4f}\")"
   ],
   "id": "7694c460406e7075",
   "outputs": [
    {
     "name": "stdout",
     "output_type": "stream",
     "text": [
      "χ^2 спост = 7.8452\n"
     ]
    }
   ],
   "execution_count": 18
  },
  {
   "metadata": {
    "ExecuteTime": {
     "end_time": "2025-03-29T16:29:19.524881Z",
     "start_time": "2025-03-29T16:29:16.854747Z"
    }
   },
   "cell_type": "code",
   "source": "from scipy.stats import chi2",
   "id": "1e755d649057b082",
   "outputs": [],
   "execution_count": 19
  },
  {
   "metadata": {
    "ExecuteTime": {
     "end_time": "2025-03-29T16:29:19.540783Z",
     "start_time": "2025-03-29T16:29:19.525866Z"
    }
   },
   "cell_type": "code",
   "source": [
    "k = len(values) - 2 - 1\n",
    "print(f'k = {k}')"
   ],
   "id": "57390078b3b05e2",
   "outputs": [
    {
     "name": "stdout",
     "output_type": "stream",
     "text": [
      "k = 7\n"
     ]
    }
   ],
   "execution_count": 20
  },
  {
   "metadata": {
    "ExecuteTime": {
     "end_time": "2025-03-29T16:29:19.555923Z",
     "start_time": "2025-03-29T16:29:19.542683Z"
    }
   },
   "cell_type": "code",
   "source": [
    "critical_value = chi2.ppf(1 - a, k)\n",
    "print(f\"Критичне значення χ^2 для α = {a} та k = {k}: {critical_value:.4f}\")"
   ],
   "id": "42d13b4b135d5e6b",
   "outputs": [
    {
     "name": "stdout",
     "output_type": "stream",
     "text": [
      "Критичне значення χ^2 для α = 0.01 та k = 7: 18.4753\n"
     ]
    }
   ],
   "execution_count": 21
  },
  {
   "metadata": {
    "ExecuteTime": {
     "end_time": "2025-03-29T16:29:19.571381Z",
     "start_time": "2025-03-29T16:29:19.557154Z"
    }
   },
   "cell_type": "code",
   "source": [
    "if pearson_observed < critical_value:\n",
    "    print(\"Оскільки χ^2спост < χ^2кр, гіпотезу про розподіл ознаки генеральної сукупності не відхиляємо\")\n",
    "else:\n",
    "    print(\"Оскільки χ^2спост > χ^2кр, гіпотезу про розподіл ознаки генеральної сукупності відхиляємо\")"
   ],
   "id": "ab0a2df06aaf9fc4",
   "outputs": [
    {
     "name": "stdout",
     "output_type": "stream",
     "text": [
      "Оскільки χ^2спост < χ^2кр, гіпотезу про розподіл ознаки генеральної сукупності не відхиляємо\n"
     ]
    }
   ],
   "execution_count": 22
  }
 ],
 "metadata": {
  "kernelspec": {
   "display_name": "Python 3",
   "language": "python",
   "name": "python3"
  },
  "language_info": {
   "codemirror_mode": {
    "name": "ipython",
    "version": 2
   },
   "file_extension": ".py",
   "mimetype": "text/x-python",
   "name": "python",
   "nbconvert_exporter": "python",
   "pygments_lexer": "ipython2",
   "version": "2.7.6"
  }
 },
 "nbformat": 4,
 "nbformat_minor": 5
}
