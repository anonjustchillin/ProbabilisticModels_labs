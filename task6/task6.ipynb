{
 "cells": [
  {
   "cell_type": "code",
   "id": "initial_id",
   "metadata": {
    "collapsed": true,
    "ExecuteTime": {
     "end_time": "2025-05-16T23:15:59.559578Z",
     "start_time": "2025-05-16T23:15:58.573352Z"
    }
   },
   "source": [
    "import numpy as np\n",
    "from scipy.stats import f"
   ],
   "outputs": [],
   "execution_count": 1
  },
  {
   "metadata": {
    "ExecuteTime": {
     "end_time": "2025-05-16T23:15:59.590757Z",
     "start_time": "2025-05-16T23:15:59.559578Z"
    }
   },
   "cell_type": "code",
   "source": [
    "data = np.array([\n",
    "    #B1  B2\n",
    "    [64, 33],  # A1\n",
    "    [36, 27],  # A2\n",
    "    [65, 73],  # A3\n",
    "])"
   ],
   "id": "1ef6a74181a1578d",
   "outputs": [],
   "execution_count": 2
  },
  {
   "metadata": {
    "ExecuteTime": {
     "end_time": "2025-05-16T23:16:00.159941Z",
     "start_time": "2025-05-16T23:16:00.144312Z"
    }
   },
   "cell_type": "code",
   "source": [
    "k = 2  # кількість рівнів фактора B\n",
    "n = 3  # кількість рівнів фактора A\n",
    "alpha = 0.025"
   ],
   "id": "921012a14bc72e94",
   "outputs": [],
   "execution_count": 3
  },
  {
   "metadata": {},
   "cell_type": "markdown",
   "source": "Середнє по рядках (по А)",
   "id": "5f970fd0be6c9198"
  },
  {
   "metadata": {
    "ExecuteTime": {
     "end_time": "2025-05-16T23:16:00.212309Z",
     "start_time": "2025-05-16T23:16:00.196682Z"
    }
   },
   "cell_type": "code",
   "source": [
    "row_means = np.mean(data, axis=1)\n",
    "print(row_means)"
   ],
   "id": "5e9a33213b0b6aa6",
   "outputs": [
    {
     "name": "stdout",
     "output_type": "stream",
     "text": [
      "[48.5 31.5 69. ]\n"
     ]
    }
   ],
   "execution_count": 4
  },
  {
   "metadata": {},
   "cell_type": "markdown",
   "source": "Середнє по стовпцях (по B)",
   "id": "838d1e17993030f0"
  },
  {
   "metadata": {
    "ExecuteTime": {
     "end_time": "2025-05-16T23:16:00.249047Z",
     "start_time": "2025-05-16T23:16:00.233423Z"
    }
   },
   "cell_type": "code",
   "source": [
    "col_means = np.mean(data, axis=0)\n",
    "print(col_means)"
   ],
   "id": "ca0086e2e9268966",
   "outputs": [
    {
     "name": "stdout",
     "output_type": "stream",
     "text": [
      "[55.         44.33333333]\n"
     ]
    }
   ],
   "execution_count": 5
  },
  {
   "metadata": {},
   "cell_type": "markdown",
   "source": "Загальне середнє",
   "id": "b68c17b4db1921d"
  },
  {
   "metadata": {
    "ExecuteTime": {
     "end_time": "2025-05-16T23:22:57.672394Z",
     "start_time": "2025-05-16T23:22:57.641146Z"
    }
   },
   "cell_type": "code",
   "source": [
    "ov_mean = np.mean(data)\n",
    "print(ov_mean)"
   ],
   "id": "c3a2fe2b8b0f4c64",
   "outputs": [
    {
     "name": "stdout",
     "output_type": "stream",
     "text": [
      "49.666666666666664\n"
     ]
    }
   ],
   "execution_count": 18
  },
  {
   "metadata": {},
   "cell_type": "markdown",
   "source": "Обчислення дисперсій",
   "id": "b03f79aee97f06d"
  },
  {
   "metadata": {
    "ExecuteTime": {
     "end_time": "2025-05-16T23:16:00.466360Z",
     "start_time": "2025-05-16T23:16:00.449285Z"
    }
   },
   "cell_type": "code",
   "source": [
    "D_A = (k * np.sum((row_means - grand_mean)** 2 )) / (n - 1)\n",
    "print(D_A)"
   ],
   "id": "c204e601c4d6bf1e",
   "outputs": [
    {
     "name": "stdout",
     "output_type": "stream",
     "text": [
      "705.1666666666667\n"
     ]
    }
   ],
   "execution_count": 7
  },
  {
   "metadata": {
    "ExecuteTime": {
     "end_time": "2025-05-16T23:16:00.594856Z",
     "start_time": "2025-05-16T23:16:00.581922Z"
    }
   },
   "cell_type": "code",
   "source": [
    "D_B = (n * np.sum((col_means - grand_mean) ** 2)) / (k - 1)\n",
    "print(D_B)"
   ],
   "id": "14a54de893f96840",
   "outputs": [
    {
     "name": "stdout",
     "output_type": "stream",
     "text": [
      "170.6666666666666\n"
     ]
    }
   ],
   "execution_count": 8
  },
  {
   "metadata": {},
   "cell_type": "markdown",
   "source": "Обчислення залишкової дисперсії",
   "id": "243ac930afb09acd"
  },
  {
   "metadata": {
    "ExecuteTime": {
     "end_time": "2025-05-16T23:23:46.900534Z",
     "start_time": "2025-05-16T23:23:46.884920Z"
    }
   },
   "cell_type": "code",
   "source": [
    "residual_sum = 0\n",
    "for i in range(n):\n",
    "    for j in range(k):\n",
    "        residual_sum += (data[i, j] - row_means[i] - col_means[j] + grand_mean)**2\n",
    "\n",
    "D_residual = residual_sum / ((n - 1) * (k - 1))\n",
    "print(D_residual)"
   ],
   "id": "69c2d171ee89e224",
   "outputs": [
    {
     "name": "stdout",
     "output_type": "stream",
     "text": [
      "191.16666666666669\n"
     ]
    }
   ],
   "execution_count": 19
  },
  {
   "metadata": {},
   "cell_type": "markdown",
   "source": "Обчислення F-критеріїв",
   "id": "e4d88fe9dc9f9266"
  },
  {
   "metadata": {
    "ExecuteTime": {
     "end_time": "2025-05-16T23:16:00.797794Z",
     "start_time": "2025-05-16T23:16:00.775260Z"
    }
   },
   "cell_type": "code",
   "source": [
    "F_A = D_A / D_residual\n",
    "print(F_A)"
   ],
   "id": "6e43df5b5e671ef5",
   "outputs": [
    {
     "name": "stdout",
     "output_type": "stream",
     "text": [
      "3.688753269398431\n"
     ]
    }
   ],
   "execution_count": 10
  },
  {
   "metadata": {
    "ExecuteTime": {
     "end_time": "2025-05-16T23:16:00.891323Z",
     "start_time": "2025-05-16T23:16:00.879324Z"
    }
   },
   "cell_type": "code",
   "source": [
    "F_A_crit = f.ppf(1-alpha, n - 1, (k-1)*(n-1))\n",
    "print(F_A_crit)"
   ],
   "id": "e9eb4c232751a3fd",
   "outputs": [
    {
     "name": "stdout",
     "output_type": "stream",
     "text": [
      "38.999999999999964\n"
     ]
    }
   ],
   "execution_count": 11
  },
  {
   "metadata": {
    "ExecuteTime": {
     "end_time": "2025-05-16T23:16:00.970324Z",
     "start_time": "2025-05-16T23:16:00.955327Z"
    }
   },
   "cell_type": "code",
   "source": [
    "print(f\"\\nЯк видно з результатів, розрахункове значення величини F-статистики для фактора А\\n\"\n",
    "      f\"F_A = {F_A:.4f}, а критична область утворюється правостороннім інтервалом \\n \"\n",
    "      f\"({F_A_crit:.4f}, +∞)\")"
   ],
   "id": "ab2e82862c3f7940",
   "outputs": [
    {
     "name": "stdout",
     "output_type": "stream",
     "text": [
      "\n",
      "Як видно з результатів, розрахункове значення величини F-статистики для фактора А\n",
      "F_A = 3.6888, а критична область утворюється правостороннім інтервалом \n",
      " (39.0000, +∞)\n"
     ]
    }
   ],
   "execution_count": 12
  },
  {
   "metadata": {
    "ExecuteTime": {
     "end_time": "2025-05-16T23:16:01.096323Z",
     "start_time": "2025-05-16T23:16:01.084325Z"
    }
   },
   "cell_type": "code",
   "source": [
    "if F_A < F_A_crit:\n",
    "    print(f\"Оскільки F = {F_A:.4f} не попадає в критичну область, то вважаємо, що фактор А \\n\"\n",
    "          f\"не мав впливу на продуктивність праці.\")\n",
    "else:\n",
    "    print(f\"Оскільки F = {F_A:.4f}  попадає в критичну область, то вважаємо, що фактор А \\n\"\n",
    "          f\" мав впливу на продуктивність праці.\")"
   ],
   "id": "e61c7ef32af6933a",
   "outputs": [
    {
     "name": "stdout",
     "output_type": "stream",
     "text": [
      "Оскільки F = 3.6888 не попадає в критичну область, то вважаємо, що фактор А \n",
      "не мав впливу на продуктивність праці.\n"
     ]
    }
   ],
   "execution_count": 13
  },
  {
   "metadata": {
    "ExecuteTime": {
     "end_time": "2025-05-16T23:16:01.248425Z",
     "start_time": "2025-05-16T23:16:01.231423Z"
    }
   },
   "cell_type": "code",
   "source": [
    "F_B = D_B / D_residual\n",
    "print(F_B)"
   ],
   "id": "bfed51f55bcae5aa",
   "outputs": [
    {
     "name": "stdout",
     "output_type": "stream",
     "text": [
      "0.8927637314734085\n"
     ]
    }
   ],
   "execution_count": 14
  },
  {
   "metadata": {
    "ExecuteTime": {
     "end_time": "2025-05-16T23:16:01.332080Z",
     "start_time": "2025-05-16T23:16:01.316434Z"
    }
   },
   "cell_type": "code",
   "source": [
    "F_B_crit = f.ppf(1-alpha, k - 1, (k-1)*(n-1))\n",
    "print(F_A_crit)"
   ],
   "id": "9d4f3a86e847fe2f",
   "outputs": [
    {
     "name": "stdout",
     "output_type": "stream",
     "text": [
      "38.999999999999964\n"
     ]
    }
   ],
   "execution_count": 15
  },
  {
   "metadata": {
    "ExecuteTime": {
     "end_time": "2025-05-16T23:16:01.444512Z",
     "start_time": "2025-05-16T23:16:01.432383Z"
    }
   },
   "cell_type": "code",
   "source": [
    "print(f\"\\nЯк видно з результатів, розрахункове значення величини F-статистики для фактора В\\n\"\n",
    "      f\"F_B = {F_B:.4f}, а критична область утворюється правостороннім інтервалом \\n \"\n",
    "      f\"({F_B_crit:.4f}, +∞)\")"
   ],
   "id": "87c113cf7f463b32",
   "outputs": [
    {
     "name": "stdout",
     "output_type": "stream",
     "text": [
      "\n",
      "Як видно з результатів, розрахункове значення величини F-статистики для фактора В\n",
      "F_B = 0.8928, а критична область утворюється правостороннім інтервалом \n",
      " (38.5063, +∞)\n"
     ]
    }
   ],
   "execution_count": 16
  },
  {
   "metadata": {
    "ExecuteTime": {
     "end_time": "2025-05-16T23:16:01.547065Z",
     "start_time": "2025-05-16T23:16:01.525307Z"
    }
   },
   "cell_type": "code",
   "source": [
    "if F_B < F_B_crit:\n",
    "    print(f\"Оскільки F = {F_B:.4f} не попадає в критичну область, то вважаємо, що фактор B \\n\"\n",
    "          f\"не мав впливу на продуктивність праці.\")\n",
    "else:\n",
    "    print(f\"Оскільки F = {F_B:.4f}  попадає в критичну область, то вважаємо, що фактор B \\n\"\n",
    "          f\" мав впливу на продуктивність праці.\")"
   ],
   "id": "63247299c58b9005",
   "outputs": [
    {
     "name": "stdout",
     "output_type": "stream",
     "text": [
      "Оскільки F = 0.8928 не попадає в критичну область, то вважаємо, що фактор B \n",
      "не мав впливу на продуктивність праці.\n"
     ]
    }
   ],
   "execution_count": 17
  }
 ],
 "metadata": {
  "kernelspec": {
   "display_name": "Python 3",
   "language": "python",
   "name": "python3"
  },
  "language_info": {
   "codemirror_mode": {
    "name": "ipython",
    "version": 2
   },
   "file_extension": ".py",
   "mimetype": "text/x-python",
   "name": "python",
   "nbconvert_exporter": "python",
   "pygments_lexer": "ipython2",
   "version": "2.7.6"
  }
 },
 "nbformat": 4,
 "nbformat_minor": 5
}
