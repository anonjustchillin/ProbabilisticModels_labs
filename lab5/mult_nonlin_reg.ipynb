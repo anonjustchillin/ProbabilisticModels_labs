{
 "cells": [
  {
   "cell_type": "code",
   "id": "initial_id",
   "metadata": {
    "collapsed": true,
    "ExecuteTime": {
     "end_time": "2025-05-16T01:10:35.275189Z",
     "start_time": "2025-05-16T01:10:33.392637Z"
    }
   },
   "source": [
    "import numpy as np\n",
    "import statsmodels.api as sm"
   ],
   "outputs": [],
   "execution_count": 1
  },
  {
   "metadata": {},
   "cell_type": "markdown",
   "source": "МНОЖИННА НЕЛІНІЙНА РЕГРЕСІЯ",
   "id": "baac2c2dd7b67ac9"
  },
  {
   "metadata": {
    "ExecuteTime": {
     "end_time": "2025-05-16T01:10:35.296537Z",
     "start_time": "2025-05-16T01:10:35.280807Z"
    }
   },
   "cell_type": "code",
   "source": [
    "y = np.array([34.00, 30.61, 31.43, 27.58, 28.92, 27.45, 18.41, 26.25, 26.51, 23.06, 23.18, 22.51, 22.25, 21.64, 20.38])\n",
    "x = np.array([1740, 1860, 1910, 2050, 2060, 2070, 2100, 2150, 2210, 2300, 2350, 2340, 2450, 2500, 2600])\n",
    "z = np.array([420, 410, 390, 300, 320, 340, 350, 370, 410, 550, 530, 550, 490, 350, 330])"
   ],
   "id": "180c253f53d915a5",
   "outputs": [],
   "execution_count": 2
  },
  {
   "metadata": {
    "ExecuteTime": {
     "end_time": "2025-05-16T01:10:35.697869Z",
     "start_time": "2025-05-16T01:10:35.662124Z"
    }
   },
   "cell_type": "code",
   "source": [
    "X = np.column_stack((np.ones_like(x), x, x**2, z, z**2))\n",
    "X"
   ],
   "id": "d4ff81f554c21078",
   "outputs": [
    {
     "data": {
      "text/plain": [
       "array([[      1,    1740, 3027600,     420,  176400],\n",
       "       [      1,    1860, 3459600,     410,  168100],\n",
       "       [      1,    1910, 3648100,     390,  152100],\n",
       "       [      1,    2050, 4202500,     300,   90000],\n",
       "       [      1,    2060, 4243600,     320,  102400],\n",
       "       [      1,    2070, 4284900,     340,  115600],\n",
       "       [      1,    2100, 4410000,     350,  122500],\n",
       "       [      1,    2150, 4622500,     370,  136900],\n",
       "       [      1,    2210, 4884100,     410,  168100],\n",
       "       [      1,    2300, 5290000,     550,  302500],\n",
       "       [      1,    2350, 5522500,     530,  280900],\n",
       "       [      1,    2340, 5475600,     550,  302500],\n",
       "       [      1,    2450, 6002500,     490,  240100],\n",
       "       [      1,    2500, 6250000,     350,  122500],\n",
       "       [      1,    2600, 6760000,     330,  108900]])"
      ]
     },
     "execution_count": 3,
     "metadata": {},
     "output_type": "execute_result"
    }
   ],
   "execution_count": 3
  },
  {
   "metadata": {
    "ExecuteTime": {
     "end_time": "2025-05-16T01:10:35.830078Z",
     "start_time": "2025-05-16T01:10:35.814479Z"
    }
   },
   "cell_type": "code",
   "source": [
    "Y = y.reshape(-1,1)\n",
    "Y"
   ],
   "id": "702f9e0eb9065745",
   "outputs": [
    {
     "data": {
      "text/plain": [
       "array([[34.  ],\n",
       "       [30.61],\n",
       "       [31.43],\n",
       "       [27.58],\n",
       "       [28.92],\n",
       "       [27.45],\n",
       "       [18.41],\n",
       "       [26.25],\n",
       "       [26.51],\n",
       "       [23.06],\n",
       "       [23.18],\n",
       "       [22.51],\n",
       "       [22.25],\n",
       "       [21.64],\n",
       "       [20.38]])"
      ]
     },
     "execution_count": 4,
     "metadata": {},
     "output_type": "execute_result"
    }
   ],
   "execution_count": 4
  },
  {
   "metadata": {},
   "cell_type": "markdown",
   "source": "Визначення статистичних оцінок для параметрів",
   "id": "408fefe09ea85d20"
  },
  {
   "metadata": {
    "ExecuteTime": {
     "end_time": "2025-05-16T01:10:36.014040Z",
     "start_time": "2025-05-16T01:10:35.998416Z"
    }
   },
   "cell_type": "code",
   "source": [
    "Z = np.linalg.inv(X.T @ X)\n",
    "Z"
   ],
   "id": "ae6a49c826d4280c",
   "outputs": [
    {
     "data": {
      "text/plain": [
       "array([[ 7.62710337e+02, -5.24727379e-01,  1.17728824e-04,\n",
       "        -9.00694457e-01,  1.05449716e-03],\n",
       "       [-5.24727379e-01,  4.11406201e-04, -9.32057219e-08,\n",
       "         3.75359696e-04, -4.45186760e-07],\n",
       "       [ 1.17728824e-04, -9.32057219e-08,  2.11912224e-11,\n",
       "        -8.10339490e-08,  9.59809347e-11],\n",
       "       [-9.00694457e-01,  3.75359696e-04, -8.10339490e-08,\n",
       "         2.28129645e-03, -2.64823413e-06],\n",
       "       [ 1.05449716e-03, -4.45186760e-07,  9.59809347e-11,\n",
       "        -2.64823413e-06,  3.08853705e-09]])"
      ]
     },
     "execution_count": 5,
     "metadata": {},
     "output_type": "execute_result"
    }
   ],
   "execution_count": 5
  },
  {
   "metadata": {
    "ExecuteTime": {
     "end_time": "2025-05-16T01:10:36.260729Z",
     "start_time": "2025-05-16T01:10:36.229474Z"
    }
   },
   "cell_type": "code",
   "source": [
    "X_Y = X.T @ Y\n",
    "X_Y"
   ],
   "id": "ddb33d4eceb05e16",
   "outputs": [
    {
     "data": {
      "text/plain": [
       "array([[3.84180000e+02],\n",
       "       [8.24532100e+05],\n",
       "       [1.79158225e+09],\n",
       "       [1.55525100e+05],\n",
       "       [6.53543470e+07]])"
      ]
     },
     "execution_count": 6,
     "metadata": {},
     "output_type": "execute_result"
    }
   ],
   "execution_count": 6
  },
  {
   "metadata": {
    "ExecuteTime": {
     "end_time": "2025-05-16T01:10:36.514177Z",
     "start_time": "2025-05-16T01:10:36.498661Z"
    }
   },
   "cell_type": "code",
   "source": [
    "B = Z @ X_Y\n",
    "B"
   ],
   "id": "d605b43b0e740e49",
   "outputs": [
    {
     "data": {
      "text/plain": [
       "array([[ 1.19739487e+02],\n",
       "       [-7.48985349e-02],\n",
       "       [ 1.37264339e-05],\n",
       "       [ 1.35838834e-02],\n",
       "       [-1.38737695e-05]])"
      ]
     },
     "execution_count": 7,
     "metadata": {},
     "output_type": "execute_result"
    }
   ],
   "execution_count": 7
  },
  {
   "metadata": {
    "ExecuteTime": {
     "end_time": "2025-05-16T01:10:36.776861Z",
     "start_time": "2025-05-16T01:10:36.761281Z"
    }
   },
   "cell_type": "code",
   "source": "print(f'y = {B[0]} + {B[1]} * x_i + {B[2]} * x^2_i + {B[3]} * z_i + {B[4]} * z^2_i')",
   "id": "72311855df3c3272",
   "outputs": [
    {
     "name": "stdout",
     "output_type": "stream",
     "text": [
      "y = [119.73948687] + [-0.07489853] * x_i + [1.37264339e-05] * x^2_i + [0.01358388] * z_i + [-1.38737695e-05] * z^2_i\n"
     ]
    }
   ],
   "execution_count": 8
  },
  {
   "metadata": {},
   "cell_type": "markdown",
   "source": "Побудувати довірчий інтервал",
   "id": "dd3966ee4a7ce9fc"
  },
  {
   "metadata": {
    "ExecuteTime": {
     "end_time": "2025-05-16T01:10:37.015602Z",
     "start_time": "2025-05-16T01:10:36.999976Z"
    }
   },
   "cell_type": "code",
   "source": "alpha = 0.01",
   "id": "5cb54c72288169f3",
   "outputs": [],
   "execution_count": 9
  },
  {
   "metadata": {
    "ExecuteTime": {
     "end_time": "2025-05-16T01:10:37.222094Z",
     "start_time": "2025-05-16T01:10:37.198265Z"
    }
   },
   "cell_type": "code",
   "source": "model = sm.OLS(Y, X).fit()",
   "id": "5e7dee988a032e59",
   "outputs": [],
   "execution_count": 10
  },
  {
   "metadata": {
    "ExecuteTime": {
     "end_time": "2025-05-16T01:10:37.392872Z",
     "start_time": "2025-05-16T01:10:37.378874Z"
    }
   },
   "cell_type": "code",
   "source": [
    "predictions = model.get_prediction(X)\n",
    "conf_int = predictions.conf_int(alpha=alpha)"
   ],
   "id": "e8a5a44dd6a14222",
   "outputs": [],
   "execution_count": 11
  },
  {
   "metadata": {
    "ExecuteTime": {
     "end_time": "2025-05-16T01:10:37.531994Z",
     "start_time": "2025-05-16T01:10:37.516314Z"
    }
   },
   "cell_type": "code",
   "source": [
    "for i, (features, intervals) in enumerate(zip(X, conf_int), 1):\n",
    "    feature = tuple(int(val) for val in features[1:])\n",
    "    interval = tuple(round(float(val), 2) for val in intervals)\n",
    "\n",
    "    print(f'Вектор ознак [{i}]: {feature}')\n",
    "    print(f'Довірчий інтервал [{i}]: {interval}')\n",
    "    print()"
   ],
   "id": "d56b5428669622d4",
   "outputs": [
    {
     "name": "stdout",
     "output_type": "stream",
     "text": [
      "Вектор ознак [1]: (1740, 3027600, 420, 176400)\n",
      "Довірчий інтервал [1]: (27.2, 41.26)\n",
      "\n",
      "Вектор ознак [2]: (1860, 3459600, 410, 168100)\n",
      "Довірчий інтервал [2]: (26.81, 35.5)\n",
      "\n",
      "Вектор ознак [3]: (1910, 3648100, 390, 152100)\n",
      "Довірчий інтервал [3]: (26.28, 33.61)\n",
      "\n",
      "Вектор ознак [4]: (2050, 4202500, 300, 90000)\n",
      "Довірчий інтервал [4]: (20.69, 32.73)\n",
      "\n",
      "Вектор ознак [5]: (2060, 4243600, 320, 102400)\n",
      "Довірчий інтервал [5]: (22.35, 30.9)\n",
      "\n",
      "Вектор ознак [6]: (2070, 4284900, 340, 115600)\n",
      "Довірчий інтервал [6]: (23.09, 29.97)\n",
      "\n",
      "Вектор ознак [7]: (2100, 4410000, 350, 122500)\n",
      "Довірчий інтервал [7]: (22.56, 29.52)\n",
      "\n",
      "Вектор ознак [8]: (2150, 4622500, 370, 136900)\n",
      "Довірчий інтервал [8]: (21.22, 29.35)\n",
      "\n",
      "Вектор ознак [9]: (2210, 4884100, 410, 168100)\n",
      "Довірчий інтервал [9]: (19.33, 29.66)\n",
      "\n",
      "Вектор ознак [10]: (2300, 5290000, 550, 302500)\n",
      "Довірчий інтервал [10]: (18.13, 28.59)\n",
      "\n",
      "Вектор ознак [11]: (2350, 5522500, 530, 280900)\n",
      "Довірчий інтервал [11]: (18.68, 26.98)\n",
      "\n",
      "Вектор ознак [12]: (2340, 5475600, 550, 302500)\n",
      "Довірчий інтервал [12]: (17.72, 28.1)\n",
      "\n",
      "Вектор ознак [13]: (2450, 6002500, 490, 240100)\n",
      "Довірчий інтервал [13]: (17.36, 26.55)\n",
      "\n",
      "Вектор ознак [14]: (2500, 6250000, 350, 122500)\n",
      "Довірчий інтервал [14]: (16.55, 26.13)\n",
      "\n",
      "Вектор ознак [15]: (2600, 6760000, 330, 108900)\n",
      "Довірчий інтервал [15]: (13.73, 27.8)\n",
      "\n"
     ]
    }
   ],
   "execution_count": 12
  },
  {
   "metadata": {},
   "cell_type": "markdown",
   "source": "Обчислити коефіцієнт множинної кореляції",
   "id": "fcbd68639fad4c19"
  },
  {
   "metadata": {
    "ExecuteTime": {
     "end_time": "2025-05-16T01:10:37.655875Z",
     "start_time": "2025-05-16T01:10:37.640209Z"
    }
   },
   "cell_type": "code",
   "source": "print(model.rsquared)",
   "id": "c6c4aa421036a0e1",
   "outputs": [
    {
     "name": "stdout",
     "output_type": "stream",
     "text": [
      "0.735143348706146\n"
     ]
    }
   ],
   "execution_count": 13
  },
  {
   "metadata": {
    "ExecuteTime": {
     "end_time": "2025-05-16T01:10:37.778948Z",
     "start_time": "2025-05-16T01:10:37.763332Z"
    }
   },
   "cell_type": "code",
   "source": "print(np.sqrt(model.rsquared))",
   "id": "211b8730f26614f1",
   "outputs": [
    {
     "name": "stdout",
     "output_type": "stream",
     "text": [
      "0.8574050085613834\n"
     ]
    }
   ],
   "execution_count": 14
  }
 ],
 "metadata": {
  "kernelspec": {
   "display_name": "Python 3",
   "language": "python",
   "name": "python3"
  },
  "language_info": {
   "codemirror_mode": {
    "name": "ipython",
    "version": 2
   },
   "file_extension": ".py",
   "mimetype": "text/x-python",
   "name": "python",
   "nbconvert_exporter": "python",
   "pygments_lexer": "ipython2",
   "version": "2.7.6"
  }
 },
 "nbformat": 4,
 "nbformat_minor": 5
}
