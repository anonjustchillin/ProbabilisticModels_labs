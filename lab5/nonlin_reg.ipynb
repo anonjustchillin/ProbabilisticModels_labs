{
 "cells": [
  {
   "cell_type": "code",
   "id": "initial_id",
   "metadata": {
    "collapsed": true,
    "ExecuteTime": {
     "end_time": "2025-06-02T05:47:32.193595Z",
     "start_time": "2025-06-02T05:47:29.911569Z"
    }
   },
   "source": [
    "import numpy as np\n",
    "import statsmodels.api as sm\n",
    "import matplotlib.pyplot as plt\n",
    "from scipy import stats"
   ],
   "outputs": [],
   "execution_count": 1
  },
  {
   "metadata": {},
   "cell_type": "markdown",
   "source": "НЕЛІНІЙНА РЕГРЕСІЯ",
   "id": "1f6fa280f67d0e6"
  },
  {
   "metadata": {
    "ExecuteTime": {
     "end_time": "2025-06-02T05:47:32.403487Z",
     "start_time": "2025-06-02T05:47:32.393600Z"
    }
   },
   "cell_type": "code",
   "source": [
    "X = np.array([2.01, 1.93, 2.16, 1.84, 2.34, 2.07, 2.20, 2.04, 2.03, 1.72, 2.35, 2.27, 2.18, 1.94, 1.64])\n",
    "Y = np.array([7.25, 8.03, 7.46, 10.03, 6.35, 6.95, 6.34, 6.58, 7.58, 9.56, 6.22, 6.93, 7.22, 8.83, 9.05])"
   ],
   "id": "2956380bfa5266cd",
   "outputs": [],
   "execution_count": 2
  },
  {
   "metadata": {
    "ExecuteTime": {
     "end_time": "2025-06-02T05:47:32.601851Z",
     "start_time": "2025-06-02T05:47:32.586847Z"
    }
   },
   "cell_type": "code",
   "source": [
    "n = len(X)\n",
    "n"
   ],
   "id": "cff44fa301659985",
   "outputs": [
    {
     "data": {
      "text/plain": [
       "15"
      ]
     },
     "execution_count": 3,
     "metadata": {},
     "output_type": "execute_result"
    }
   ],
   "execution_count": 3
  },
  {
   "metadata": {},
   "cell_type": "markdown",
   "source": "Точкові статистичні оцінки для параметрів",
   "id": "f2f06d832573865"
  },
  {
   "metadata": {
    "ExecuteTime": {
     "end_time": "2025-06-02T05:47:32.653775Z",
     "start_time": "2025-06-02T05:47:32.644958Z"
    }
   },
   "cell_type": "code",
   "source": [
    "Z = 1/X\n",
    "Z"
   ],
   "id": "2df0bbc73ce5495c",
   "outputs": [
    {
     "data": {
      "text/plain": [
       "array([0.49751244, 0.51813472, 0.46296296, 0.54347826, 0.42735043,\n",
       "       0.48309179, 0.45454545, 0.49019608, 0.49261084, 0.58139535,\n",
       "       0.42553191, 0.44052863, 0.4587156 , 0.51546392, 0.6097561 ])"
      ]
     },
     "execution_count": 4,
     "metadata": {},
     "output_type": "execute_result"
    }
   ],
   "execution_count": 4
  },
  {
   "metadata": {
    "ExecuteTime": {
     "end_time": "2025-06-02T05:47:32.723697Z",
     "start_time": "2025-06-02T05:47:32.713894Z"
    }
   },
   "cell_type": "code",
   "source": [
    "Z_biased = np.column_stack((np.ones_like(Z), Z))\n",
    "Z_biased"
   ],
   "id": "9e508073b1e3c1ca",
   "outputs": [
    {
     "data": {
      "text/plain": [
       "array([[1.        , 0.49751244],\n",
       "       [1.        , 0.51813472],\n",
       "       [1.        , 0.46296296],\n",
       "       [1.        , 0.54347826],\n",
       "       [1.        , 0.42735043],\n",
       "       [1.        , 0.48309179],\n",
       "       [1.        , 0.45454545],\n",
       "       [1.        , 0.49019608],\n",
       "       [1.        , 0.49261084],\n",
       "       [1.        , 0.58139535],\n",
       "       [1.        , 0.42553191],\n",
       "       [1.        , 0.44052863],\n",
       "       [1.        , 0.4587156 ],\n",
       "       [1.        , 0.51546392],\n",
       "       [1.        , 0.6097561 ]])"
      ]
     },
     "execution_count": 5,
     "metadata": {},
     "output_type": "execute_result"
    }
   ],
   "execution_count": 5
  },
  {
   "metadata": {
    "ExecuteTime": {
     "end_time": "2025-06-02T05:47:32.858435Z",
     "start_time": "2025-06-02T05:47:32.848430Z"
    }
   },
   "cell_type": "code",
   "source": [
    "B = np.linalg.inv(Z_biased.T @ Z_biased) @ Z_biased.T @ Y\n",
    "b0, b1 = B\n",
    "print(f'b0 = {b0:.4f}, b1 = {b1:.4f}')"
   ],
   "id": "c1f15b1d29dff7cb",
   "outputs": [
    {
     "name": "stdout",
     "output_type": "stream",
     "text": [
      "b0 = -1.9833, b1 = 19.4736\n"
     ]
    }
   ],
   "execution_count": 6
  },
  {
   "metadata": {
    "ExecuteTime": {
     "end_time": "2025-06-02T05:47:32.946361Z",
     "start_time": "2025-06-02T05:47:32.938060Z"
    }
   },
   "cell_type": "code",
   "source": "print(f'y = {b0:.4f} + {b1:.4f}/x')",
   "id": "f1bc38102d2eefcc",
   "outputs": [
    {
     "name": "stdout",
     "output_type": "stream",
     "text": [
      "y = -1.9833 + 19.4736/x\n"
     ]
    }
   ],
   "execution_count": 7
  },
  {
   "metadata": {
    "ExecuteTime": {
     "end_time": "2025-06-02T05:47:33.074732Z",
     "start_time": "2025-06-02T05:47:33.058158Z"
    }
   },
   "cell_type": "code",
   "source": [
    "Y_pred = b0 + b1*Z\n",
    "Y_pred"
   ],
   "id": "fb9b2c92bdaf6b6a",
   "outputs": [
    {
     "data": {
      "text/plain": [
       "array([7.70506106, 8.10665145, 7.0322577 , 8.60018205, 6.3387527 ,\n",
       "       7.42423878, 6.86833833, 7.56258505, 7.60960915, 9.33856502,\n",
       "       6.30333968, 6.5953801 , 6.94954609, 8.05464136, 9.89085148])"
      ]
     },
     "execution_count": 8,
     "metadata": {},
     "output_type": "execute_result"
    }
   ],
   "execution_count": 8
  },
  {
   "metadata": {
    "ExecuteTime": {
     "end_time": "2025-06-02T05:47:33.383802Z",
     "start_time": "2025-06-02T05:47:33.142698Z"
    }
   },
   "cell_type": "code",
   "source": [
    "X_grid = np.linspace(min(X), max(X), 500)\n",
    "Z_grid = 1 / X_grid\n",
    "Y_grid = b0 + b1 * Z_grid\n",
    "\n",
    "plt.plot(X_grid, Y_grid, color='r', label='Нелінійна регресії')\n",
    "plt.scatter(X, Y, label='Кореляційне поле')\n",
    "plt.legend()\n",
    "plt.xlabel('X')\n",
    "plt.ylabel('Y')\n",
    "plt.grid(True)\n",
    "plt.show()"
   ],
   "id": "fbb413448e88e469",
   "outputs": [
    {
     "data": {
      "text/plain": [
       "<Figure size 640x480 with 1 Axes>"
      ],
      "image/png": "[encoded data removed]"
     },
     "metadata": {},
     "output_type": "display_data"
    }
   ],
   "execution_count": 9
  },
  {
   "metadata": {},
   "cell_type": "markdown",
   "source": "Побудувати довірчий інтервал",
   "id": "2a5c28adfee64658"
  },
  {
   "metadata": {
    "ExecuteTime": {
     "end_time": "2025-06-02T05:47:33.431904Z",
     "start_time": "2025-06-02T05:47:33.418897Z"
    }
   },
   "cell_type": "code",
   "source": [
    "y = 0.99\n",
    "alpha = 1 - y\n",
    "k = 2"
   ],
   "id": "1ee92714b9cccf83",
   "outputs": [],
   "execution_count": 10
  },
  {
   "metadata": {
    "ExecuteTime": {
     "end_time": "2025-06-02T05:47:33.471923Z",
     "start_time": "2025-06-02T05:47:33.461926Z"
    }
   },
   "cell_type": "code",
   "source": [
    "Y_hat = Z_biased @ B\n",
    "Y_hat"
   ],
   "id": "7d8c4f1f20188a44",
   "outputs": [
    {
     "data": {
      "text/plain": [
       "array([7.70506106, 8.10665145, 7.0322577 , 8.60018205, 6.3387527 ,\n",
       "       7.42423878, 6.86833833, 7.56258505, 7.60960915, 9.33856502,\n",
       "       6.30333968, 6.5953801 , 6.94954609, 8.05464136, 9.89085148])"
      ]
     },
     "execution_count": 11,
     "metadata": {},
     "output_type": "execute_result"
    }
   ],
   "execution_count": 11
  },
  {
   "metadata": {
    "ExecuteTime": {
     "end_time": "2025-06-02T05:47:33.586960Z",
     "start_time": "2025-06-02T05:47:33.576955Z"
    }
   },
   "cell_type": "code",
   "source": [
    "e = Y - Y_hat\n",
    "e"
   ],
   "id": "8a332960f604e994",
   "outputs": [
    {
     "data": {
      "text/plain": [
       "array([-0.45506106, -0.07665145,  0.4277423 ,  1.42981795,  0.0112473 ,\n",
       "       -0.47423878, -0.52833833, -0.98258505, -0.02960915,  0.22143498,\n",
       "       -0.08333968,  0.3346199 ,  0.27045391,  0.77535864, -0.84085148])"
      ]
     },
     "execution_count": 12,
     "metadata": {},
     "output_type": "execute_result"
    }
   ],
   "execution_count": 12
  },
  {
   "metadata": {
    "ExecuteTime": {
     "end_time": "2025-06-02T05:47:33.707061Z",
     "start_time": "2025-06-02T05:47:33.689288Z"
    }
   },
   "cell_type": "code",
   "source": [
    "S_2 = np.sum(e**2) / (n-k)\n",
    "print(S_2)"
   ],
   "id": "f1ac6da8063106b2",
   "outputs": [
    {
     "name": "stdout",
     "output_type": "stream",
     "text": [
      "0.4200097118277949\n"
     ]
    }
   ],
   "execution_count": 13
  },
  {
   "metadata": {
    "ExecuteTime": {
     "end_time": "2025-06-02T05:47:33.845259Z",
     "start_time": "2025-06-02T05:47:33.835261Z"
    }
   },
   "cell_type": "code",
   "source": [
    "S = np.sqrt(S_2)\n",
    "print(S)"
   ],
   "id": "670af406d425d84d",
   "outputs": [
    {
     "name": "stdout",
     "output_type": "stream",
     "text": [
      "0.6480815626352866\n"
     ]
    }
   ],
   "execution_count": 14
  },
  {
   "metadata": {
    "ExecuteTime": {
     "end_time": "2025-06-02T05:47:33.945527Z",
     "start_time": "2025-06-02T05:47:33.935927Z"
    }
   },
   "cell_type": "code",
   "source": [
    "XtX_inv = np.linalg.inv(Z_biased.T @ Z_biased)\n",
    "XtX_inv"
   ],
   "id": "9d73706e548b74c",
   "outputs": [
    {
     "data": {
      "text/plain": [
       "array([[  6.08913808, -12.2056102 ],\n",
       "       [-12.2056102 ,  24.73684143]])"
      ]
     },
     "execution_count": 15,
     "metadata": {},
     "output_type": "execute_result"
    }
   ],
   "execution_count": 15
  },
  {
   "metadata": {
    "ExecuteTime": {
     "end_time": "2025-06-02T05:47:34.037627Z",
     "start_time": "2025-06-02T05:47:34.027600Z"
    }
   },
   "cell_type": "code",
   "source": [
    "t_crit = stats.t.ppf(y, df=n-k)\n",
    "print(f't крит. = {t_crit:.4f}')"
   ],
   "id": "f0772437802385eb",
   "outputs": [
    {
     "name": "stdout",
     "output_type": "stream",
     "text": [
      "t крит. = 2.6503\n"
     ]
    }
   ],
   "execution_count": 16
  },
  {
   "metadata": {
    "ExecuteTime": {
     "end_time": "2025-06-02T05:47:34.165775Z",
     "start_time": "2025-06-02T05:47:34.155715Z"
    }
   },
   "cell_type": "code",
   "source": [
    "for i in range(n):\n",
    "    x_0 = Z_biased[i]\n",
    "    margin = t_crit * np.sqrt(S_2 * (x_0 @ XtX_inv @ x_0.T))\n",
    "    \n",
    "    low, high = Y_hat[i] - margin, Y_hat[i] + margin\n",
    "    \n",
    "    print(f\"x = {X[i]:.2f}, 1/x = {Z[i]:.4f}\")\n",
    "    print(f\"({low:.2f}; {high:.2f})\")\n",
    "    print()"
   ],
   "id": "d54ba8c8779264cc",
   "outputs": [
    {
     "name": "stdout",
     "output_type": "stream",
     "text": [
      "x = 2.01, 1/x = 0.4975\n",
      "(7.26; 8.15)\n",
      "\n",
      "x = 1.93, 1/x = 0.5181\n",
      "(7.62; 8.60)\n",
      "\n",
      "x = 2.16, 1/x = 0.4630\n",
      "(6.52; 7.55)\n",
      "\n",
      "x = 1.84, 1/x = 0.5435\n",
      "(7.98; 9.22)\n",
      "\n",
      "x = 2.34, 1/x = 0.4274\n",
      "(5.62; 7.06)\n",
      "\n",
      "x = 2.07, 1/x = 0.4831\n",
      "(6.97; 7.88)\n",
      "\n",
      "x = 2.20, 1/x = 0.4545\n",
      "(6.31; 7.42)\n",
      "\n",
      "x = 2.04, 1/x = 0.4902\n",
      "(7.12; 8.01)\n",
      "\n",
      "x = 2.03, 1/x = 0.4926\n",
      "(7.17; 8.05)\n",
      "\n",
      "x = 1.72, 1/x = 0.5814\n",
      "(8.47; 10.21)\n",
      "\n",
      "x = 2.35, 1/x = 0.4255\n",
      "(5.57; 7.03)\n",
      "\n",
      "x = 2.27, 1/x = 0.4405\n",
      "(5.96; 7.23)\n",
      "\n",
      "x = 2.18, 1/x = 0.4587\n",
      "(6.42; 7.48)\n",
      "\n",
      "x = 1.94, 1/x = 0.5155\n",
      "(7.57; 8.54)\n",
      "\n",
      "x = 1.64, 1/x = 0.6098\n",
      "(8.80; 10.98)\n",
      "\n"
     ]
    }
   ],
   "execution_count": 17
  },
  {
   "metadata": {},
   "cell_type": "markdown",
   "source": "Обчислити коефіцієнт множинної кореляції",
   "id": "1d6eff2fbc063ef2"
  },
  {
   "metadata": {
    "ExecuteTime": {
     "end_time": "2025-06-02T05:47:34.255722Z",
     "start_time": "2025-06-02T05:47:34.235769Z"
    }
   },
   "cell_type": "code",
   "source": [
    "S_total = np.sum((Y - np.mean(Y))**2)\n",
    "print(S_total)"
   ],
   "id": "1e54486e135d2431",
   "outputs": [
    {
     "name": "stdout",
     "output_type": "stream",
     "text": [
      "20.79037333333334\n"
     ]
    }
   ],
   "execution_count": 18
  },
  {
   "metadata": {
    "ExecuteTime": {
     "end_time": "2025-06-02T05:47:34.325784Z",
     "start_time": "2025-06-02T05:47:34.315774Z"
    }
   },
   "cell_type": "code",
   "source": [
    "S_res = np.sum((Y - Y_hat)**2)\n",
    "print(S_res)"
   ],
   "id": "ddf8b6f3db9da077",
   "outputs": [
    {
     "name": "stdout",
     "output_type": "stream",
     "text": [
      "5.4601262537613335\n"
     ]
    }
   ],
   "execution_count": 19
  },
  {
   "metadata": {
    "ExecuteTime": {
     "end_time": "2025-06-02T05:47:34.395713Z",
     "start_time": "2025-06-02T05:47:34.385775Z"
    }
   },
   "cell_type": "code",
   "source": [
    "R_2 = 1 - S_res / S_total\n",
    "print(R_2)"
   ],
   "id": "e21c45ed3654111d",
   "outputs": [
    {
     "name": "stdout",
     "output_type": "stream",
     "text": [
      "0.7373723806581636\n"
     ]
    }
   ],
   "execution_count": 20
  },
  {
   "metadata": {
    "ExecuteTime": {
     "end_time": "2025-06-02T05:47:34.475687Z",
     "start_time": "2025-06-02T05:47:34.465717Z"
    }
   },
   "cell_type": "code",
   "source": [
    "R = np.sqrt(R_2)\n",
    "print(R)"
   ],
   "id": "f8d3a3a4e19b4715",
   "outputs": [
    {
     "name": "stdout",
     "output_type": "stream",
     "text": [
      "0.8587038957977096\n"
     ]
    }
   ],
   "execution_count": 21
  }
 ],
 "metadata": {
  "kernelspec": {
   "display_name": "Python 3",
   "language": "python",
   "name": "python3"
  },
  "language_info": {
   "codemirror_mode": {
    "name": "ipython",
    "version": 2
   },
   "file_extension": ".py",
   "mimetype": "text/x-python",
   "name": "python",
   "nbconvert_exporter": "python",
   "pygments_lexer": "ipython2",
   "version": "2.7.6"
  }
 },
 "nbformat": 4,
 "nbformat_minor": 5
}
