{
 "cells": [
  {
   "cell_type": "code",
   "id": "initial_id",
   "metadata": {
    "collapsed": true,
    "ExecuteTime": {
     "end_time": "2025-03-14T02:42:07.364674Z",
     "start_time": "2025-03-14T02:42:07.349030Z"
    }
   },
   "source": [
    "import numpy as np\n",
    "from prettytable import PrettyTable\n",
    "import matplotlib.pyplot as plt\n",
    "import scipy\n",
    "from scipy.stats import norm\n",
    "from scipy.special import erf"
   ],
   "outputs": [],
   "execution_count": 46
  },
  {
   "metadata": {},
   "cell_type": "markdown",
   "source": "Варіант 22",
   "id": "299afc6b15b940b9"
  },
  {
   "metadata": {
    "ExecuteTime": {
     "end_time": "2025-03-14T01:51:19.807375Z",
     "start_time": "2025-03-14T01:51:19.791788Z"
    }
   },
   "cell_type": "code",
   "source": [
    "# Теоретичний розподіл: РОЗПОДІЛ ПУАССОНА\n",
    "\n",
    "data = np.array([12, 15, 7, 19, 15, 27, 22, 4,\n",
    "                 11, 19, 15, 7, 1, 12, 22, 4,\n",
    "                 11, 15, 19, 12, 7, 27, 15, 19,\n",
    "                 11, 22, 12, 19, 15, 12, 15, 31])\n",
    "y = 0.999\n",
    "sigma = 7\n",
    "a = 0.05"
   ],
   "id": "9e9067ba7eb1cb3a",
   "outputs": [],
   "execution_count": 2
  },
  {
   "metadata": {
    "ExecuteTime": {
     "end_time": "2025-03-14T01:51:19.838658Z",
     "start_time": "2025-03-14T01:51:19.807375Z"
    }
   },
   "cell_type": "code",
   "source": [
    "var_arr = np.sort(data)\n",
    "values, counts = np.unique(var_arr, return_counts=True)\n",
    "n = np.size(data)\n",
    "\n",
    "table = PrettyTable()\n",
    "table.field_names = [\"Унікальне значення\", \"Кількість\"]\n",
    "for i in range(np.size(values)):\n",
    "    table.add_row([values[i], counts[i]], divider=True)\n",
    "table"
   ],
   "id": "12abd2bdacc175fc",
   "outputs": [
    {
     "data": {
      "text/plain": [
       "+--------------------+-----------+\n",
       "| Унікальне значення | Кількість |\n",
       "+--------------------+-----------+\n",
       "|         1          |     1     |\n",
       "+--------------------+-----------+\n",
       "|         4          |     2     |\n",
       "+--------------------+-----------+\n",
       "|         7          |     3     |\n",
       "+--------------------+-----------+\n",
       "|         11         |     3     |\n",
       "+--------------------+-----------+\n",
       "|         12         |     5     |\n",
       "+--------------------+-----------+\n",
       "|         15         |     7     |\n",
       "+--------------------+-----------+\n",
       "|         19         |     5     |\n",
       "+--------------------+-----------+\n",
       "|         22         |     3     |\n",
       "+--------------------+-----------+\n",
       "|         27         |     2     |\n",
       "+--------------------+-----------+\n",
       "|         31         |     1     |\n",
       "+--------------------+-----------+"
      ],
      "text/html": [
       "<table>\n",
       "    <thead>\n",
       "        <tr>\n",
       "            <th>Унікальне значення</th>\n",
       "            <th>Кількість</th>\n",
       "        </tr>\n",
       "    </thead>\n",
       "    <tbody>\n",
       "        <tr>\n",
       "            <td>1</td>\n",
       "            <td>1</td>\n",
       "        </tr>\n",
       "        <tr>\n",
       "            <td>4</td>\n",
       "            <td>2</td>\n",
       "        </tr>\n",
       "        <tr>\n",
       "            <td>7</td>\n",
       "            <td>3</td>\n",
       "        </tr>\n",
       "        <tr>\n",
       "            <td>11</td>\n",
       "            <td>3</td>\n",
       "        </tr>\n",
       "        <tr>\n",
       "            <td>12</td>\n",
       "            <td>5</td>\n",
       "        </tr>\n",
       "        <tr>\n",
       "            <td>15</td>\n",
       "            <td>7</td>\n",
       "        </tr>\n",
       "        <tr>\n",
       "            <td>19</td>\n",
       "            <td>5</td>\n",
       "        </tr>\n",
       "        <tr>\n",
       "            <td>22</td>\n",
       "            <td>3</td>\n",
       "        </tr>\n",
       "        <tr>\n",
       "            <td>27</td>\n",
       "            <td>2</td>\n",
       "        </tr>\n",
       "        <tr>\n",
       "            <td>31</td>\n",
       "            <td>1</td>\n",
       "        </tr>\n",
       "    </tbody>\n",
       "</table>"
      ]
     },
     "execution_count": 3,
     "metadata": {},
     "output_type": "execute_result"
    }
   ],
   "execution_count": 3
  },
  {
   "metadata": {},
   "cell_type": "markdown",
   "source": "Знайдіть точкові незміщені оцінки середнього значення та середнього квадратичного відхилення",
   "id": "bdd872c540abef0f"
  },
  {
   "metadata": {
    "ExecuteTime": {
     "end_time": "2025-03-14T01:51:19.854206Z",
     "start_time": "2025-03-14T01:51:19.838658Z"
    }
   },
   "cell_type": "code",
   "source": [
    "x_b = round(np.sum(values * counts) / n, 6)\n",
    "print(x_b)"
   ],
   "id": "7f8336d9ba806ee2",
   "outputs": [
    {
     "data": {
      "text/plain": [
       "np.float64(14.8125)"
      ]
     },
     "execution_count": 4,
     "metadata": {},
     "output_type": "execute_result"
    }
   ],
   "execution_count": 4
  },
  {
   "metadata": {
    "ExecuteTime": {
     "end_time": "2025-03-14T01:51:19.876482Z",
     "start_time": "2025-03-14T01:51:19.854206Z"
    }
   },
   "cell_type": "code",
   "source": [
    "D_b = round(np.sum(pow(values, 2) * counts) / n, 6) - pow(x_b, 2)\n",
    "S2 = D_b*n/(n-1)\n",
    "if n>=30:\n",
    "    sigma_b = round(np.sqrt(D_b), 6)\n",
    "else:\n",
    "    sigma_b = round(np.sqrt(S2), 6)\n",
    "print(sigma_b)"
   ],
   "id": "eda47aa08a680d4e",
   "outputs": [
    {
     "data": {
      "text/plain": [
       "np.float64(6.830252)"
      ]
     },
     "execution_count": 5,
     "metadata": {},
     "output_type": "execute_result"
    }
   ],
   "execution_count": 5
  },
  {
   "metadata": {},
   "cell_type": "markdown",
   "source": "Припускаючи нормальний розподіл випадкової величини, знайдіть з надійністю у довірчий інтервал для математичного сподівання при відомому σ ",
   "id": "7121bb8768771df1"
  },
  {
   "metadata": {
    "ExecuteTime": {
     "end_time": "2025-03-14T02:52:52.699843Z",
     "start_time": "2025-03-14T02:52:52.668579Z"
    }
   },
   "cell_type": "code",
   "source": [
    "# F_x = y/2 = 0.4995\n",
    "x_res = 3.4\n",
    "\n",
    "top_limit = x_b - x_res*sigma/np.sqrt(n)\n",
    "bottom_limit = x_b + x_res*sigma/np.sqrt(n)\n",
    "\n",
    "print(x_res)\n",
    "print(f'{round(top_limit, 6)} < M(x) < {round(bottom_limit, 6)}')"
   ],
   "id": "c274be1a7d4b79b6",
   "outputs": [
    {
     "name": "stdout",
     "output_type": "stream",
     "text": [
      "3.4\n",
      "10.605215 < M(x) < 19.019785\n"
     ]
    }
   ],
   "execution_count": 60
  },
  {
   "metadata": {
    "ExecuteTime": {
     "end_time": "2025-03-14T02:52:49.106349Z",
     "start_time": "2025-03-14T02:52:49.090795Z"
    }
   },
   "cell_type": "code",
   "source": [
    "x_res1 = norm.ppf(y)\n",
    "\n",
    "top_limit = x_b - x_res1*sigma/np.sqrt(n)\n",
    "bottom_limit = x_b + x_res1*sigma/np.sqrt(n)\n",
    "\n",
    "print(round(x_res1, 2))\n",
    "print(f'{round(top_limit, 6)} < M(x) < {round(bottom_limit, 6)}')"
   ],
   "id": "3bceaa9faa0426fd",
   "outputs": [
    {
     "name": "stdout",
     "output_type": "stream",
     "text": [
      "3.09\n",
      "10.988533 < M(x) < 18.636467\n"
     ]
    }
   ],
   "execution_count": 59
  },
  {
   "metadata": {},
   "cell_type": "markdown",
   "source": "https://stackoverflow.com/questions/56016484/how-to-calculate-laplace-function-in-python-3",
   "id": "2bb297e2050d56c7"
  },
  {
   "metadata": {
    "ExecuteTime": {
     "end_time": "2025-03-14T02:53:23.973858Z",
     "start_time": "2025-03-14T02:53:23.958193Z"
    }
   },
   "cell_type": "code",
   "source": [
    "F_x = lambda x: erf(x/2**0.5)/2\n",
    "x_res2 = F_x(y)\n",
    "\n",
    "top_limit = x_b - x_res2*sigma/np.sqrt(n)\n",
    "bottom_limit = x_b + x_res2*sigma/np.sqrt(n)\n",
    "\n",
    "print(round(x_res2, 2))\n",
    "print(f'{round(top_limit, 6)} < M(x) < {round(bottom_limit, 6)}')"
   ],
   "id": "d9304962ef23ba2f",
   "outputs": [
    {
     "name": "stdout",
     "output_type": "stream",
     "text": [
      "0.34\n",
      "14.390407 < M(x) < 15.234593\n"
     ]
    }
   ],
   "execution_count": 63
  },
  {
   "metadata": {},
   "cell_type": "markdown",
   "source": "Перевірте за допомогою критерію Пірсона при рівні значущості α гіпотезу про відповідний теоретичний розподіл заданої випадкової величини",
   "id": "9cac699d60b918d"
  },
  {
   "metadata": {},
   "cell_type": "code",
   "outputs": [],
   "execution_count": null,
   "source": "",
   "id": "9ab79e07055e53f7"
  }
 ],
 "metadata": {
  "kernelspec": {
   "display_name": "Python 3",
   "language": "python",
   "name": "python3"
  },
  "language_info": {
   "codemirror_mode": {
    "name": "ipython",
    "version": 2
   },
   "file_extension": ".py",
   "mimetype": "text/x-python",
   "name": "python",
   "nbconvert_exporter": "python",
   "pygments_lexer": "ipython2",
   "version": "2.7.6"
  }
 },
 "nbformat": 4,
 "nbformat_minor": 5
}
