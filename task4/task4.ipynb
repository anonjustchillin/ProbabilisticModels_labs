{
 "cells": [
  {
   "cell_type": "code",
   "id": "initial_id",
   "metadata": {
    "collapsed": true,
    "ExecuteTime": {
     "end_time": "2025-03-28T13:39:10.651391Z",
     "start_time": "2025-03-28T13:39:10.630529Z"
    }
   },
   "source": [
    "import numpy as np\n",
    "import math\n",
    "from prettytable import PrettyTable"
   ],
   "outputs": [],
   "execution_count": 66
  },
  {
   "metadata": {},
   "cell_type": "markdown",
   "source": "Варіант 22",
   "id": "299afc6b15b940b9"
  },
  {
   "metadata": {
    "ExecuteTime": {
     "end_time": "2025-03-28T13:39:10.714424Z",
     "start_time": "2025-03-28T13:39:10.702466Z"
    }
   },
   "cell_type": "code",
   "source": [
    "# Теоретичний розподіл: РОЗПОДІЛ ПУАССОНА\n",
    "\n",
    "data = np.array([12, 15, 7, 19, 15, 27, 22, 4,\n",
    "                 11, 19, 15, 7, 1, 12, 22, 4,\n",
    "                 11, 15, 19, 12, 7, 27, 15, 19,\n",
    "                 11, 22, 12, 19, 15, 12, 15, 31])\n",
    "y = 0.999\n",
    "sigma = 7\n",
    "a = 0.05"
   ],
   "id": "9e9067ba7eb1cb3a",
   "outputs": [],
   "execution_count": 67
  },
  {
   "metadata": {
    "ExecuteTime": {
     "end_time": "2025-03-28T13:39:10.729901Z",
     "start_time": "2025-03-28T13:39:10.722588Z"
    }
   },
   "cell_type": "code",
   "source": [
    "var_arr = np.sort(data)\n",
    "values, counts = np.unique(var_arr, return_counts=True)\n",
    "n = np.sum(counts)\n",
    "\n",
    "table = PrettyTable()\n",
    "table.field_names = [\"Унікальне значення\", \"Частота\"]\n",
    "for i in range(np.size(values)):\n",
    "    table.add_row([values[i], counts[i]], divider=True)\n",
    "table"
   ],
   "id": "12abd2bdacc175fc",
   "outputs": [
    {
     "data": {
      "text/plain": [
       "+--------------------+---------+\n",
       "| Унікальне значення | Частота |\n",
       "+--------------------+---------+\n",
       "|         1          |    1    |\n",
       "+--------------------+---------+\n",
       "|         4          |    2    |\n",
       "+--------------------+---------+\n",
       "|         7          |    3    |\n",
       "+--------------------+---------+\n",
       "|         11         |    3    |\n",
       "+--------------------+---------+\n",
       "|         12         |    5    |\n",
       "+--------------------+---------+\n",
       "|         15         |    7    |\n",
       "+--------------------+---------+\n",
       "|         19         |    5    |\n",
       "+--------------------+---------+\n",
       "|         22         |    3    |\n",
       "+--------------------+---------+\n",
       "|         27         |    2    |\n",
       "+--------------------+---------+\n",
       "|         31         |    1    |\n",
       "+--------------------+---------+"
      ],
      "text/html": [
       "<table>\n",
       "    <thead>\n",
       "        <tr>\n",
       "            <th>Унікальне значення</th>\n",
       "            <th>Частота</th>\n",
       "        </tr>\n",
       "    </thead>\n",
       "    <tbody>\n",
       "        <tr>\n",
       "            <td>1</td>\n",
       "            <td>1</td>\n",
       "        </tr>\n",
       "        <tr>\n",
       "            <td>4</td>\n",
       "            <td>2</td>\n",
       "        </tr>\n",
       "        <tr>\n",
       "            <td>7</td>\n",
       "            <td>3</td>\n",
       "        </tr>\n",
       "        <tr>\n",
       "            <td>11</td>\n",
       "            <td>3</td>\n",
       "        </tr>\n",
       "        <tr>\n",
       "            <td>12</td>\n",
       "            <td>5</td>\n",
       "        </tr>\n",
       "        <tr>\n",
       "            <td>15</td>\n",
       "            <td>7</td>\n",
       "        </tr>\n",
       "        <tr>\n",
       "            <td>19</td>\n",
       "            <td>5</td>\n",
       "        </tr>\n",
       "        <tr>\n",
       "            <td>22</td>\n",
       "            <td>3</td>\n",
       "        </tr>\n",
       "        <tr>\n",
       "            <td>27</td>\n",
       "            <td>2</td>\n",
       "        </tr>\n",
       "        <tr>\n",
       "            <td>31</td>\n",
       "            <td>1</td>\n",
       "        </tr>\n",
       "    </tbody>\n",
       "</table>"
      ]
     },
     "execution_count": 68,
     "metadata": {},
     "output_type": "execute_result"
    }
   ],
   "execution_count": 68
  },
  {
   "metadata": {
    "ExecuteTime": {
     "end_time": "2025-03-28T13:39:10.745896Z",
     "start_time": "2025-03-28T13:39:10.731882Z"
    }
   },
   "cell_type": "code",
   "source": "print(f'n = {n}')",
   "id": "a7ac95db6864527f",
   "outputs": [
    {
     "name": "stdout",
     "output_type": "stream",
     "text": [
      "n = 32\n"
     ]
    }
   ],
   "execution_count": 69
  },
  {
   "metadata": {},
   "cell_type": "markdown",
   "source": "Знайдіть точкові незміщені оцінки середнього значення та середнього квадратичного відхилення",
   "id": "bdd872c540abef0f"
  },
  {
   "metadata": {
    "ExecuteTime": {
     "end_time": "2025-03-28T13:39:10.761699Z",
     "start_time": "2025-03-28T13:39:10.755701Z"
    }
   },
   "cell_type": "code",
   "source": [
    "x_b = round(np.sum(values * counts) / n, 6)\n",
    "print(x_b)"
   ],
   "id": "7f8336d9ba806ee2",
   "outputs": [
    {
     "name": "stdout",
     "output_type": "stream",
     "text": [
      "14.8125\n"
     ]
    }
   ],
   "execution_count": 70
  },
  {
   "metadata": {
    "ExecuteTime": {
     "end_time": "2025-03-28T13:39:10.792143Z",
     "start_time": "2025-03-28T13:39:10.772769Z"
    }
   },
   "cell_type": "code",
   "source": [
    "D_b = round(np.sum(pow(values, 2) * counts) / n, 6) - pow(x_b, 2)\n",
    "print(D_b)"
   ],
   "id": "88dddb9d1187f25",
   "outputs": [
    {
     "name": "stdout",
     "output_type": "stream",
     "text": [
      "46.65234375\n"
     ]
    }
   ],
   "execution_count": 71
  },
  {
   "metadata": {
    "ExecuteTime": {
     "end_time": "2025-03-28T13:39:10.806851Z",
     "start_time": "2025-03-28T13:39:10.793814Z"
    }
   },
   "cell_type": "code",
   "source": [
    "S2 = D_b*n/(n-1)\n",
    "print(S2)"
   ],
   "id": "ebfa296de379a7c2",
   "outputs": [
    {
     "name": "stdout",
     "output_type": "stream",
     "text": [
      "48.15725806451613\n"
     ]
    }
   ],
   "execution_count": 72
  },
  {
   "metadata": {
    "ExecuteTime": {
     "end_time": "2025-03-28T14:20:18.950430Z",
     "start_time": "2025-03-28T14:20:18.935092Z"
    }
   },
   "cell_type": "code",
   "source": [
    "sigma_b = round(np.sqrt(D_b), 6)\n",
    "print(sigma_b)"
   ],
   "id": "353e4a56aa2b1e74",
   "outputs": [
    {
     "name": "stdout",
     "output_type": "stream",
     "text": [
      "6.830252\n"
     ]
    }
   ],
   "execution_count": 86
  },
  {
   "metadata": {
    "ExecuteTime": {
     "end_time": "2025-03-28T14:21:43.860955Z",
     "start_time": "2025-03-28T14:21:43.849813Z"
    }
   },
   "cell_type": "code",
   "source": [
    "S = round(np.sqrt(S2), 6)\n",
    "print(S)"
   ],
   "id": "5f823307dbb29b84",
   "outputs": [
    {
     "name": "stdout",
     "output_type": "stream",
     "text": [
      "6.939543\n"
     ]
    }
   ],
   "execution_count": 88
  },
  {
   "metadata": {},
   "cell_type": "markdown",
   "source": "Припускаючи нормальний розподіл випадкової величини, знайдіть з надійністю у довірчий інтервал для математичного сподівання при відомому σ ",
   "id": "7121bb8768771df1"
  },
  {
   "metadata": {},
   "cell_type": "markdown",
   "source": "х взято з таблички",
   "id": "f1abb3cf9ae61166"
  },
  {
   "metadata": {
    "ExecuteTime": {
     "end_time": "2025-03-28T13:39:10.852948Z",
     "start_time": "2025-03-28T13:39:10.842101Z"
    }
   },
   "cell_type": "code",
   "source": [
    "# F_x = y/2 = 0.4995\n",
    "x_res = 3.4\n",
    "\n",
    "top_limit = x_b - x_res*sigma/np.sqrt(n)\n",
    "bottom_limit = x_b + x_res*sigma/np.sqrt(n)\n",
    "\n",
    "print(x_res)\n",
    "print(f'{round(top_limit, 6)} < M(x) < {round(bottom_limit, 6)}')"
   ],
   "id": "c274be1a7d4b79b6",
   "outputs": [
    {
     "name": "stdout",
     "output_type": "stream",
     "text": [
      "3.4\n",
      "10.605215 < M(x) < 19.019785\n"
     ]
    }
   ],
   "execution_count": 74
  },
  {
   "metadata": {},
   "cell_type": "markdown",
   "source": "х через norm.ppf()",
   "id": "69af06c756184995"
  },
  {
   "metadata": {
    "ExecuteTime": {
     "end_time": "2025-03-28T13:39:10.884786Z",
     "start_time": "2025-03-28T13:39:10.869975Z"
    }
   },
   "cell_type": "code",
   "source": "from scipy.stats import norm",
   "id": "db16324557f579e7",
   "outputs": [],
   "execution_count": 75
  },
  {
   "metadata": {
    "ExecuteTime": {
     "end_time": "2025-03-28T13:39:10.915255Z",
     "start_time": "2025-03-28T13:39:10.905270Z"
    }
   },
   "cell_type": "code",
   "source": [
    "x_res1 = norm.ppf(y)\n",
    "\n",
    "top_limit = x_b - x_res1*sigma/np.sqrt(n)\n",
    "bottom_limit = x_b + x_res1*sigma/np.sqrt(n)\n",
    "\n",
    "print(round(x_res1, 2))\n",
    "print(f'{round(top_limit, 6)} < M(x) < {round(bottom_limit, 6)}')"
   ],
   "id": "3bceaa9faa0426fd",
   "outputs": [
    {
     "name": "stdout",
     "output_type": "stream",
     "text": [
      "3.09\n",
      "10.988533 < M(x) < 18.636467\n"
     ]
    }
   ],
   "execution_count": 76
  },
  {
   "metadata": {},
   "cell_type": "markdown",
   "source": [
    "х через erf()\n",
    "https://stackoverflow.com/questions/56016484/how-to-calculate-laplace-function-in-python-3"
   ],
   "id": "2bb297e2050d56c7"
  },
  {
   "metadata": {
    "ExecuteTime": {
     "end_time": "2025-03-28T13:39:10.931334Z",
     "start_time": "2025-03-28T13:39:10.921258Z"
    }
   },
   "cell_type": "code",
   "source": "from scipy.special import erf",
   "id": "efe7cf264ea3b5a1",
   "outputs": [],
   "execution_count": 77
  },
  {
   "metadata": {
    "ExecuteTime": {
     "end_time": "2025-03-28T13:39:10.946189Z",
     "start_time": "2025-03-28T13:39:10.934096Z"
    }
   },
   "cell_type": "code",
   "source": [
    "F_x = lambda x: erf(x/2**0.5)/2\n",
    "x_res2 = F_x(y)\n",
    "\n",
    "top_limit = x_b - x_res2*sigma/np.sqrt(n)\n",
    "bottom_limit = x_b + x_res2*sigma/np.sqrt(n)\n",
    "\n",
    "print(round(x_res2, 2))\n",
    "print(f'{round(top_limit, 6)} < M(x) < {round(bottom_limit, 6)}')"
   ],
   "id": "d9304962ef23ba2f",
   "outputs": [
    {
     "name": "stdout",
     "output_type": "stream",
     "text": [
      "0.34\n",
      "14.390407 < M(x) < 15.234593\n"
     ]
    }
   ],
   "execution_count": 78
  },
  {
   "metadata": {},
   "cell_type": "markdown",
   "source": "Перевірте за допомогою критерію Пірсона при рівні значущості α гіпотезу про відповідний теоретичний розподіл заданої випадкової величини",
   "id": "9cac699d60b918d"
  },
  {
   "metadata": {
    "ExecuteTime": {
     "end_time": "2025-03-28T13:39:10.961387Z",
     "start_time": "2025-03-28T13:39:10.949196Z"
    }
   },
   "cell_type": "code",
   "source": "from scipy.stats import chi2",
   "id": "1bafb38865f3ec78",
   "outputs": [],
   "execution_count": 79
  },
  {
   "metadata": {
    "ExecuteTime": {
     "end_time": "2025-03-28T13:39:10.976404Z",
     "start_time": "2025-03-28T13:39:10.969233Z"
    }
   },
   "cell_type": "code",
   "source": [
    "def poisson(x_b, m):\n",
    "    return (np.power(x_b, m) * np.exp(-m)) / math.factorial(m)"
   ],
   "id": "1c1bd68dfea5f546",
   "outputs": [],
   "execution_count": 80
  },
  {
   "metadata": {
    "ExecuteTime": {
     "end_time": "2025-03-28T13:39:11.007220Z",
     "start_time": "2025-03-28T13:39:10.987290Z"
    }
   },
   "cell_type": "code",
   "source": [
    "p = np.array([])\n",
    "for x in values:\n",
    "    p = np.append(p, poisson(x_b, x))\n",
    "\n",
    "p = np.append(p, 1 - np.sum(p))\n",
    "n_p = np.array([n * p_i for p_i in p])\n",
    "\n",
    "pearson_values = np.array([np.power(n_i - np_i,2) / np_i for n_i, np_i in zip(counts, n_p)])\n",
    "pearson_observed =np.sum(pearson_values)"
   ],
   "id": "9ab79e07055e53f7",
   "outputs": [],
   "execution_count": 81
  },
  {
   "metadata": {
    "ExecuteTime": {
     "end_time": "2025-03-28T14:43:25.714482Z",
     "start_time": "2025-03-28T14:43:25.686506Z"
    }
   },
   "cell_type": "code",
   "source": [
    "table = PrettyTable()\n",
    "table.field_names = [\"x_i\", \"n_i\", \"p_i\", \"n*_i\",\"(n_i-n_i*)^2\", \"(n_i-n_i*)^2 / n_i*\"]\n",
    "midpoints = np.array([np.power(n_i - np_i, 2) for n_i, np_i in zip(counts, n_p)])\n",
    "\n",
    "for i in range(len(values)):\n",
    "    table.add_row([f\"{values[i]}\",\n",
    "                   counts[i],\n",
    "                   f\"{p[i]:.4f}\",\n",
    "                   f\"{n_p[i]:.4f}\",\n",
    "                   f\"{midpoints[i]:.4f}\",\n",
    "                   f\"{pearson_values[i]:.4f}\"])\n",
    "\n",
    "table.add_row([\"Sum\", np.sum(counts), np.sum(p), np.sum(n_p), \"-\", f\"χ^2 спост = {np.sum(pearson_values):.4f}\"])\n",
    "table"
   ],
   "id": "71a0a4cec53156cd",
   "outputs": [
    {
     "data": {
      "text/plain": [
       "+-----+-----+---------+-----------+--------------+-----------------------------+\n",
       "| x_i | n_i |   p_i   |    n*_i   | (n_i-n_i*)^2 |     (n_i-n_i*)^2 / n_i*     |\n",
       "+-----+-----+---------+-----------+--------------+-----------------------------+\n",
       "|  1  |  1  |  5.4492 |  174.3749 |  30058.8404  |           172.3806          |\n",
       "|  4  |  2  | 36.7387 | 1175.6398 | 1377430.2670 |          1171.6432          |\n",
       "|  7  |  3  | 28.3078 |  905.8507 | 815139.3404  |           899.8606          |\n",
       "|  11 |  3  |  3.1515 |  100.8479 |  9574.2159   |           94.9372           |\n",
       "|  12 |  5  |  1.4311 |  45.7952  |  1664.2452   |           36.3411           |\n",
       "|  15 |  7  |  0.0848 |   2.7143  |   18.3672    |            6.7668           |\n",
       "|  19 |  5  |  0.0008 |   0.0257  |   24.7434    |           961.7452          |\n",
       "|  22 |  3  |  0.0000 |   0.0005  |    8.9973    |          19970.2397         |\n",
       "|  27 |  2  |  0.0000 |   0.0000  |    4.0000    |        17901025.3573        |\n",
       "|  31 |  1  |  0.0000 |   0.0000  |    1.0000    |       3832846839.8033       |\n",
       "| Sum |  32 |   1.0   |    32.0   |      -       | χ^2 спост = 3850771179.0750 |\n",
       "+-----+-----+---------+-----------+--------------+-----------------------------+"
      ],
      "text/html": [
       "<table>\n",
       "    <thead>\n",
       "        <tr>\n",
       "            <th>x_i</th>\n",
       "            <th>n_i</th>\n",
       "            <th>p_i</th>\n",
       "            <th>n*_i</th>\n",
       "            <th>(n_i-n_i*)^2</th>\n",
       "            <th>(n_i-n_i*)^2 / n_i*</th>\n",
       "        </tr>\n",
       "    </thead>\n",
       "    <tbody>\n",
       "        <tr>\n",
       "            <td>1</td>\n",
       "            <td>1</td>\n",
       "            <td>5.4492</td>\n",
       "            <td>174.3749</td>\n",
       "            <td>30058.8404</td>\n",
       "            <td>172.3806</td>\n",
       "        </tr>\n",
       "        <tr>\n",
       "            <td>4</td>\n",
       "            <td>2</td>\n",
       "            <td>36.7387</td>\n",
       "            <td>1175.6398</td>\n",
       "            <td>1377430.2670</td>\n",
       "            <td>1171.6432</td>\n",
       "        </tr>\n",
       "        <tr>\n",
       "            <td>7</td>\n",
       "            <td>3</td>\n",
       "            <td>28.3078</td>\n",
       "            <td>905.8507</td>\n",
       "            <td>815139.3404</td>\n",
       "            <td>899.8606</td>\n",
       "        </tr>\n",
       "        <tr>\n",
       "            <td>11</td>\n",
       "            <td>3</td>\n",
       "            <td>3.1515</td>\n",
       "            <td>100.8479</td>\n",
       "            <td>9574.2159</td>\n",
       "            <td>94.9372</td>\n",
       "        </tr>\n",
       "        <tr>\n",
       "            <td>12</td>\n",
       "            <td>5</td>\n",
       "            <td>1.4311</td>\n",
       "            <td>45.7952</td>\n",
       "            <td>1664.2452</td>\n",
       "            <td>36.3411</td>\n",
       "        </tr>\n",
       "        <tr>\n",
       "            <td>15</td>\n",
       "            <td>7</td>\n",
       "            <td>0.0848</td>\n",
       "            <td>2.7143</td>\n",
       "            <td>18.3672</td>\n",
       "            <td>6.7668</td>\n",
       "        </tr>\n",
       "        <tr>\n",
       "            <td>19</td>\n",
       "            <td>5</td>\n",
       "            <td>0.0008</td>\n",
       "            <td>0.0257</td>\n",
       "            <td>24.7434</td>\n",
       "            <td>961.7452</td>\n",
       "        </tr>\n",
       "        <tr>\n",
       "            <td>22</td>\n",
       "            <td>3</td>\n",
       "            <td>0.0000</td>\n",
       "            <td>0.0005</td>\n",
       "            <td>8.9973</td>\n",
       "            <td>19970.2397</td>\n",
       "        </tr>\n",
       "        <tr>\n",
       "            <td>27</td>\n",
       "            <td>2</td>\n",
       "            <td>0.0000</td>\n",
       "            <td>0.0000</td>\n",
       "            <td>4.0000</td>\n",
       "            <td>17901025.3573</td>\n",
       "        </tr>\n",
       "        <tr>\n",
       "            <td>31</td>\n",
       "            <td>1</td>\n",
       "            <td>0.0000</td>\n",
       "            <td>0.0000</td>\n",
       "            <td>1.0000</td>\n",
       "            <td>3832846839.8033</td>\n",
       "        </tr>\n",
       "        <tr>\n",
       "            <td>Sum</td>\n",
       "            <td>32</td>\n",
       "            <td>1.0</td>\n",
       "            <td>32.0</td>\n",
       "            <td>-</td>\n",
       "            <td>χ^2 спост = 3850771179.0750</td>\n",
       "        </tr>\n",
       "    </tbody>\n",
       "</table>"
      ]
     },
     "execution_count": 89,
     "metadata": {},
     "output_type": "execute_result"
    }
   ],
   "execution_count": 89
  },
  {
   "metadata": {
    "ExecuteTime": {
     "end_time": "2025-03-28T13:39:11.067808Z",
     "start_time": "2025-03-28T13:39:11.054812Z"
    }
   },
   "cell_type": "code",
   "source": [
    "k = len(values) - 1 - 1\n",
    "print(k)"
   ],
   "id": "b9a9a2322dd98b78",
   "outputs": [
    {
     "name": "stdout",
     "output_type": "stream",
     "text": [
      "8\n"
     ]
    }
   ],
   "execution_count": 83
  },
  {
   "metadata": {
    "ExecuteTime": {
     "end_time": "2025-03-28T17:27:55.634147Z",
     "start_time": "2025-03-28T17:27:55.582012Z"
    }
   },
   "cell_type": "code",
   "source": [
    "critical_value = chi2.ppf(1 - a, k)\n",
    "print(f\"Критичне значення χ^2 для α = {a} та k = {k}: {critical_value:.4f}\")"
   ],
   "id": "71834478e6bfd7d7",
   "outputs": [
    {
     "name": "stdout",
     "output_type": "stream",
     "text": [
      "Критичне значення χ^2 для α = 0.05 та k = 8: 15.5073\n"
     ]
    }
   ],
   "execution_count": 91
  },
  {
   "metadata": {
    "ExecuteTime": {
     "end_time": "2025-03-28T16:11:16.776459Z",
     "start_time": "2025-03-28T16:11:16.764028Z"
    }
   },
   "cell_type": "code",
   "source": [
    "if pearson_observed < critical_value:\n",
    "    print(\"Оскільки χ^2спост < χ^2кр, гіпотезу про розподіл Пуассона не відхиляємо\")\n",
    "else:\n",
    "    print(\"Оскільки χ^2спост > χ^2кр, гіпотезу про розподіл Пуассона відхиляємо\")"
   ],
   "id": "e99d64b068f4cb4f",
   "outputs": [
    {
     "name": "stdout",
     "output_type": "stream",
     "text": [
      "Оскільки χ^2спост > χ^2кр, гіпотезу про розподіл Пуассона відхиляємо\n"
     ]
    }
   ],
   "execution_count": 90
  }
 ],
 "metadata": {
  "kernelspec": {
   "display_name": "Python 3",
   "language": "python",
   "name": "python3"
  },
  "language_info": {
   "codemirror_mode": {
    "name": "ipython",
    "version": 2
   },
   "file_extension": ".py",
   "mimetype": "text/x-python",
   "name": "python",
   "nbconvert_exporter": "python",
   "pygments_lexer": "ipython2",
   "version": "2.7.6"
  }
 },
 "nbformat": 4,
 "nbformat_minor": 5
}
