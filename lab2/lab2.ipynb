{
 "cells": [
  {
   "cell_type": "code",
   "id": "initial_id",
   "metadata": {
    "collapsed": true,
    "ExecuteTime": {
     "end_time": "2025-03-31T23:20:49.243971Z",
     "start_time": "2025-03-31T23:20:49.235539Z"
    }
   },
   "source": [
    "import numpy as np\n",
    "from prettytable import PrettyTable\n",
    "import matplotlib.pyplot as plt\n",
    "from scipy.stats import norm, kstwobign, ksone, chi2"
   ],
   "outputs": [],
   "execution_count": 196
  },
  {
   "metadata": {},
   "cell_type": "markdown",
   "source": "Варіант 22",
   "id": "2a9bdee09982e142"
  },
  {
   "metadata": {
    "ExecuteTime": {
     "end_time": "2025-03-31T23:20:49.322139Z",
     "start_time": "2025-03-31T23:20:49.306836Z"
    }
   },
   "cell_type": "code",
   "source": [
    "var = 22\n",
    "a = 0.05\n",
    "xi = np.array([[var, var+1],\n",
    "               [var+1, var+2],\n",
    "               [var+2, var+3],\n",
    "               [var+3, var+4],\n",
    "               [var+4, var+5], \n",
    "               [var+5, var+6],\n",
    "               [var+6, var+7],\n",
    "               [var+7, var+8]])\n",
    "mi = np.array([10, 8, 7, 10, 22, 18, 14, 11])"
   ],
   "id": "e38bc491199aabe3",
   "outputs": [],
   "execution_count": 197
  },
  {
   "metadata": {
    "ExecuteTime": {
     "end_time": "2025-03-31T23:20:49.337827Z",
     "start_time": "2025-03-31T23:20:49.329441Z"
    }
   },
   "cell_type": "code",
   "source": "interval_count = xi.shape[0]",
   "id": "f1729871c6436b95",
   "outputs": [],
   "execution_count": 198
  },
  {
   "metadata": {
    "ExecuteTime": {
     "end_time": "2025-03-31T23:20:49.368472Z",
     "start_time": "2025-03-31T23:20:49.347168Z"
    }
   },
   "cell_type": "code",
   "source": [
    "table = PrettyTable()\n",
    "table.field_names = [\"(x_i; x_i+1)\", \"m_i\"]\n",
    "\n",
    "for i in range(interval_count):\n",
    "    table.add_row([\n",
    "        f\"({xi[i, 0]}; {xi[i, 1]})\",\n",
    "        mi[i]\n",
    "    ])\n",
    "table"
   ],
   "id": "c5a8d473850597b7",
   "outputs": [
    {
     "data": {
      "text/plain": [
       "+--------------+-----+\n",
       "| (x_i; x_i+1) | m_i |\n",
       "+--------------+-----+\n",
       "|   (22; 23)   |  10 |\n",
       "|   (23; 24)   |  8  |\n",
       "|   (24; 25)   |  7  |\n",
       "|   (25; 26)   |  10 |\n",
       "|   (26; 27)   |  22 |\n",
       "|   (27; 28)   |  18 |\n",
       "|   (28; 29)   |  14 |\n",
       "|   (29; 30)   |  11 |\n",
       "+--------------+-----+"
      ],
      "text/html": [
       "<table>\n",
       "    <thead>\n",
       "        <tr>\n",
       "            <th>(x_i; x_i+1)</th>\n",
       "            <th>m_i</th>\n",
       "        </tr>\n",
       "    </thead>\n",
       "    <tbody>\n",
       "        <tr>\n",
       "            <td>(22; 23)</td>\n",
       "            <td>10</td>\n",
       "        </tr>\n",
       "        <tr>\n",
       "            <td>(23; 24)</td>\n",
       "            <td>8</td>\n",
       "        </tr>\n",
       "        <tr>\n",
       "            <td>(24; 25)</td>\n",
       "            <td>7</td>\n",
       "        </tr>\n",
       "        <tr>\n",
       "            <td>(25; 26)</td>\n",
       "            <td>10</td>\n",
       "        </tr>\n",
       "        <tr>\n",
       "            <td>(26; 27)</td>\n",
       "            <td>22</td>\n",
       "        </tr>\n",
       "        <tr>\n",
       "            <td>(27; 28)</td>\n",
       "            <td>18</td>\n",
       "        </tr>\n",
       "        <tr>\n",
       "            <td>(28; 29)</td>\n",
       "            <td>14</td>\n",
       "        </tr>\n",
       "        <tr>\n",
       "            <td>(29; 30)</td>\n",
       "            <td>11</td>\n",
       "        </tr>\n",
       "    </tbody>\n",
       "</table>"
      ]
     },
     "execution_count": 199,
     "metadata": {},
     "output_type": "execute_result"
    }
   ],
   "execution_count": 199
  },
  {
   "metadata": {
    "ExecuteTime": {
     "end_time": "2025-03-31T23:20:49.384416Z",
     "start_time": "2025-03-31T23:20:49.378384Z"
    }
   },
   "cell_type": "code",
   "source": [
    "n = np.sum(mi)\n",
    "print(f\"n = {n}\")"
   ],
   "id": "ad94ef1ef428f224",
   "outputs": [
    {
     "name": "stdout",
     "output_type": "stream",
     "text": [
      "n = 100\n"
     ]
    }
   ],
   "execution_count": 200
  },
  {
   "metadata": {
    "ExecuteTime": {
     "end_time": "2025-03-31T23:20:49.414475Z",
     "start_time": "2025-03-31T23:20:49.393419Z"
    }
   },
   "cell_type": "code",
   "source": [
    "k = interval_count - 2 - 1\n",
    "print(f'k = {k}')"
   ],
   "id": "9317181502801a59",
   "outputs": [
    {
     "name": "stdout",
     "output_type": "stream",
     "text": [
      "k = 5\n"
     ]
    }
   ],
   "execution_count": 201
  },
  {
   "metadata": {
    "ExecuteTime": {
     "end_time": "2025-03-31T23:20:49.429432Z",
     "start_time": "2025-03-31T23:20:49.416419Z"
    }
   },
   "cell_type": "code",
   "source": [
    "h = xi[0][1] - xi[0][0]\n",
    "print(f'h = {h}')"
   ],
   "id": "1761b664fc3f3ccf",
   "outputs": [
    {
     "name": "stdout",
     "output_type": "stream",
     "text": [
      "h = 1\n"
     ]
    }
   ],
   "execution_count": 202
  },
  {
   "metadata": {
    "ExecuteTime": {
     "end_time": "2025-03-31T23:20:49.445429Z",
     "start_time": "2025-03-31T23:20:49.437384Z"
    }
   },
   "cell_type": "code",
   "source": [
    "midpoints = [start + h / 2 for start, end in xi]\n",
    "table = PrettyTable()\n",
    "table.field_names = [\"Value\", \"Frequency\"]\n",
    "for i in range(len(midpoints)):\n",
    "    table.add_row([f\"{midpoints[i]}\", mi[i]])\n",
    "table"
   ],
   "id": "57cf22f738ad2f22",
   "outputs": [
    {
     "data": {
      "text/plain": [
       "+-------+-----------+\n",
       "| Value | Frequency |\n",
       "+-------+-----------+\n",
       "|  22.5 |     10    |\n",
       "|  23.5 |     8     |\n",
       "|  24.5 |     7     |\n",
       "|  25.5 |     10    |\n",
       "|  26.5 |     22    |\n",
       "|  27.5 |     18    |\n",
       "|  28.5 |     14    |\n",
       "|  29.5 |     11    |\n",
       "+-------+-----------+"
      ],
      "text/html": [
       "<table>\n",
       "    <thead>\n",
       "        <tr>\n",
       "            <th>Value</th>\n",
       "            <th>Frequency</th>\n",
       "        </tr>\n",
       "    </thead>\n",
       "    <tbody>\n",
       "        <tr>\n",
       "            <td>22.5</td>\n",
       "            <td>10</td>\n",
       "        </tr>\n",
       "        <tr>\n",
       "            <td>23.5</td>\n",
       "            <td>8</td>\n",
       "        </tr>\n",
       "        <tr>\n",
       "            <td>24.5</td>\n",
       "            <td>7</td>\n",
       "        </tr>\n",
       "        <tr>\n",
       "            <td>25.5</td>\n",
       "            <td>10</td>\n",
       "        </tr>\n",
       "        <tr>\n",
       "            <td>26.5</td>\n",
       "            <td>22</td>\n",
       "        </tr>\n",
       "        <tr>\n",
       "            <td>27.5</td>\n",
       "            <td>18</td>\n",
       "        </tr>\n",
       "        <tr>\n",
       "            <td>28.5</td>\n",
       "            <td>14</td>\n",
       "        </tr>\n",
       "        <tr>\n",
       "            <td>29.5</td>\n",
       "            <td>11</td>\n",
       "        </tr>\n",
       "    </tbody>\n",
       "</table>"
      ]
     },
     "execution_count": 203,
     "metadata": {},
     "output_type": "execute_result"
    }
   ],
   "execution_count": 203
  },
  {
   "metadata": {
    "ExecuteTime": {
     "end_time": "2025-03-31T23:20:49.491474Z",
     "start_time": "2025-03-31T23:20:49.481383Z"
    }
   },
   "cell_type": "code",
   "source": [
    "def laplace_function(x):\n",
    "    return norm.cdf(x) - 0.5"
   ],
   "id": "fa1311be261d5717",
   "outputs": [],
   "execution_count": 204
  },
  {
   "metadata": {
    "ExecuteTime": {
     "end_time": "2025-03-31T23:20:49.569415Z",
     "start_time": "2025-03-31T23:20:49.550383Z"
    }
   },
   "cell_type": "code",
   "source": [
    "x_b = np.sum(midpoints * mi) / n\n",
    "print(f'x_b = {x_b}')"
   ],
   "id": "ffd1d9f5350afa48",
   "outputs": [
    {
     "name": "stdout",
     "output_type": "stream",
     "text": [
      "x_b = 26.41\n"
     ]
    }
   ],
   "execution_count": 205
  },
  {
   "metadata": {
    "ExecuteTime": {
     "end_time": "2025-03-31T23:20:49.584414Z",
     "start_time": "2025-03-31T23:20:49.571385Z"
    }
   },
   "cell_type": "code",
   "source": [
    "d = np.sum(np.power(midpoints, 2) * mi) / n - np.power(x_b, 2)\n",
    "print(f'D_b = {d:.4f}')"
   ],
   "id": "adbbb84634cfa839",
   "outputs": [
    {
     "name": "stdout",
     "output_type": "stream",
     "text": [
      "D_b = 4.4219\n"
     ]
    }
   ],
   "execution_count": 206
  },
  {
   "metadata": {
    "ExecuteTime": {
     "end_time": "2025-03-31T23:20:49.599456Z",
     "start_time": "2025-03-31T23:20:49.586384Z"
    }
   },
   "cell_type": "code",
   "source": [
    "sigma = np.sqrt(d)\n",
    "print(f'sigma = {sigma:.4f}')"
   ],
   "id": "582ba976b1568c73",
   "outputs": [
    {
     "name": "stdout",
     "output_type": "stream",
     "text": [
      "sigma = 2.1028\n"
     ]
    }
   ],
   "execution_count": 207
  },
  {
   "metadata": {},
   "cell_type": "markdown",
   "source": "H0 = {випадкова величина X має нормальний закон розподілу за допомогою критерію Пірсона}",
   "id": "8c0baeb90ac26dcf"
  },
  {
   "metadata": {
    "ExecuteTime": {
     "end_time": "2025-03-31T23:20:49.639867Z",
     "start_time": "2025-03-31T23:20:49.616649Z"
    }
   },
   "cell_type": "code",
   "source": "x = np.unique(xi.ravel())",
   "id": "e05011e1e92f2a26",
   "outputs": [],
   "execution_count": 208
  },
  {
   "metadata": {
    "ExecuteTime": {
     "end_time": "2025-03-31T23:20:49.678895Z",
     "start_time": "2025-03-31T23:20:49.670865Z"
    }
   },
   "cell_type": "code",
   "source": [
    "x_1 = np.copy(x)\n",
    "x_1 = np.delete(x_1, 0)\n",
    "x = np.delete(x, len(x)-1)\n",
    "\n",
    "z = np.array([])\n",
    "for i  in range(len(x)):\n",
    "    if i == 0:\n",
    "        continue\n",
    "    z = np.append(z, (x[i] - x_b) / sigma)\n",
    "\n",
    "laplas = np.array([laplace_function(i) for i in z])\n",
    "laplas = np.concatenate([[-0.5], laplas, [0.5]])\n",
    "\n",
    "p = np.array([])\n",
    "for i in range(len(x)):\n",
    "    p = np.append(p, laplas[i+1] - laplas[i])"
   ],
   "id": "ce2e9b3c50b66199",
   "outputs": [],
   "execution_count": 209
  },
  {
   "metadata": {
    "ExecuteTime": {
     "end_time": "2025-03-31T23:20:52.209125Z",
     "start_time": "2025-03-31T23:20:52.192226Z"
    }
   },
   "cell_type": "code",
   "source": [
    "table = PrettyTable()\n",
    "table.field_names = [\"i\", \"x_i\", \"x_i+1\", \"z_i\", \"z_i+1\", \"Ф(z_i)\", \"Ф(z_i+1)\", \"P_i\"]\n",
    "for i in range(len(x)):\n",
    "    table.add_row([\n",
    "        i+1,\n",
    "        x[i],\n",
    "        x_1[i],\n",
    "        \"-inf\" if i == 0 else z[i-1].round(4),\n",
    "        \"+inf\" if i == len(x)-1 else z[i].round(4),\n",
    "        laplas[i].round(4),\n",
    "        laplas[i+1].round(4),\n",
    "        p[i].round(4)\n",
    "    ])\n",
    "\n",
    "table.add_row([\"-\",\n",
    "               \"-\",\n",
    "               \"-\",\n",
    "               \"-\",\n",
    "               \"-\",\n",
    "               \"-\",\n",
    "               \"Сума\",\n",
    "               round(np.sum(p), 4)\n",
    "               ])\n",
    "\n",
    "table"
   ],
   "id": "126ae9483c87cdf2",
   "outputs": [
    {
     "data": {
      "text/plain": [
       "+---+-----+-------+---------+---------+---------+----------+--------+\n",
       "| i | x_i | x_i+1 |   z_i   |  z_i+1  |  Ф(z_i) | Ф(z_i+1) |  P_i   |\n",
       "+---+-----+-------+---------+---------+---------+----------+--------+\n",
       "| 1 |  22 |   23  |   -inf  | -1.6216 |   -0.5  | -0.4476  | 0.0524 |\n",
       "| 2 |  23 |   24  | -1.6216 | -1.1461 | -0.4476 | -0.3741  | 0.0734 |\n",
       "| 3 |  24 |   25  | -1.1461 | -0.6705 | -0.3741 | -0.2487  | 0.1254 |\n",
       "| 4 |  25 |   26  | -0.6705 |  -0.195 | -0.2487 | -0.0773  | 0.1714 |\n",
       "| 5 |  26 |   27  |  -0.195 |  0.2806 | -0.0773 |  0.1105  | 0.1878 |\n",
       "| 6 |  27 |   28  |  0.2806 |  0.7561 |  0.1105 |  0.2752  | 0.1647 |\n",
       "| 7 |  28 |   29  |  0.7561 |  1.2317 |  0.2752 |  0.391   | 0.1158 |\n",
       "| 8 |  29 |   30  |  1.2317 |   +inf  |  0.391  |   0.5    | 0.109  |\n",
       "| - |  -  |   -   |    -    |    -    |    -    |   Сума   |  1.0   |\n",
       "+---+-----+-------+---------+---------+---------+----------+--------+"
      ],
      "text/html": [
       "<table>\n",
       "    <thead>\n",
       "        <tr>\n",
       "            <th>i</th>\n",
       "            <th>x_i</th>\n",
       "            <th>x_i+1</th>\n",
       "            <th>z_i</th>\n",
       "            <th>z_i+1</th>\n",
       "            <th>Ф(z_i)</th>\n",
       "            <th>Ф(z_i+1)</th>\n",
       "            <th>P_i</th>\n",
       "        </tr>\n",
       "    </thead>\n",
       "    <tbody>\n",
       "        <tr>\n",
       "            <td>1</td>\n",
       "            <td>22</td>\n",
       "            <td>23</td>\n",
       "            <td>-inf</td>\n",
       "            <td>-1.6216</td>\n",
       "            <td>-0.5</td>\n",
       "            <td>-0.4476</td>\n",
       "            <td>0.0524</td>\n",
       "        </tr>\n",
       "        <tr>\n",
       "            <td>2</td>\n",
       "            <td>23</td>\n",
       "            <td>24</td>\n",
       "            <td>-1.6216</td>\n",
       "            <td>-1.1461</td>\n",
       "            <td>-0.4476</td>\n",
       "            <td>-0.3741</td>\n",
       "            <td>0.0734</td>\n",
       "        </tr>\n",
       "        <tr>\n",
       "            <td>3</td>\n",
       "            <td>24</td>\n",
       "            <td>25</td>\n",
       "            <td>-1.1461</td>\n",
       "            <td>-0.6705</td>\n",
       "            <td>-0.3741</td>\n",
       "            <td>-0.2487</td>\n",
       "            <td>0.1254</td>\n",
       "        </tr>\n",
       "        <tr>\n",
       "            <td>4</td>\n",
       "            <td>25</td>\n",
       "            <td>26</td>\n",
       "            <td>-0.6705</td>\n",
       "            <td>-0.195</td>\n",
       "            <td>-0.2487</td>\n",
       "            <td>-0.0773</td>\n",
       "            <td>0.1714</td>\n",
       "        </tr>\n",
       "        <tr>\n",
       "            <td>5</td>\n",
       "            <td>26</td>\n",
       "            <td>27</td>\n",
       "            <td>-0.195</td>\n",
       "            <td>0.2806</td>\n",
       "            <td>-0.0773</td>\n",
       "            <td>0.1105</td>\n",
       "            <td>0.1878</td>\n",
       "        </tr>\n",
       "        <tr>\n",
       "            <td>6</td>\n",
       "            <td>27</td>\n",
       "            <td>28</td>\n",
       "            <td>0.2806</td>\n",
       "            <td>0.7561</td>\n",
       "            <td>0.1105</td>\n",
       "            <td>0.2752</td>\n",
       "            <td>0.1647</td>\n",
       "        </tr>\n",
       "        <tr>\n",
       "            <td>7</td>\n",
       "            <td>28</td>\n",
       "            <td>29</td>\n",
       "            <td>0.7561</td>\n",
       "            <td>1.2317</td>\n",
       "            <td>0.2752</td>\n",
       "            <td>0.391</td>\n",
       "            <td>0.1158</td>\n",
       "        </tr>\n",
       "        <tr>\n",
       "            <td>8</td>\n",
       "            <td>29</td>\n",
       "            <td>30</td>\n",
       "            <td>1.2317</td>\n",
       "            <td>+inf</td>\n",
       "            <td>0.391</td>\n",
       "            <td>0.5</td>\n",
       "            <td>0.109</td>\n",
       "        </tr>\n",
       "        <tr>\n",
       "            <td>-</td>\n",
       "            <td>-</td>\n",
       "            <td>-</td>\n",
       "            <td>-</td>\n",
       "            <td>-</td>\n",
       "            <td>-</td>\n",
       "            <td>Сума</td>\n",
       "            <td>1.0</td>\n",
       "        </tr>\n",
       "    </tbody>\n",
       "</table>"
      ]
     },
     "execution_count": 210,
     "metadata": {},
     "output_type": "execute_result"
    }
   ],
   "execution_count": 210
  },
  {
   "metadata": {
    "ExecuteTime": {
     "end_time": "2025-03-31T23:23:30.133934Z",
     "start_time": "2025-03-31T23:23:30.114729Z"
    }
   },
   "cell_type": "code",
   "source": [
    "n_p = np.array([pi * n for pi in p])\n",
    "\n",
    "sub_n = []\n",
    "for i in range(len(mi)):\n",
    "    sub_n.append(mi[i]-n_p[i])\n",
    "\n",
    "sub_n2 = []\n",
    "for i in sub_n:\n",
    "    sub_n2.append(np.pow(i, 2))\n",
    "\n",
    "frac_sub_n2 = []\n",
    "for i in range(len(sub_n2)):\n",
    "    frac_sub_n2.append(sub_n2[i] / n_p[i])"
   ],
   "id": "85f7bd2179b33775",
   "outputs": [],
   "execution_count": 211
  },
  {
   "metadata": {
    "ExecuteTime": {
     "end_time": "2025-03-31T23:23:31.849359Z",
     "start_time": "2025-03-31T23:23:31.825722Z"
    }
   },
   "cell_type": "code",
   "source": [
    "table = PrettyTable()\n",
    "table.field_names = [\"i\",\n",
    "                     \"n_i\",\n",
    "                     \"n*_i\",\n",
    "                     \"n_i-n*_i\",\n",
    "                     \"(n_i - n*_i)^2\",\n",
    "                     \"(n_i - n*_i)^2 / n*_i\"]\n",
    "\n",
    "for i in range(len(n_p)):\n",
    "    table.add_row([i+1,\n",
    "                   mi[i],\n",
    "                   round(n_p[i], 4),\n",
    "                   round(sub_n[i], 4),\n",
    "                   round(sub_n2[i], 4),\n",
    "                   round(frac_sub_n2[i], 4)\n",
    "                   ])\n",
    "table.add_row([\"Сума\",\n",
    "               np.sum(mi),\n",
    "               np.sum(n_p),\n",
    "               \"-\",\n",
    "               \"-\",\n",
    "               round(np.sum(frac_sub_n2), 4)\n",
    "               ])\n",
    "\n",
    "table"
   ],
   "id": "3ef819c0897b673",
   "outputs": [
    {
     "data": {
      "text/plain": [
       "+------+-----+---------+----------+----------------+-----------------------+\n",
       "|  i   | n_i |   n*_i  | n_i-n*_i | (n_i - n*_i)^2 | (n_i - n*_i)^2 / n*_i |\n",
       "+------+-----+---------+----------+----------------+-----------------------+\n",
       "|  1   |  10 |  5.2442 |  4.7558  |    22.6176     |         4.3129        |\n",
       "|  2   |  8  |  7.344  |  0.656   |     0.4303     |         0.0586        |\n",
       "|  3   |  7  | 12.5379 | -5.5379  |    30.6688     |         2.4461        |\n",
       "|  4   |  10 | 17.1444 | -7.1444  |    51.0431     |         2.9772        |\n",
       "|  5   |  22 | 18.7775 |  3.2225  |    10.3843     |         0.553         |\n",
       "|  6   |  18 | 16.4731 |  1.5269  |     2.3314     |         0.1415        |\n",
       "|  7   |  14 | 11.5752 |  2.4248  |     5.8797     |         0.508         |\n",
       "|  8   |  11 | 10.9036 |  0.0964  |     0.0093     |         0.0009        |\n",
       "| Сума | 100 |  100.0  |    -     |       -        |        10.9981        |\n",
       "+------+-----+---------+----------+----------------+-----------------------+"
      ],
      "text/html": [
       "<table>\n",
       "    <thead>\n",
       "        <tr>\n",
       "            <th>i</th>\n",
       "            <th>n_i</th>\n",
       "            <th>n*_i</th>\n",
       "            <th>n_i-n*_i</th>\n",
       "            <th>(n_i - n*_i)^2</th>\n",
       "            <th>(n_i - n*_i)^2 / n*_i</th>\n",
       "        </tr>\n",
       "    </thead>\n",
       "    <tbody>\n",
       "        <tr>\n",
       "            <td>1</td>\n",
       "            <td>10</td>\n",
       "            <td>5.2442</td>\n",
       "            <td>4.7558</td>\n",
       "            <td>22.6176</td>\n",
       "            <td>4.3129</td>\n",
       "        </tr>\n",
       "        <tr>\n",
       "            <td>2</td>\n",
       "            <td>8</td>\n",
       "            <td>7.344</td>\n",
       "            <td>0.656</td>\n",
       "            <td>0.4303</td>\n",
       "            <td>0.0586</td>\n",
       "        </tr>\n",
       "        <tr>\n",
       "            <td>3</td>\n",
       "            <td>7</td>\n",
       "            <td>12.5379</td>\n",
       "            <td>-5.5379</td>\n",
       "            <td>30.6688</td>\n",
       "            <td>2.4461</td>\n",
       "        </tr>\n",
       "        <tr>\n",
       "            <td>4</td>\n",
       "            <td>10</td>\n",
       "            <td>17.1444</td>\n",
       "            <td>-7.1444</td>\n",
       "            <td>51.0431</td>\n",
       "            <td>2.9772</td>\n",
       "        </tr>\n",
       "        <tr>\n",
       "            <td>5</td>\n",
       "            <td>22</td>\n",
       "            <td>18.7775</td>\n",
       "            <td>3.2225</td>\n",
       "            <td>10.3843</td>\n",
       "            <td>0.553</td>\n",
       "        </tr>\n",
       "        <tr>\n",
       "            <td>6</td>\n",
       "            <td>18</td>\n",
       "            <td>16.4731</td>\n",
       "            <td>1.5269</td>\n",
       "            <td>2.3314</td>\n",
       "            <td>0.1415</td>\n",
       "        </tr>\n",
       "        <tr>\n",
       "            <td>7</td>\n",
       "            <td>14</td>\n",
       "            <td>11.5752</td>\n",
       "            <td>2.4248</td>\n",
       "            <td>5.8797</td>\n",
       "            <td>0.508</td>\n",
       "        </tr>\n",
       "        <tr>\n",
       "            <td>8</td>\n",
       "            <td>11</td>\n",
       "            <td>10.9036</td>\n",
       "            <td>0.0964</td>\n",
       "            <td>0.0093</td>\n",
       "            <td>0.0009</td>\n",
       "        </tr>\n",
       "        <tr>\n",
       "            <td>Сума</td>\n",
       "            <td>100</td>\n",
       "            <td>100.0</td>\n",
       "            <td>-</td>\n",
       "            <td>-</td>\n",
       "            <td>10.9981</td>\n",
       "        </tr>\n",
       "    </tbody>\n",
       "</table>"
      ]
     },
     "execution_count": 212,
     "metadata": {},
     "output_type": "execute_result"
    }
   ],
   "execution_count": 212
  },
  {
   "metadata": {
    "ExecuteTime": {
     "end_time": "2025-03-31T23:25:02.510182Z",
     "start_time": "2025-03-31T23:25:02.490392Z"
    }
   },
   "cell_type": "code",
   "source": [
    "x_2 = np.sum(frac_sub_n2)\n",
    "print(f'X^2 спост. = {round(x_2, 4)}')"
   ],
   "id": "b983fc87e013933d",
   "outputs": [
    {
     "name": "stdout",
     "output_type": "stream",
     "text": [
      "X^2 спост. = 10.9981\n"
     ]
    }
   ],
   "execution_count": 214
  },
  {
   "metadata": {
    "ExecuteTime": {
     "end_time": "2025-03-31T23:25:14.941519Z",
     "start_time": "2025-03-31T23:25:14.927298Z"
    }
   },
   "cell_type": "code",
   "source": [
    "critical_value = chi2.ppf(1-a, k)\n",
    "print(f\"Критичне значення χ^2 при α={a} та k={k}: {critical_value:.4f}\")"
   ],
   "id": "c4a7c5bcf1c72c06",
   "outputs": [
    {
     "name": "stdout",
     "output_type": "stream",
     "text": [
      "Критичне значення χ^2 при α=0.05 та k=5: 11.0705\n"
     ]
    }
   ],
   "execution_count": 215
  },
  {
   "metadata": {
    "ExecuteTime": {
     "end_time": "2025-03-31T23:25:58.674648Z",
     "start_time": "2025-03-31T23:25:58.665650Z"
    }
   },
   "cell_type": "code",
   "source": [
    "if x_2 < critical_value:\n",
    "    print(\"Оскільки χ^2 спост < χ^2 кр, гіпотезу про нормальний розподіл генеральної сукупності не відхиляємо\")\n",
    "else: \n",
    "    print(\"Оскільки χ^2 спост > χ^2 кр, гіпотезу про нормальний розподіл генеральної сукупності  відхиляємо\")"
   ],
   "id": "638207c89d4b669e",
   "outputs": [
    {
     "name": "stdout",
     "output_type": "stream",
     "text": [
      "Оскільки χ^2 спост < χ^2 кр, гіпотезу про нормальний розподіл генеральної сукупності не відхиляємо\n"
     ]
    }
   ],
   "execution_count": 216
  },
  {
   "metadata": {},
   "cell_type": "markdown",
   "source": "H0 = {випадкова величина X має нормальний закон розподілу за допомогою критерію Колмогорова}",
   "id": "c634d9fbeb693c7b"
  },
  {
   "metadata": {
    "ExecuteTime": {
     "end_time": "2025-03-31T23:26:34.375549Z",
     "start_time": "2025-03-31T23:26:34.364547Z"
    }
   },
   "cell_type": "code",
   "source": "x = np.unique(xi.ravel())",
   "id": "bf894baf81d7a4c1",
   "outputs": [],
   "execution_count": 218
  },
  {
   "metadata": {
    "ExecuteTime": {
     "end_time": "2025-03-31T23:26:34.437470Z",
     "start_time": "2025-03-31T23:26:34.418560Z"
    }
   },
   "cell_type": "code",
   "source": [
    "def kolmogorov_crit(n, a):\n",
    "    dist = ksone(n)\n",
    "    return dist.ppf(1 - a/2)"
   ],
   "id": "7a489c3516c7528",
   "outputs": [],
   "execution_count": 219
  },
  {
   "metadata": {
    "ExecuteTime": {
     "end_time": "2025-03-31T23:26:34.452512Z",
     "start_time": "2025-03-31T23:26:34.440506Z"
    }
   },
   "cell_type": "code",
   "source": [
    "def kolmogorov_p(x):\n",
    "    return 1 - kstwobign.cdf(x)"
   ],
   "id": "5c5c87a9ea670e80",
   "outputs": [],
   "execution_count": 220
  },
  {
   "metadata": {
    "ExecuteTime": {
     "end_time": "2025-03-31T23:26:34.467995Z",
     "start_time": "2025-03-31T23:26:34.454497Z"
    }
   },
   "cell_type": "code",
   "source": [
    "def kolmogorov_crit_points(a):\n",
    "    return kstwobign.ppf(1 - a)"
   ],
   "id": "ff00b1aecf54eadb",
   "outputs": [],
   "execution_count": 221
  },
  {
   "metadata": {
    "ExecuteTime": {
     "end_time": "2025-03-31T23:26:34.498713Z",
     "start_time": "2025-03-31T23:26:34.485505Z"
    }
   },
   "cell_type": "code",
   "source": [
    "empir_func = np.array([0])\n",
    "sum_func = 0\n",
    "\n",
    "for i in mi:\n",
    "    sum_func += i\n",
    "    empir_func = np.append(empir_func, sum_func/n)"
   ],
   "id": "5b3334c68fa1f754",
   "outputs": [],
   "execution_count": 222
  },
  {
   "metadata": {
    "ExecuteTime": {
     "end_time": "2025-03-31T23:26:34.514708Z",
     "start_time": "2025-03-31T23:26:34.502673Z"
    }
   },
   "cell_type": "code",
   "source": "proximal = np.array([(i - x_b) / sigma for i in x])",
   "id": "13029b39818d373d",
   "outputs": [],
   "execution_count": 223
  },
  {
   "metadata": {
    "ExecuteTime": {
     "end_time": "2025-03-31T23:26:34.561465Z",
     "start_time": "2025-03-31T23:26:34.542431Z"
    }
   },
   "cell_type": "code",
   "source": "theoretical_func = np.array([0.5 + laplace_function(i) for i in proximal])",
   "id": "d9bece48a24b6b11",
   "outputs": [],
   "execution_count": 224
  },
  {
   "metadata": {
    "ExecuteTime": {
     "end_time": "2025-03-31T23:26:34.576563Z",
     "start_time": "2025-03-31T23:26:34.563478Z"
    }
   },
   "cell_type": "code",
   "source": [
    "difference = np.array(abs(theoretical_func - empir_func))\n",
    "difference = np.append(difference, 0)"
   ],
   "id": "2c64402e66d41bc0",
   "outputs": [],
   "execution_count": 225
  },
  {
   "metadata": {
    "ExecuteTime": {
     "end_time": "2025-03-31T23:26:34.592465Z",
     "start_time": "2025-03-31T23:26:34.579466Z"
    }
   },
   "cell_type": "code",
   "source": [
    "table = PrettyTable()\n",
    "table.field_names = [\"i\",\n",
    "                     \"x_i\",\n",
    "                     \"x_i+1\",\n",
    "                     \"n_i\",\n",
    "                     \"F*(x_i)\",\n",
    "                     \"(x_i+1 - x_b) / sigma\",\n",
    "                     \"F(x_i)\",\n",
    "                     \"|F*(x_i) - F(x_i)|\"]\n",
    "\n",
    "for i in range(len(x)+1):\n",
    "    table.add_row([i+1,\n",
    "                   \"-inf\" if i == 0 else x[i-1],\n",
    "                   \"+inf\" if i == len(x) else x[i],\n",
    "                   1 if i == len(x) else mi[i-1],\n",
    "                   empir_func[i-1] if i == len(x) else empir_func[i],\n",
    "                   \"inf\" if i == len(x) else f\"{proximal[i]:.4f}\",\n",
    "                   1 if i == len(x) else f\"{theoretical_func[i]:.4f}\",\n",
    "                   0 if i == len(x) else f\"{difference[i]:.6f}\"\n",
    "                   ])\n",
    "table"
   ],
   "id": "4c9dca6ec276001a",
   "outputs": [
    {
     "data": {
      "text/plain": [
       "+----+------+-------+-----+---------+-----------------------+--------+--------------------+\n",
       "| i  | x_i  | x_i+1 | n_i | F*(x_i) | (x_i+1 - x_b) / sigma | F(x_i) | |F*(x_i) - F(x_i)| |\n",
       "+----+------+-------+-----+---------+-----------------------+--------+--------------------+\n",
       "| 1  | -inf |   22  |  11 |   0.0   |        -2.0972        | 0.0180 |      0.017989      |\n",
       "| 2  |  22  |   23  |  10 |   0.1   |        -1.6216        | 0.0524 |      0.047558      |\n",
       "| 3  |  23  |   24  |  8  |   0.18  |        -1.1461        | 0.1259 |      0.054118      |\n",
       "| 4  |  24  |   25  |  7  |   0.25  |        -0.6705        | 0.2513 |      0.001262      |\n",
       "| 5  |  25  |   26  |  10 |   0.35  |        -0.1950        | 0.4227 |      0.072706      |\n",
       "| 6  |  26  |   27  |  22 |   0.57  |         0.2806        | 0.6105 |      0.040481      |\n",
       "| 7  |  27  |   28  |  18 |   0.75  |         0.7561        | 0.7752 |      0.025212      |\n",
       "| 8  |  28  |   29  |  14 |   0.89  |         1.2317        | 0.8910 |      0.000964      |\n",
       "| 9  |  29  |   30  |  11 |   1.0   |         1.7072        | 0.9561 |      0.043890      |\n",
       "| 10 |  30  |  +inf |  1  |   1.0   |          inf          |   1    |         0          |\n",
       "+----+------+-------+-----+---------+-----------------------+--------+--------------------+"
      ],
      "text/html": [
       "<table>\n",
       "    <thead>\n",
       "        <tr>\n",
       "            <th>i</th>\n",
       "            <th>x_i</th>\n",
       "            <th>x_i+1</th>\n",
       "            <th>n_i</th>\n",
       "            <th>F*(x_i)</th>\n",
       "            <th>(x_i+1 - x_b) / sigma</th>\n",
       "            <th>F(x_i)</th>\n",
       "            <th>|F*(x_i) - F(x_i)|</th>\n",
       "        </tr>\n",
       "    </thead>\n",
       "    <tbody>\n",
       "        <tr>\n",
       "            <td>1</td>\n",
       "            <td>-inf</td>\n",
       "            <td>22</td>\n",
       "            <td>11</td>\n",
       "            <td>0.0</td>\n",
       "            <td>-2.0972</td>\n",
       "            <td>0.0180</td>\n",
       "            <td>0.017989</td>\n",
       "        </tr>\n",
       "        <tr>\n",
       "            <td>2</td>\n",
       "            <td>22</td>\n",
       "            <td>23</td>\n",
       "            <td>10</td>\n",
       "            <td>0.1</td>\n",
       "            <td>-1.6216</td>\n",
       "            <td>0.0524</td>\n",
       "            <td>0.047558</td>\n",
       "        </tr>\n",
       "        <tr>\n",
       "            <td>3</td>\n",
       "            <td>23</td>\n",
       "            <td>24</td>\n",
       "            <td>8</td>\n",
       "            <td>0.18</td>\n",
       "            <td>-1.1461</td>\n",
       "            <td>0.1259</td>\n",
       "            <td>0.054118</td>\n",
       "        </tr>\n",
       "        <tr>\n",
       "            <td>4</td>\n",
       "            <td>24</td>\n",
       "            <td>25</td>\n",
       "            <td>7</td>\n",
       "            <td>0.25</td>\n",
       "            <td>-0.6705</td>\n",
       "            <td>0.2513</td>\n",
       "            <td>0.001262</td>\n",
       "        </tr>\n",
       "        <tr>\n",
       "            <td>5</td>\n",
       "            <td>25</td>\n",
       "            <td>26</td>\n",
       "            <td>10</td>\n",
       "            <td>0.35</td>\n",
       "            <td>-0.1950</td>\n",
       "            <td>0.4227</td>\n",
       "            <td>0.072706</td>\n",
       "        </tr>\n",
       "        <tr>\n",
       "            <td>6</td>\n",
       "            <td>26</td>\n",
       "            <td>27</td>\n",
       "            <td>22</td>\n",
       "            <td>0.57</td>\n",
       "            <td>0.2806</td>\n",
       "            <td>0.6105</td>\n",
       "            <td>0.040481</td>\n",
       "        </tr>\n",
       "        <tr>\n",
       "            <td>7</td>\n",
       "            <td>27</td>\n",
       "            <td>28</td>\n",
       "            <td>18</td>\n",
       "            <td>0.75</td>\n",
       "            <td>0.7561</td>\n",
       "            <td>0.7752</td>\n",
       "            <td>0.025212</td>\n",
       "        </tr>\n",
       "        <tr>\n",
       "            <td>8</td>\n",
       "            <td>28</td>\n",
       "            <td>29</td>\n",
       "            <td>14</td>\n",
       "            <td>0.89</td>\n",
       "            <td>1.2317</td>\n",
       "            <td>0.8910</td>\n",
       "            <td>0.000964</td>\n",
       "        </tr>\n",
       "        <tr>\n",
       "            <td>9</td>\n",
       "            <td>29</td>\n",
       "            <td>30</td>\n",
       "            <td>11</td>\n",
       "            <td>1.0</td>\n",
       "            <td>1.7072</td>\n",
       "            <td>0.9561</td>\n",
       "            <td>0.043890</td>\n",
       "        </tr>\n",
       "        <tr>\n",
       "            <td>10</td>\n",
       "            <td>30</td>\n",
       "            <td>+inf</td>\n",
       "            <td>1</td>\n",
       "            <td>1.0</td>\n",
       "            <td>inf</td>\n",
       "            <td>1</td>\n",
       "            <td>0</td>\n",
       "        </tr>\n",
       "    </tbody>\n",
       "</table>"
      ]
     },
     "execution_count": 226,
     "metadata": {},
     "output_type": "execute_result"
    }
   ],
   "execution_count": 226
  },
  {
   "metadata": {
    "ExecuteTime": {
     "end_time": "2025-03-31T23:26:34.607464Z",
     "start_time": "2025-03-31T23:26:34.593464Z"
    }
   },
   "cell_type": "code",
   "source": [
    "d = np.max(difference).round(6)\n",
    "print(f\"D* max|F*(x) - F(x)| = {d:.4f}\")"
   ],
   "id": "f4aeadbcdfe4ed41",
   "outputs": [
    {
     "name": "stdout",
     "output_type": "stream",
     "text": [
      "D* max|F*(x) - F(x)| = 0.0727\n"
     ]
    }
   ],
   "execution_count": 227
  },
  {
   "metadata": {
    "ExecuteTime": {
     "end_time": "2025-03-31T23:26:34.623130Z",
     "start_time": "2025-03-31T23:26:34.610463Z"
    }
   },
   "cell_type": "code",
   "source": [
    "lambda_observed = d * np.sqrt(n)\n",
    "lambda_crit = kolmogorov_crit_points(a)\n",
    "\n",
    "print(f\"λ спост. : {lambda_observed}\")\n",
    "print(f\"Критичне значення для α={a}: {lambda_crit:.4f}\")"
   ],
   "id": "8600406d577796da",
   "outputs": [
    {
     "name": "stdout",
     "output_type": "stream",
     "text": [
      "λ спост. : 0.72706\n",
      "Критичне значення для α=0.05: 1.3581\n"
     ]
    }
   ],
   "execution_count": 228
  },
  {
   "metadata": {
    "ExecuteTime": {
     "end_time": "2025-03-31T23:26:34.638866Z",
     "start_time": "2025-03-31T23:26:34.624038Z"
    }
   },
   "cell_type": "code",
   "source": [
    "if lambda_observed < lambda_crit:\n",
    "    print(\"Оскільки λ спост. < λ крит, то нульова гіпотеза про рівномірний закон розподілу генеральної сукупності не відкидається\")\n",
    "else:\n",
    "    print(\"Оскільки λ спост. > λ крит, то нульова гіпотеза про рівномірний закон розподілу генеральної сукупності відкидається\")"
   ],
   "id": "396f2e058ee72014",
   "outputs": [
    {
     "name": "stdout",
     "output_type": "stream",
     "text": [
      "Оскільки λ спост. < λ крит, то нульова гіпотеза про рівномірний закон розподілу генеральної сукупності не відкидається\n"
     ]
    }
   ],
   "execution_count": 229
  },
  {
   "metadata": {
    "ExecuteTime": {
     "end_time": "2025-03-31T23:26:34.684833Z",
     "start_time": "2025-03-31T23:26:34.673833Z"
    }
   },
   "cell_type": "code",
   "source": [
    "p = kolmogorov_p(lambda_observed)\n",
    "print(f\"P({lambda_observed}) = {p:.5f}\")"
   ],
   "id": "149a57190f60108b",
   "outputs": [
    {
     "name": "stdout",
     "output_type": "stream",
     "text": [
      "P(0.72706) = 0.66584\n"
     ]
    }
   ],
   "execution_count": 230
  },
  {
   "metadata": {
    "ExecuteTime": {
     "end_time": "2025-03-31T23:27:26.925049Z",
     "start_time": "2025-03-31T23:27:26.911687Z"
    }
   },
   "cell_type": "code",
   "source": [
    "if p  < a:\n",
    "    print(f\"Дана ймовірність β є мала і оскільки {p.round(4)} < a = {a},\"\n",
    "          f\" то розбіжність між емпіричним і теоретичним розподілами не є випадковою\")\n",
    "else:\n",
    "    print(f\"Дана ймовірність β є велика і оскільки {p.round(4)} > a = {a},\"\n",
    "          f\" то розбіжність між емпіричним і теоретичним розподілами може бути випадковою \"\n",
    "          f\"і дані розподіли можна вважати узгодженими\")"
   ],
   "id": "4d53f81eda5bfccb",
   "outputs": [
    {
     "name": "stdout",
     "output_type": "stream",
     "text": [
      "Дана ймовірність β є велика і оскільки 0.6658 > a = 0.05, то розбіжність між емпіричним і теоретичним розподілами може бути випадковою і дані розподіли можна вважати узгодженими\n"
     ]
    }
   ],
   "execution_count": 234
  },
  {
   "metadata": {
    "ExecuteTime": {
     "end_time": "2025-03-31T23:26:34.762867Z",
     "start_time": "2025-03-31T23:26:34.749872Z"
    }
   },
   "cell_type": "code",
   "source": [
    "k_crit = kolmogorov_crit(n, a)\n",
    "print(f\"K({n}, {a}) = {k_crit:.3f}\")\n",
    "if d < k_crit:\n",
    "    print(f\"Оскільки D* < K({n}, {a}), то  то нульова гіпотеза не відкидається\")\n",
    "else:\n",
    "    print(f\"Оскільки D* > K({n}, {a}), то  то нульова гіпотеза відкидається\")"
   ],
   "id": "a8e5a4ada7e3f3dc",
   "outputs": [
    {
     "name": "stdout",
     "output_type": "stream",
     "text": [
      "K(100, 0.05) = 0.134\n",
      "Оскільки D* < K(100, 0.05), то  то нульова гіпотеза не відкидається\n"
     ]
    }
   ],
   "execution_count": 232
  },
  {
   "metadata": {},
   "cell_type": "markdown",
   "source": "H0 = {випадкова величина X має нормальний закон розподілу за допомогою графічної перевірки}",
   "id": "b9cb0d56e18048e7"
  },
  {
   "metadata": {
    "ExecuteTime": {
     "end_time": "2025-03-31T23:26:34.934918Z",
     "start_time": "2025-03-31T23:26:34.777866Z"
    }
   },
   "cell_type": "code",
   "source": [
    "fig, axes = plt.subplots(2)\n",
    "\n",
    "bars = axes[0].bar(midpoints, mi, width=h, edgecolor='black', alpha=0.7)\n",
    "\n",
    "axes[0].set_xlabel(\"Проміжки\", fontsize=12)\n",
    "axes[0].set_ylabel('Частота', fontsize=12)\n",
    "axes[0].set_xticks(midpoints, [f'{start}-{end}' for start, end in xi], rotation=45)\n",
    "axes[0].grid(axis='y', linestyle='--', alpha=0.7)\n",
    "\n",
    "for bar in bars:\n",
    "    height = bar.get_height()\n",
    "    axes[0].text(bar.get_x() + bar.get_width() / 2, height, f'{height}',\n",
    "                 ha='center',\n",
    "                 va='bottom',\n",
    "                 fontsize=10)\n",
    "\n",
    "x_axis = np.arange(-10, 10, 0.001)\n",
    "axes[1].plot(x_axis, norm.pdf(x_axis, 0, 2))\n",
    "plt.tight_layout()\n",
    "plt.show()"
   ],
   "id": "fcc080ab5c8595e3",
   "outputs": [
    {
     "data": {
      "text/plain": [
       "<Figure size 640x480 with 2 Axes>"
      ],
      "image/png": "[encoded data removed]"
     },
     "metadata": {},
     "output_type": "display_data"
    }
   ],
   "execution_count": 233
  },
  {
   "metadata": {
    "ExecuteTime": {
     "end_time": "2025-03-31T23:26:34.950915Z",
     "start_time": "2025-03-31T23:26:34.936871Z"
    }
   },
   "cell_type": "code",
   "source": "",
   "id": "a773185c8ae07112",
   "outputs": [],
   "execution_count": 233
  }
 ],
 "metadata": {
  "kernelspec": {
   "display_name": "Python 3",
   "language": "python",
   "name": "python3"
  },
  "language_info": {
   "codemirror_mode": {
    "name": "ipython",
    "version": 2
   },
   "file_extension": ".py",
   "mimetype": "text/x-python",
   "name": "python",
   "nbconvert_exporter": "python",
   "pygments_lexer": "ipython2",
   "version": "2.7.6"
  }
 },
 "nbformat": 4,
 "nbformat_minor": 5
}
