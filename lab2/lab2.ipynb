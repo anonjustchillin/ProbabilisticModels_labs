{
 "cells": [
  {
   "cell_type": "code",
   "execution_count": null,
   "id": "initial_id",
   "metadata": {
    "collapsed": true
   },
   "outputs": [],
   "source": [
    "import numpy as np\n",
    "from prettytable import PrettyTable\n",
    "import matplotlib.pyplot as plt"
   ]
  },
  {
   "metadata": {},
   "cell_type": "markdown",
   "source": "Варіант 22",
   "id": "2a9bdee09982e142"
  },
  {
   "metadata": {},
   "cell_type": "code",
   "outputs": [],
   "execution_count": null,
   "source": [
    "n = 22\n",
    "a = 0.05\n",
    "xi = np.array([n, n+1, n+2, n+3, n+4, n+5, n+6, n+7, n+8])\n",
    "mi = np.array([10, 8, 7, 10, 22, 18, 14, 11])\n"
   ],
   "id": "e38bc491199aabe3"
  },
  {
   "metadata": {},
   "cell_type": "markdown",
   "source": "H0 = {випадкова величина X має нормальний закон розподілу за допомогою критерію Пірсона}",
   "id": "8c0baeb90ac26dcf"
  },
  {
   "metadata": {},
   "cell_type": "code",
   "outputs": [],
   "execution_count": null,
   "source": "",
   "id": "19bcd43114adb685"
  },
  {
   "metadata": {},
   "cell_type": "markdown",
   "source": "H0 = {випадкова величина X має нормальний закон розподілу за допомогою критерію Колмогорова}",
   "id": "c634d9fbeb693c7b"
  },
  {
   "metadata": {},
   "cell_type": "code",
   "outputs": [],
   "execution_count": null,
   "source": "",
   "id": "5c5c87a9ea670e80"
  },
  {
   "metadata": {},
   "cell_type": "markdown",
   "source": "H0 = {випадкова величина X має нормальний закон розподілу за допомогою графічної перевірки}",
   "id": "b9cb0d56e18048e7"
  }
 ],
 "metadata": {
  "kernelspec": {
   "display_name": "Python 3",
   "language": "python",
   "name": "python3"
  },
  "language_info": {
   "codemirror_mode": {
    "name": "ipython",
    "version": 2
   },
   "file_extension": ".py",
   "mimetype": "text/x-python",
   "name": "python",
   "nbconvert_exporter": "python",
   "pygments_lexer": "ipython2",
   "version": "2.7.6"
  }
 },
 "nbformat": 4,
 "nbformat_minor": 5
}
