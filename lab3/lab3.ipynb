{
 "cells": [
  {
   "cell_type": "code",
   "id": "initial_id",
   "metadata": {
    "collapsed": true,
    "ExecuteTime": {
     "end_time": "2025-04-25T08:01:30.810324Z",
     "start_time": "2025-04-25T08:01:30.800234Z"
    }
   },
   "source": [
    "import numpy as np\n",
    "import pandas as pd\n",
    "import matplotlib.pyplot as plt\n",
    "import scipy.stats as stats"
   ],
   "outputs": [],
   "execution_count": 69
  },
  {
   "metadata": {},
   "cell_type": "markdown",
   "source": "Варіант 22",
   "id": "8d01e3641e55e357"
  },
  {
   "metadata": {
    "ExecuteTime": {
     "end_time": "2025-04-25T08:01:31.059907Z",
     "start_time": "2025-04-25T08:01:31.050903Z"
    }
   },
   "cell_type": "code",
   "source": [
    "Y = np.array([32, 36, 38, 42, 46, 49, 55, 59, 62, 68, 70, 73, 75, 81, 88, 92, 94, 98])\n",
    "X = np.array([3.0, 3.5,  4.0, 4.5,  5.0,  6.0,   6.5,  7.0,   7.5,  8.0,   8.5,  9.0,   9.5, 10.0,  10.5, 11.0,  11.5, 12.0])"
   ],
   "id": "2d93a97b6f8ce808",
   "outputs": [],
   "execution_count": 70
  },
  {
   "metadata": {
    "ExecuteTime": {
     "end_time": "2025-04-25T08:01:31.122452Z",
     "start_time": "2025-04-25T08:01:31.095224Z"
    }
   },
   "cell_type": "code",
   "source": [
    "df = pd.DataFrame({'Y': Y, 'X': X})\n",
    "df"
   ],
   "id": "c7102133ef3e1a44",
   "outputs": [
    {
     "data": {
      "text/plain": [
       "     Y     X\n",
       "0   32   3.0\n",
       "1   36   3.5\n",
       "2   38   4.0\n",
       "3   42   4.5\n",
       "4   46   5.0\n",
       "5   49   6.0\n",
       "6   55   6.5\n",
       "7   59   7.0\n",
       "8   62   7.5\n",
       "9   68   8.0\n",
       "10  70   8.5\n",
       "11  73   9.0\n",
       "12  75   9.5\n",
       "13  81  10.0\n",
       "14  88  10.5\n",
       "15  92  11.0\n",
       "16  94  11.5\n",
       "17  98  12.0"
      ],
      "text/html": [
       "<div>\n",
       "<style scoped>\n",
       "    .dataframe tbody tr th:only-of-type {\n",
       "        vertical-align: middle;\n",
       "    }\n",
       "\n",
       "    .dataframe tbody tr th {\n",
       "        vertical-align: top;\n",
       "    }\n",
       "\n",
       "    .dataframe thead th {\n",
       "        text-align: right;\n",
       "    }\n",
       "</style>\n",
       "<table border=\"1\" class=\"dataframe\">\n",
       "  <thead>\n",
       "    <tr style=\"text-align: right;\">\n",
       "      <th></th>\n",
       "      <th>Y</th>\n",
       "      <th>X</th>\n",
       "    </tr>\n",
       "  </thead>\n",
       "  <tbody>\n",
       "    <tr>\n",
       "      <th>0</th>\n",
       "      <td>32</td>\n",
       "      <td>3.0</td>\n",
       "    </tr>\n",
       "    <tr>\n",
       "      <th>1</th>\n",
       "      <td>36</td>\n",
       "      <td>3.5</td>\n",
       "    </tr>\n",
       "    <tr>\n",
       "      <th>2</th>\n",
       "      <td>38</td>\n",
       "      <td>4.0</td>\n",
       "    </tr>\n",
       "    <tr>\n",
       "      <th>3</th>\n",
       "      <td>42</td>\n",
       "      <td>4.5</td>\n",
       "    </tr>\n",
       "    <tr>\n",
       "      <th>4</th>\n",
       "      <td>46</td>\n",
       "      <td>5.0</td>\n",
       "    </tr>\n",
       "    <tr>\n",
       "      <th>5</th>\n",
       "      <td>49</td>\n",
       "      <td>6.0</td>\n",
       "    </tr>\n",
       "    <tr>\n",
       "      <th>6</th>\n",
       "      <td>55</td>\n",
       "      <td>6.5</td>\n",
       "    </tr>\n",
       "    <tr>\n",
       "      <th>7</th>\n",
       "      <td>59</td>\n",
       "      <td>7.0</td>\n",
       "    </tr>\n",
       "    <tr>\n",
       "      <th>8</th>\n",
       "      <td>62</td>\n",
       "      <td>7.5</td>\n",
       "    </tr>\n",
       "    <tr>\n",
       "      <th>9</th>\n",
       "      <td>68</td>\n",
       "      <td>8.0</td>\n",
       "    </tr>\n",
       "    <tr>\n",
       "      <th>10</th>\n",
       "      <td>70</td>\n",
       "      <td>8.5</td>\n",
       "    </tr>\n",
       "    <tr>\n",
       "      <th>11</th>\n",
       "      <td>73</td>\n",
       "      <td>9.0</td>\n",
       "    </tr>\n",
       "    <tr>\n",
       "      <th>12</th>\n",
       "      <td>75</td>\n",
       "      <td>9.5</td>\n",
       "    </tr>\n",
       "    <tr>\n",
       "      <th>13</th>\n",
       "      <td>81</td>\n",
       "      <td>10.0</td>\n",
       "    </tr>\n",
       "    <tr>\n",
       "      <th>14</th>\n",
       "      <td>88</td>\n",
       "      <td>10.5</td>\n",
       "    </tr>\n",
       "    <tr>\n",
       "      <th>15</th>\n",
       "      <td>92</td>\n",
       "      <td>11.0</td>\n",
       "    </tr>\n",
       "    <tr>\n",
       "      <th>16</th>\n",
       "      <td>94</td>\n",
       "      <td>11.5</td>\n",
       "    </tr>\n",
       "    <tr>\n",
       "      <th>17</th>\n",
       "      <td>98</td>\n",
       "      <td>12.0</td>\n",
       "    </tr>\n",
       "  </tbody>\n",
       "</table>\n",
       "</div>"
      ]
     },
     "execution_count": 71,
     "metadata": {},
     "output_type": "execute_result"
    }
   ],
   "execution_count": 71
  },
  {
   "metadata": {
    "ExecuteTime": {
     "end_time": "2025-04-25T08:01:31.184807Z",
     "start_time": "2025-04-25T08:01:31.168688Z"
    }
   },
   "cell_type": "code",
   "source": [
    "n = df.shape[0]\n",
    "n"
   ],
   "id": "aede1263236cf0c5",
   "outputs": [
    {
     "data": {
      "text/plain": [
       "18"
      ]
     },
     "execution_count": 72,
     "metadata": {},
     "output_type": "execute_result"
    }
   ],
   "execution_count": 72
  },
  {
   "metadata": {
    "ExecuteTime": {
     "end_time": "2025-04-25T08:01:31.215056Z",
     "start_time": "2025-04-25T08:01:31.199942Z"
    }
   },
   "cell_type": "code",
   "source": "y = 0.99",
   "id": "cc9fd843cffe2c4f",
   "outputs": [],
   "execution_count": 73
  },
  {
   "metadata": {},
   "cell_type": "markdown",
   "source": "Знайти точкові незміщені статистичні оцінки b0* та b1*",
   "id": "42c8537781681880"
  },
  {
   "metadata": {
    "ExecuteTime": {
     "end_time": "2025-04-25T08:01:31.230182Z",
     "start_time": "2025-04-25T08:01:31.221058Z"
    }
   },
   "cell_type": "code",
   "source": [
    "x_b = np.mean(X)\n",
    "y_b = np.mean(Y)\n",
    "print(round(x_b, 3), round(y_b, 3))"
   ],
   "id": "ef3b59e51797d6e3",
   "outputs": [
    {
     "name": "stdout",
     "output_type": "stream",
     "text": [
      "7.611 64.333\n"
     ]
    }
   ],
   "execution_count": 74
  },
  {
   "metadata": {
    "ExecuteTime": {
     "end_time": "2025-04-25T08:01:31.306854Z",
     "start_time": "2025-04-25T08:01:31.298851Z"
    }
   },
   "cell_type": "code",
   "source": [
    "b1 = (np.sum(np.multiply(X, Y)) / n - x_b*y_b) / (np.sum(np.pow(X, 2))/n - x_b**2)\n",
    "print(round(b1, 4))"
   ],
   "id": "9ddc858bc80f60b7",
   "outputs": [
    {
     "name": "stdout",
     "output_type": "stream",
     "text": [
      "7.3789\n"
     ]
    }
   ],
   "execution_count": 75
  },
  {
   "metadata": {
    "ExecuteTime": {
     "end_time": "2025-04-25T08:01:31.398593Z",
     "start_time": "2025-04-25T08:01:31.381426Z"
    }
   },
   "cell_type": "code",
   "source": [
    "b0 = y_b - b1*x_b\n",
    "print(round(b0, 4))"
   ],
   "id": "c84f8f7461197dc5",
   "outputs": [
    {
     "name": "stdout",
     "output_type": "stream",
     "text": [
      "8.172\n"
     ]
    }
   ],
   "execution_count": 76
  },
  {
   "metadata": {
    "ExecuteTime": {
     "end_time": "2025-04-25T08:01:31.477264Z",
     "start_time": "2025-04-25T08:01:31.468109Z"
    }
   },
   "cell_type": "code",
   "source": [
    "lin_reg_str = f'y = {b0:.4f} + {b1:.4f}*x'\n",
    "print('Рівняння регресії:', lin_reg_str)"
   ],
   "id": "c8456be18b4b65c4",
   "outputs": [
    {
     "name": "stdout",
     "output_type": "stream",
     "text": [
      "Рівняння регресії: y = 8.1720 + 7.3789*x\n"
     ]
    }
   ],
   "execution_count": 77
  },
  {
   "metadata": {},
   "cell_type": "markdown",
   "source": "Побудувати на одному малюнку кореляційне поле залежності та графік лінійної регресії",
   "id": "9f5c7b189f4af2f6"
  },
  {
   "metadata": {
    "ExecuteTime": {
     "end_time": "2025-04-25T08:01:31.570899Z",
     "start_time": "2025-04-25T08:01:31.556780Z"
    }
   },
   "cell_type": "code",
   "source": [
    "Y1 = b0 + b1*X\n",
    "Y1"
   ],
   "id": "ac3d4d0d9289565d",
   "outputs": [
    {
     "data": {
      "text/plain": [
       "array([30.30855765, 33.99799116, 37.68742467, 41.37685818, 45.06629168,\n",
       "       52.4451587 , 56.13459221, 59.82402571, 63.51345922, 67.20289273,\n",
       "       70.89232624, 74.58175974, 78.27119325, 81.96062676, 85.65006027,\n",
       "       89.33949377, 93.02892728, 96.71836079])"
      ]
     },
     "execution_count": 78,
     "metadata": {},
     "output_type": "execute_result"
    }
   ],
   "execution_count": 78
  },
  {
   "metadata": {
    "ExecuteTime": {
     "end_time": "2025-04-25T08:01:31.771365Z",
     "start_time": "2025-04-25T08:01:31.618156Z"
    }
   },
   "cell_type": "code",
   "source": [
    "plt.plot(X, Y1, color='r', label=lin_reg_str)\n",
    "plt.scatter(X, Y, label='Кореляційне поле')\n",
    "plt.legend()\n",
    "plt.xlabel('X')\n",
    "plt.ylabel('Y')\n",
    "plt.grid(True)\n",
    "plt.show()"
   ],
   "id": "e45e9763a82a1ff6",
   "outputs": [
    {
     "data": {
      "text/plain": [
       "<Figure size 640x480 with 1 Axes>"
      ],
      "image/png": "[encoded data removed]"
     },
     "metadata": {},
     "output_type": "display_data"
    }
   ],
   "execution_count": 79
  },
  {
   "metadata": {},
   "cell_type": "markdown",
   "source": "Побудувати довірчі інтервали для параметрів b1, b2",
   "id": "dea2beea6f842fba"
  },
  {
   "metadata": {
    "ExecuteTime": {
     "end_time": "2025-04-25T08:01:31.787476Z",
     "start_time": "2025-04-25T08:01:31.774370Z"
    }
   },
   "cell_type": "code",
   "source": [
    "k = n-2\n",
    "k"
   ],
   "id": "eb0bdeee33513064",
   "outputs": [
    {
     "data": {
      "text/plain": [
       "16"
      ]
     },
     "execution_count": 80,
     "metadata": {},
     "output_type": "execute_result"
    }
   ],
   "execution_count": 80
  },
  {
   "metadata": {
    "ExecuteTime": {
     "end_time": "2025-04-25T08:01:31.802575Z",
     "start_time": "2025-04-25T08:01:31.789474Z"
    }
   },
   "cell_type": "code",
   "source": [
    "a = 1 - y\n",
    "print(round(a, 4))"
   ],
   "id": "5bb739ee364a2311",
   "outputs": [
    {
     "name": "stdout",
     "output_type": "stream",
     "text": [
      "0.01\n"
     ]
    }
   ],
   "execution_count": 81
  },
  {
   "metadata": {
    "ExecuteTime": {
     "end_time": "2025-04-25T08:01:31.817665Z",
     "start_time": "2025-04-25T08:01:31.805667Z"
    }
   },
   "cell_type": "code",
   "source": [
    "t_crit = stats.t.ppf(1-a/2, k)\n",
    "print(t_crit)"
   ],
   "id": "96e02a938f815ab6",
   "outputs": [
    {
     "name": "stdout",
     "output_type": "stream",
     "text": [
      "2.920781622496036\n"
     ]
    }
   ],
   "execution_count": 82
  },
  {
   "metadata": {
    "ExecuteTime": {
     "end_time": "2025-04-25T08:01:31.880229Z",
     "start_time": "2025-04-25T08:01:31.861109Z"
    }
   },
   "cell_type": "code",
   "source": [
    "E = Y - (b0 + b1*X)\n",
    "E"
   ],
   "id": "1c84c0808a30b08a",
   "outputs": [
    {
     "data": {
      "text/plain": [
       "array([ 1.69144235,  2.00200884,  0.31257533,  0.62314182,  0.93370832,\n",
       "       -3.4451587 , -1.13459221, -0.82402571, -1.51345922,  0.79710727,\n",
       "       -0.89232624, -1.58175974, -3.27119325, -0.96062676,  2.34993973,\n",
       "        2.66050623,  0.97107272,  1.28163921])"
      ]
     },
     "execution_count": 83,
     "metadata": {},
     "output_type": "execute_result"
    }
   ],
   "execution_count": 83
  },
  {
   "metadata": {
    "ExecuteTime": {
     "end_time": "2025-04-25T08:01:31.926528Z",
     "start_time": "2025-04-25T08:01:31.914527Z"
    }
   },
   "cell_type": "code",
   "source": [
    "S2 = np.sum(np.pow(E, 2)) / k\n",
    "print(S2)"
   ],
   "id": "2bd06eced13b8b09",
   "outputs": [
    {
     "name": "stdout",
     "output_type": "stream",
     "text": [
      "3.4435014061872296\n"
     ]
    }
   ],
   "execution_count": 84
  },
  {
   "metadata": {
    "ExecuteTime": {
     "end_time": "2025-04-25T08:01:32.051500Z",
     "start_time": "2025-04-25T08:01:32.035498Z"
    }
   },
   "cell_type": "code",
   "source": [
    "S = np.sqrt(S2)\n",
    "print(S)"
   ],
   "id": "a8c99b3f1668c5d8",
   "outputs": [
    {
     "name": "stdout",
     "output_type": "stream",
     "text": [
      "1.8556673748781676\n"
     ]
    }
   ],
   "execution_count": 85
  },
  {
   "metadata": {
    "ExecuteTime": {
     "end_time": "2025-04-25T08:01:32.096890Z",
     "start_time": "2025-04-25T08:01:32.083752Z"
    }
   },
   "cell_type": "code",
   "source": [
    "int0_b0 = b0 - t_crit*S*np.sqrt(np.sum(np.pow(X, 2))/(n*np.sum(np.pow(X-x_b, 2))))\n",
    "int1_b0 = b0 + t_crit*S*np.sqrt(np.sum(np.pow(X, 2))/(n*np.sum(np.pow(X-x_b, 2))))\n",
    "print(f'{int0_b0:.4f} < b0 < {int1_b0:.4f}')"
   ],
   "id": "49e01139cb39b1c8",
   "outputs": [
    {
     "name": "stdout",
     "output_type": "stream",
     "text": [
      "4.4385 < b0 < 11.9054\n"
     ]
    }
   ],
   "execution_count": 86
  },
  {
   "metadata": {
    "ExecuteTime": {
     "end_time": "2025-04-25T08:01:32.142156Z",
     "start_time": "2025-04-25T08:01:32.126161Z"
    }
   },
   "cell_type": "code",
   "source": [
    "int0_b1 = b1 - (t_crit-S)/np.sqrt(n*np.sum(np.pow(X-x_b, 2)))\n",
    "int1_b1 = b1 + (t_crit-S)/np.sqrt(n*np.sum(np.pow(X-x_b, 2)))\n",
    "print(f'{int0_b1:.4f} < b1 < {int1_b1:.4f}')"
   ],
   "id": "7af60b820f15b7d5",
   "outputs": [
    {
     "name": "stdout",
     "output_type": "stream",
     "text": [
      "7.3575 < b1 < 7.4002\n"
     ]
    }
   ],
   "execution_count": 87
  },
  {
   "metadata": {},
   "cell_type": "markdown",
   "source": "Перевірити значущість параметра b1",
   "id": "a71c812373b54306"
  },
  {
   "metadata": {},
   "cell_type": "markdown",
   "source": "Висунемо гіпотезу H0: b1 = 0 (параметр b1 не значимий) при альтернативній гіпотезі H1: b1 > 0 (параметр b1 значимий) при рівні значущості a = 0.01.",
   "id": "987c0b583c18a230"
  },
  {
   "metadata": {
    "ExecuteTime": {
     "end_time": "2025-04-25T08:01:32.218983Z",
     "start_time": "2025-04-25T08:01:32.206814Z"
    }
   },
   "cell_type": "code",
   "source": [
    "t_b1 = b1 / (S/np.sum(np.pow(X-x_b, 2)))\n",
    "print(t_b1)"
   ],
   "id": "94a28c760ca7dff5",
   "outputs": [
    {
     "name": "stdout",
     "output_type": "stream",
     "text": [
      "549.8471046840077\n"
     ]
    }
   ],
   "execution_count": 88
  },
  {
   "metadata": {
    "ExecuteTime": {
     "end_time": "2025-04-25T08:01:32.234046Z",
     "start_time": "2025-04-25T08:01:32.225971Z"
    }
   },
   "cell_type": "code",
   "source": [
    "if t_b1 > t_crit:\n",
    "    print('Оскільки t_спост > t_крит, то гіпотеза H0 відхиляється. Параметр b1 є значущим при a = 0.01.')\n",
    "else:\n",
    "    print('Оскільки t_спост < t_крит, то гіпотезу H0 не відхиляємо. Параметр b1 не є значущим при a = 0.01.')"
   ],
   "id": "ab36c09216f3b37c",
   "outputs": [
    {
     "name": "stdout",
     "output_type": "stream",
     "text": [
      "Оскільки t_спост > t_крит, то гіпотеза H0 відхиляється. Параметр b1 є значущим при a = 0.01.\n"
     ]
    }
   ],
   "execution_count": 89
  },
  {
   "metadata": {},
   "cell_type": "markdown",
   "source": "Побудувати довірчий інтервал для функції регресії та зобразити графічно",
   "id": "7bff43def2c97140"
  },
  {
   "metadata": {
    "ExecuteTime": {
     "end_time": "2025-04-25T09:37:23.039123Z",
     "start_time": "2025-04-25T09:37:23.027111Z"
    }
   },
   "cell_type": "code",
   "source": [
    "D = S2 * (1/n + np.pow(X-x_b, 2)/np.sum(np.pow(X-x_b, 2)))\n",
    "D"
   ],
   "id": "91652a70a323189f",
   "outputs": [
    {
     "data": {
      "text/plain": [
       "array([0.7207972 , 0.6121934 , 0.51604099, 0.43233997, 0.36109034,\n",
       "       0.25594526, 0.22204981, 0.20060575, 0.19161308, 0.1950718 ,\n",
       "       0.21098191, 0.23934341, 0.2801563 , 0.33342059, 0.39913626,\n",
       "       0.47730333, 0.56792179, 0.67099164])"
      ]
     },
     "execution_count": 117,
     "metadata": {},
     "output_type": "execute_result"
    }
   ],
   "execution_count": 117
  },
  {
   "metadata": {
    "ExecuteTime": {
     "end_time": "2025-04-25T09:37:26.114969Z",
     "start_time": "2025-04-25T09:37:26.099969Z"
    }
   },
   "cell_type": "code",
   "source": [
    "sigma = np.sqrt(D)\n",
    "sigma"
   ],
   "id": "eda39365f46e42c6",
   "outputs": [
    {
     "data": {
      "text/plain": [
       "array([0.84899776, 0.78242789, 0.71835993, 0.65752564, 0.60090793,\n",
       "       0.50591033, 0.47122161, 0.44789033, 0.43773631, 0.44166933,\n",
       "       0.45932767, 0.48922736, 0.52929793, 0.57742583, 0.63177232,\n",
       "       0.69087143, 0.75360586, 0.81914079])"
      ]
     },
     "execution_count": 118,
     "metadata": {},
     "output_type": "execute_result"
    }
   ],
   "execution_count": 118
  },
  {
   "metadata": {
    "ExecuteTime": {
     "end_time": "2025-04-25T09:37:27.965461Z",
     "start_time": "2025-04-25T09:37:27.952456Z"
    }
   },
   "cell_type": "code",
   "source": [
    "int0 = b0 + b1*X - t_crit*sigma\n",
    "int0"
   ],
   "id": "7442c70539753422",
   "outputs": [
    {
     "data": {
      "text/plain": [
       "array([27.82882059, 31.71269017, 35.58925218, 39.45636936, 43.31117083,\n",
       "       50.9675051 , 54.75825678, 58.51583587, 62.23492706, 65.91287307,\n",
       "       69.55073043, 73.15283346, 76.72522958, 80.27409201, 83.80479129,\n",
       "       87.3216092 , 90.82780914, 94.32582942])"
      ]
     },
     "execution_count": 119,
     "metadata": {},
     "output_type": "execute_result"
    }
   ],
   "execution_count": 119
  },
  {
   "metadata": {
    "ExecuteTime": {
     "end_time": "2025-04-25T09:37:30.736243Z",
     "start_time": "2025-04-25T09:37:30.722240Z"
    }
   },
   "cell_type": "code",
   "source": [
    "int1 = b0 + b1*X + t_crit*sigma\n",
    "int1"
   ],
   "id": "a1bc9a94f9d39d96",
   "outputs": [
    {
     "data": {
      "text/plain": [
       "array([32.78829472, 36.28329216, 39.78559715, 43.29734699, 46.82141253,\n",
       "       53.9228123 , 57.51092764, 61.13221556, 64.79199138, 68.49291238,\n",
       "       72.23392205, 76.01068602, 79.81715693, 83.6471615 , 87.49532924,\n",
       "       91.35737834, 95.23004542, 99.11089216])"
      ]
     },
     "execution_count": 120,
     "metadata": {},
     "output_type": "execute_result"
    }
   ],
   "execution_count": 120
  },
  {
   "metadata": {
    "ExecuteTime": {
     "end_time": "2025-04-25T09:37:32.503961Z",
     "start_time": "2025-04-25T09:37:32.494960Z"
    }
   },
   "cell_type": "code",
   "source": [
    "for i in range(n):\n",
    "    print(f'{int0[i]:.4f} < b0 + b1*x < {int1[i]:.4f}')"
   ],
   "id": "bf99ed9282363243",
   "outputs": [
    {
     "name": "stdout",
     "output_type": "stream",
     "text": [
      "27.8288 < b0 + b1*x < 32.7883\n",
      "31.7127 < b0 + b1*x < 36.2833\n",
      "35.5893 < b0 + b1*x < 39.7856\n",
      "39.4564 < b0 + b1*x < 43.2973\n",
      "43.3112 < b0 + b1*x < 46.8214\n",
      "50.9675 < b0 + b1*x < 53.9228\n",
      "54.7583 < b0 + b1*x < 57.5109\n",
      "58.5158 < b0 + b1*x < 61.1322\n",
      "62.2349 < b0 + b1*x < 64.7920\n",
      "65.9129 < b0 + b1*x < 68.4929\n",
      "69.5507 < b0 + b1*x < 72.2339\n",
      "73.1528 < b0 + b1*x < 76.0107\n",
      "76.7252 < b0 + b1*x < 79.8172\n",
      "80.2741 < b0 + b1*x < 83.6472\n",
      "83.8048 < b0 + b1*x < 87.4953\n",
      "87.3216 < b0 + b1*x < 91.3574\n",
      "90.8278 < b0 + b1*x < 95.2300\n",
      "94.3258 < b0 + b1*x < 99.1109\n"
     ]
    }
   ],
   "execution_count": 121
  },
  {
   "metadata": {
    "ExecuteTime": {
     "end_time": "2025-04-25T09:37:38.762535Z",
     "start_time": "2025-04-25T09:37:38.343999Z"
    }
   },
   "cell_type": "code",
   "source": [
    "plt.plot(X, Y1, color='r', label=lin_reg_str)\n",
    "plt.scatter(X, Y, label='Кореляційне поле')\n",
    "\n",
    "plt.plot(X, int0, color='y', linestyle='--', label=f'{y*100}% довірчий інтервал')\n",
    "plt.plot(X, int1, color='y', linestyle='--')\n",
    "\n",
    "plt.legend()\n",
    "plt.xlabel('X')\n",
    "plt.ylabel('Y')\n",
    "plt.grid(True)\n",
    "plt.show()"
   ],
   "id": "2dcd0029a80863dd",
   "outputs": [
    {
     "data": {
      "text/plain": [
       "<Figure size 640x480 with 1 Axes>"
      ],
      "image/png": "[encoded data removed]"
     },
     "metadata": {},
     "output_type": "display_data"
    }
   ],
   "execution_count": 122
  },
  {
   "metadata": {},
   "cell_type": "markdown",
   "source": "Обчислити парний коефіцієнт кореляції",
   "id": "1f0f39a1654f5a42"
  },
  {
   "metadata": {
    "ExecuteTime": {
     "end_time": "2025-04-25T08:32:26.941768Z",
     "start_time": "2025-04-25T08:32:26.925654Z"
    }
   },
   "cell_type": "code",
   "source": [
    "sigma_x = np.sqrt(np.sum(np.pow(X, 2))/n - np.pow(x_b, 2))\n",
    "sigma_y = np.sqrt(np.sum(np.pow(Y, 2))/n - np.pow(y_b, 2))\n",
    "cov_xy = np.sum(X*Y)/ n - x_b*y_b\n",
    "\n",
    "r_xy = cov_xy / (sigma_x * sigma_y)\n",
    "print(round(r_xy, 4))"
   ],
   "id": "b438c29010dde9cc",
   "outputs": [
    {
     "name": "stdout",
     "output_type": "stream",
     "text": [
      "0.9964\n"
     ]
    }
   ],
   "execution_count": 102
  },
  {
   "metadata": {},
   "cell_type": "markdown",
   "source": "Побудувати довірчий інтервал для прогнозованих індивідуальних значень та зобразити його графічно",
   "id": "6efc9e455b4dad6b"
  },
  {
   "metadata": {
    "ExecuteTime": {
     "end_time": "2025-04-25T08:01:32.703291Z",
     "start_time": "2025-04-25T08:01:32.689173Z"
    }
   },
   "cell_type": "code",
   "source": [
    "S_p = S*np.sqrt(1 + 1/n + np.pow(X-x_b, 2)/np.sum(np.pow(X-x_b, 2)))\n",
    "print(S_p)"
   ],
   "id": "636485918f5443c8",
   "outputs": [
    {
     "name": "stdout",
     "output_type": "stream",
     "text": [
      "[2.04066132 2.01387557 1.98985989 1.96871567 1.95053627 1.92339457\n",
      " 1.91456293 1.90895447 1.90659762 1.90750444 1.91167029 1.91907395\n",
      " 1.92967814 1.94343047 1.96026469 1.9801022  2.00285376 2.02842132]\n"
     ]
    }
   ],
   "execution_count": 97
  },
  {
   "metadata": {
    "ExecuteTime": {
     "end_time": "2025-04-25T08:01:32.719290Z",
     "start_time": "2025-04-25T08:01:32.706293Z"
    }
   },
   "cell_type": "code",
   "source": [
    "int0 = b0 + b1*X - t_crit*S_p\n",
    "int0"
   ],
   "id": "4ac3202b81a4f4b9",
   "outputs": [
    {
     "data": {
      "text/plain": [
       "array([24.34823158, 28.11590041, 31.87547846, 35.62666964, 39.36920118,\n",
       "       46.82734319, 50.54257198, 54.24838659, 57.94470393, 61.63148881,\n",
       "       65.30875477, 68.97656383, 72.63502481, 76.28429076, 79.92455517,\n",
       "       83.55604765, 87.17902882, 90.79378508])"
      ]
     },
     "execution_count": 98,
     "metadata": {},
     "output_type": "execute_result"
    }
   ],
   "execution_count": 98
  },
  {
   "metadata": {
    "ExecuteTime": {
     "end_time": "2025-04-25T08:01:32.749586Z",
     "start_time": "2025-04-25T08:01:32.737459Z"
    }
   },
   "cell_type": "code",
   "source": [
    "int1 = b0 + b1*X + t_crit*S_p\n",
    "int1"
   ],
   "id": "3c3a352774119e76",
   "outputs": [
    {
     "data": {
      "text/plain": [
       "array([ 36.26888372,  39.88008191,  43.49937088,  47.12704672,\n",
       "        50.76338218,  58.06297421,  61.72661243,  65.39966484,\n",
       "        69.08221451,  72.77429665,  76.4758977 ,  80.18695566,\n",
       "        83.90736169,  87.63696276,  91.37556536,  95.1229399 ,\n",
       "        98.87882574, 102.64293649])"
      ]
     },
     "execution_count": 99,
     "metadata": {},
     "output_type": "execute_result"
    }
   ],
   "execution_count": 99
  },
  {
   "metadata": {
    "ExecuteTime": {
     "end_time": "2025-04-25T08:01:32.971262Z",
     "start_time": "2025-04-25T08:01:32.952888Z"
    }
   },
   "cell_type": "code",
   "source": [
    "for i in range(n):\n",
    "    print(f'{int0[i]:.4f} < b0 + b1*x < {int1[i]:.4f}')"
   ],
   "id": "2ffba027c366933c",
   "outputs": [
    {
     "name": "stdout",
     "output_type": "stream",
     "text": [
      "24.3482 < b0 + b1*x < 36.2689\n",
      "28.1159 < b0 + b1*x < 39.8801\n",
      "31.8755 < b0 + b1*x < 43.4994\n",
      "35.6267 < b0 + b1*x < 47.1270\n",
      "39.3692 < b0 + b1*x < 50.7634\n",
      "46.8273 < b0 + b1*x < 58.0630\n",
      "50.5426 < b0 + b1*x < 61.7266\n",
      "54.2484 < b0 + b1*x < 65.3997\n",
      "57.9447 < b0 + b1*x < 69.0822\n",
      "61.6315 < b0 + b1*x < 72.7743\n",
      "65.3088 < b0 + b1*x < 76.4759\n",
      "68.9766 < b0 + b1*x < 80.1870\n",
      "72.6350 < b0 + b1*x < 83.9074\n",
      "76.2843 < b0 + b1*x < 87.6370\n",
      "79.9246 < b0 + b1*x < 91.3756\n",
      "83.5560 < b0 + b1*x < 95.1229\n",
      "87.1790 < b0 + b1*x < 98.8788\n",
      "90.7938 < b0 + b1*x < 102.6429\n"
     ]
    }
   ],
   "execution_count": 100
  },
  {
   "metadata": {
    "ExecuteTime": {
     "end_time": "2025-04-25T08:01:33.204108Z",
     "start_time": "2025-04-25T08:01:33.041783Z"
    }
   },
   "cell_type": "code",
   "source": [
    "plt.plot(X, Y1, color='r', label=lin_reg_str)\n",
    "plt.scatter(X, Y, label='Кореляційне поле')\n",
    "\n",
    "plt.plot(X, int0, color='y', linestyle='--', label=f'{y*100}% довірчий інтервал прогнозу')\n",
    "plt.plot(X, int1, color='y', linestyle='--')\n",
    "\n",
    "plt.legend()\n",
    "plt.xlabel('X')\n",
    "plt.ylabel('Y')\n",
    "plt.grid(True)\n",
    "plt.show()"
   ],
   "id": "8ca744268552fb36",
   "outputs": [
    {
     "data": {
      "text/plain": [
       "<Figure size 640x480 with 1 Axes>"
      ],
      "image/png": "[encoded data removed]"
     },
     "metadata": {},
     "output_type": "display_data"
    }
   ],
   "execution_count": 101
  }
 ],
 "metadata": {
  "kernelspec": {
   "display_name": "Python 3",
   "language": "python",
   "name": "python3"
  },
  "language_info": {
   "codemirror_mode": {
    "name": "ipython",
    "version": 2
   },
   "file_extension": ".py",
   "mimetype": "text/x-python",
   "name": "python",
   "nbconvert_exporter": "python",
   "pygments_lexer": "ipython2",
   "version": "2.7.6"
  }
 },
 "nbformat": 4,
 "nbformat_minor": 5
}
