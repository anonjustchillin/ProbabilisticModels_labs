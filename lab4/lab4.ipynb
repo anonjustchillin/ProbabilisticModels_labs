{
 "cells": [
  {
   "cell_type": "code",
   "id": "initial_id",
   "metadata": {
    "collapsed": true,
    "ExecuteTime": {
     "end_time": "2025-05-16T01:03:58.541087Z",
     "start_time": "2025-05-16T01:03:58.529079Z"
    }
   },
   "source": [
    "import numpy as np\n",
    "from scipy.stats import t\n",
    "import statsmodels.api as sm"
   ],
   "outputs": [],
   "execution_count": 120
  },
  {
   "metadata": {
    "ExecuteTime": {
     "end_time": "2025-05-16T01:03:58.576081Z",
     "start_time": "2025-05-16T01:03:58.564055Z"
    }
   },
   "cell_type": "code",
   "source": [
    "X_1 = np.array([22, 17, 18, 15, 24, 22, 20, 17, 21, 18, 22, 20, 17, 15, 21, 15])\n",
    "\n",
    "X_2 = np.array([180, 154, 217, 170, 103, 163, 180, 140, 92, 173, 87, 93, 210, 110, 86, 175])\n",
    "\n",
    "X_3 = np.array([518, 475, 510, 493, 516, 476, 471, 523, 483, 542, 501, 471, 523, 538, 472, 467])\n",
    "\n",
    "X_4 = np.array([2801, 2543, 2573, 2648, 2643, 2612, 2815, 2527, 2720, 2817, 2736, 2682, 2593, 2627, 2532, 2693])"
   ],
   "id": "995b4ebaf0e2c2f3",
   "outputs": [],
   "execution_count": 121
  },
  {
   "metadata": {
    "ExecuteTime": {
     "end_time": "2025-05-16T01:03:58.647936Z",
     "start_time": "2025-05-16T01:03:58.635936Z"
    }
   },
   "cell_type": "code",
   "source": "len(X_1)",
   "id": "3584a6947b0b4524",
   "outputs": [
    {
     "data": {
      "text/plain": [
       "16"
      ]
     },
     "execution_count": 122,
     "metadata": {},
     "output_type": "execute_result"
    }
   ],
   "execution_count": 122
  },
  {
   "metadata": {
    "ExecuteTime": {
     "end_time": "2025-05-16T01:03:58.807388Z",
     "start_time": "2025-05-16T01:03:58.789284Z"
    }
   },
   "cell_type": "code",
   "source": [
    "X = np.array([np.ones_like(X_1), X_1, X_2, X_3, X_4])\n",
    "X = np.concatenate(X).reshape(5, 16)\n",
    "X"
   ],
   "id": "76dd24cb90e0a0fa",
   "outputs": [
    {
     "data": {
      "text/plain": [
       "array([[   1,    1,    1,    1,    1,    1,    1,    1,    1,    1,    1,\n",
       "           1,    1,    1,    1,    1],\n",
       "       [  22,   17,   18,   15,   24,   22,   20,   17,   21,   18,   22,\n",
       "          20,   17,   15,   21,   15],\n",
       "       [ 180,  154,  217,  170,  103,  163,  180,  140,   92,  173,   87,\n",
       "          93,  210,  110,   86,  175],\n",
       "       [ 518,  475,  510,  493,  516,  476,  471,  523,  483,  542,  501,\n",
       "         471,  523,  538,  472,  467],\n",
       "       [2801, 2543, 2573, 2648, 2643, 2612, 2815, 2527, 2720, 2817, 2736,\n",
       "        2682, 2593, 2627, 2532, 2693]])"
      ]
     },
     "execution_count": 123,
     "metadata": {},
     "output_type": "execute_result"
    }
   ],
   "execution_count": 123
  },
  {
   "metadata": {
    "ExecuteTime": {
     "end_time": "2025-05-16T01:03:58.977025Z",
     "start_time": "2025-05-16T01:03:58.965024Z"
    }
   },
   "cell_type": "code",
   "source": "X.T",
   "id": "2eae2183ec0c45a2",
   "outputs": [
    {
     "data": {
      "text/plain": [
       "array([[   1,   22,  180,  518, 2801],\n",
       "       [   1,   17,  154,  475, 2543],\n",
       "       [   1,   18,  217,  510, 2573],\n",
       "       [   1,   15,  170,  493, 2648],\n",
       "       [   1,   24,  103,  516, 2643],\n",
       "       [   1,   22,  163,  476, 2612],\n",
       "       [   1,   20,  180,  471, 2815],\n",
       "       [   1,   17,  140,  523, 2527],\n",
       "       [   1,   21,   92,  483, 2720],\n",
       "       [   1,   18,  173,  542, 2817],\n",
       "       [   1,   22,   87,  501, 2736],\n",
       "       [   1,   20,   93,  471, 2682],\n",
       "       [   1,   17,  210,  523, 2593],\n",
       "       [   1,   15,  110,  538, 2627],\n",
       "       [   1,   21,   86,  472, 2532],\n",
       "       [   1,   15,  175,  467, 2693]])"
      ]
     },
     "execution_count": 124,
     "metadata": {},
     "output_type": "execute_result"
    }
   ],
   "execution_count": 124
  },
  {
   "metadata": {
    "ExecuteTime": {
     "end_time": "2025-05-16T01:03:59.153523Z",
     "start_time": "2025-05-16T01:03:59.135632Z"
    }
   },
   "cell_type": "code",
   "source": [
    "Y = np.array([452, 377, 478, 371, 397, 404, 427, 396, 399, 418, 413, 412, 423, 393, 381, 401])\n",
    "Y"
   ],
   "id": "426c91e4e2ddf1af",
   "outputs": [
    {
     "data": {
      "text/plain": [
       "array([452, 377, 478, 371, 397, 404, 427, 396, 399, 418, 413, 412, 423,\n",
       "       393, 381, 401])"
      ]
     },
     "execution_count": 125,
     "metadata": {},
     "output_type": "execute_result"
    }
   ],
   "execution_count": 125
  },
  {
   "metadata": {},
   "cell_type": "markdown",
   "source": "Визначити статистичні оцінки для  параметрів лінійної множинної регресії",
   "id": "d93f0653907bcc9f"
  },
  {
   "metadata": {
    "ExecuteTime": {
     "end_time": "2025-05-16T01:03:59.482709Z",
     "start_time": "2025-05-16T01:03:59.470702Z"
    }
   },
   "cell_type": "code",
   "source": [
    "Z = np.linalg.inv(X @ X.T)\n",
    "Z"
   ],
   "id": "7c54424aca7e58cf",
   "outputs": [
    {
     "data": {
      "text/plain": [
       "array([[ 7.01790808e+01, -6.21497193e-02,  7.43218226e-04,\n",
       "        -4.63962538e-02, -1.72574127e-02],\n",
       "       [-6.21497193e-02,  1.08224750e-02,  2.84171274e-04,\n",
       "         1.20018660e-04, -9.20125316e-05],\n",
       "       [ 7.43218226e-04,  2.84171274e-04,  4.20632622e-05,\n",
       "        -7.29019551e-06, -3.24807762e-06],\n",
       "       [-4.63962538e-02,  1.20018660e-04, -7.29019551e-06,\n",
       "         1.04864905e-04, -2.67503087e-06],\n",
       "       [-1.72574127e-02, -9.20125316e-05, -3.24807762e-06,\n",
       "        -2.67503087e-06,  7.82416824e-06]])"
      ]
     },
     "execution_count": 126,
     "metadata": {},
     "output_type": "execute_result"
    }
   ],
   "execution_count": 126
  },
  {
   "metadata": {
    "ExecuteTime": {
     "end_time": "2025-05-16T01:03:59.775973Z",
     "start_time": "2025-05-16T01:03:59.763918Z"
    }
   },
   "cell_type": "code",
   "source": [
    "X_Y = X @ Y\n",
    "X_Y"
   ],
   "id": "1a8265aff0a3e0c5",
   "outputs": [
    {
     "data": {
      "text/plain": [
       "array([    6542,   124541,   963527,  3265275, 17415854])"
      ]
     },
     "execution_count": 127,
     "metadata": {},
     "output_type": "execute_result"
    }
   ],
   "execution_count": 127
  },
  {
   "metadata": {
    "ExecuteTime": {
     "end_time": "2025-05-16T01:04:00.121525Z",
     "start_time": "2025-05-16T01:04:00.109583Z"
    }
   },
   "cell_type": "code",
   "source": [
    "B = Z @ X_Y\n",
    "B"
   ],
   "id": "628c8073fe744ef3",
   "outputs": [
    {
     "data": {
      "text/plain": [
       "array([38.36248329,  4.48220738,  0.40965836,  0.22345745,  0.04292348])"
      ]
     },
     "execution_count": 128,
     "metadata": {},
     "output_type": "execute_result"
    }
   ],
   "execution_count": 128
  },
  {
   "metadata": {
    "ExecuteTime": {
     "end_time": "2025-05-16T01:04:00.356720Z",
     "start_time": "2025-05-16T01:04:00.350682Z"
    }
   },
   "cell_type": "code",
   "source": [
    "eq_str = 'y = '\n",
    "\n",
    "for i in range(len(B)):\n",
    "    print(f'b{i} = {B[i]:.4f}')\n",
    "    eq_str += f'{B[i]:.4f} '\n",
    "    if i != 0:\n",
    "        eq_str += f'* x_i{i} '\n",
    "    if i+1 != len(B):\n",
    "        eq_str += '+ '\n",
    "    \n",
    "print(eq_str)"
   ],
   "id": "5d942adaf35a39c9",
   "outputs": [
    {
     "name": "stdout",
     "output_type": "stream",
     "text": [
      "b0 = 38.3625\n",
      "b1 = 4.4822\n",
      "b2 = 0.4097\n",
      "b3 = 0.2235\n",
      "b4 = 0.0429\n",
      "y = 38.3625 + 4.4822 * x_i1 + 0.4097 * x_i2 + 0.2235 * x_i3 + 0.0429 * x_i4 \n"
     ]
    }
   ],
   "execution_count": 129
  },
  {
   "metadata": {},
   "cell_type": "markdown",
   "source": "Побудувати довірчий інтервал",
   "id": "ddf175e0f202ae35"
  },
  {
   "metadata": {
    "ExecuteTime": {
     "end_time": "2025-05-16T01:04:00.558871Z",
     "start_time": "2025-05-16T01:04:00.540742Z"
    }
   },
   "cell_type": "code",
   "source": [
    "y = 0.99\n",
    "alpha = 1 - y\n",
    "print(f'alpha = {alpha:.2f}')"
   ],
   "id": "d29b4b241555bbb0",
   "outputs": [
    {
     "name": "stdout",
     "output_type": "stream",
     "text": [
      "alpha = 0.01\n"
     ]
    }
   ],
   "execution_count": 130
  },
  {
   "metadata": {
    "ExecuteTime": {
     "end_time": "2025-05-16T01:04:00.696781Z",
     "start_time": "2025-05-16T01:04:00.690778Z"
    }
   },
   "cell_type": "code",
   "source": [
    "n = X.shape[1]\n",
    "n"
   ],
   "id": "484677fbfbb0c475",
   "outputs": [
    {
     "data": {
      "text/plain": [
       "16"
      ]
     },
     "execution_count": 131,
     "metadata": {},
     "output_type": "execute_result"
    }
   ],
   "execution_count": 131
  },
  {
   "metadata": {
    "ExecuteTime": {
     "end_time": "2025-05-16T01:04:00.852606Z",
     "start_time": "2025-05-16T01:04:00.834609Z"
    }
   },
   "cell_type": "code",
   "source": [
    "m = X.shape[0]\n",
    "m"
   ],
   "id": "69ba57c8370e4df9",
   "outputs": [
    {
     "data": {
      "text/plain": [
       "5"
      ]
     },
     "execution_count": 132,
     "metadata": {},
     "output_type": "execute_result"
    }
   ],
   "execution_count": 132
  },
  {
   "metadata": {
    "ExecuteTime": {
     "end_time": "2025-05-16T01:04:00.994865Z",
     "start_time": "2025-05-16T01:04:00.985231Z"
    }
   },
   "cell_type": "code",
   "source": [
    "pred_Y = B @ X\n",
    "pred_Y"
   ],
   "id": "e4d28f38f0935468",
   "outputs": [
    {
     "data": {
      "text/plain": [
       "array([446.68918495, 392.94410176, 432.34350077, 399.06342053,\n",
       "       416.88108084, 422.22724173, 427.82319903, 397.24806638,\n",
       "       394.85922932, 431.94250134, 402.00215467, 386.47409856,\n",
       "       428.75710135, 383.63811094, 381.87363231, 397.23337552])"
      ]
     },
     "execution_count": 133,
     "metadata": {},
     "output_type": "execute_result"
    }
   ],
   "execution_count": 133
  },
  {
   "metadata": {
    "ExecuteTime": {
     "end_time": "2025-05-16T01:04:01.140260Z",
     "start_time": "2025-05-16T01:04:01.122280Z"
    }
   },
   "cell_type": "code",
   "source": [
    "e = Y - pred_Y\n",
    "e"
   ],
   "id": "2f0b2a628bd2a9b6",
   "outputs": [
    {
     "data": {
      "text/plain": [
       "array([  5.31081505, -15.94410176,  45.65649923, -28.06342053,\n",
       "       -19.88108084, -18.22724173,  -0.82319903,  -1.24806638,\n",
       "         4.14077068, -13.94250134,  10.99784533,  25.52590144,\n",
       "        -5.75710135,   9.36188906,  -0.87363231,   3.76662448])"
      ]
     },
     "execution_count": 134,
     "metadata": {},
     "output_type": "execute_result"
    }
   ],
   "execution_count": 134
  },
  {
   "metadata": {
    "ExecuteTime": {
     "end_time": "2025-05-16T01:04:01.276609Z",
     "start_time": "2025-05-16T01:04:01.264610Z"
    }
   },
   "cell_type": "code",
   "source": [
    "S_2 = np.sum(e**2) / (n-m)\n",
    "print(S_2)"
   ],
   "id": "4218f7c338ad77fd",
   "outputs": [
    {
     "name": "stdout",
     "output_type": "stream",
     "text": [
      "454.9108291901238\n"
     ]
    }
   ],
   "execution_count": 135
  },
  {
   "metadata": {
    "ExecuteTime": {
     "end_time": "2025-05-16T01:04:01.436512Z",
     "start_time": "2025-05-16T01:04:01.424444Z"
    }
   },
   "cell_type": "code",
   "source": [
    "S = np.sqrt(S_2)\n",
    "print(S)"
   ],
   "id": "8499d75b0966350",
   "outputs": [
    {
     "name": "stdout",
     "output_type": "stream",
     "text": [
      "21.328638709259526\n"
     ]
    }
   ],
   "execution_count": 136
  },
  {
   "metadata": {
    "ExecuteTime": {
     "end_time": "2025-05-16T01:04:01.547706Z",
     "start_time": "2025-05-16T01:04:01.534018Z"
    }
   },
   "cell_type": "code",
   "source": [
    "t_val = t.ppf(1-alpha/2, df=n-m)\n",
    "print(t_val)"
   ],
   "id": "2a9cc7de7668b460",
   "outputs": [
    {
     "name": "stdout",
     "output_type": "stream",
     "text": [
      "3.1058065155392804\n"
     ]
    }
   ],
   "execution_count": 137
  },
  {
   "metadata": {
    "ExecuteTime": {
     "end_time": "2025-05-16T01:04:01.674366Z",
     "start_time": "2025-05-16T01:04:01.656407Z"
    }
   },
   "cell_type": "code",
   "source": [
    "for i in range(Y.shape[0]):\n",
    "    x_0 = X.T[i].reshape(-1, 1)\n",
    "    y_0 = pred_Y[i]\n",
    "    \n",
    "    margin = t_val*S*np.sqrt((x_0.T @ Z @ x_0)[0][0])\n",
    "    \n",
    "    low = y_0 - margin\n",
    "    high = y_0 + margin\n",
    "    \n",
    "    print(f'y[{i}]: [{low:.4f}, {high:.4f}]')"
   ],
   "id": "8e5d454f2f99c1a7",
   "outputs": [
    {
     "name": "stdout",
     "output_type": "stream",
     "text": [
      "y[0]: [407.9268, 485.4515]\n",
      "y[1]: [361.3168, 424.5714]\n",
      "y[2]: [394.0652, 470.6218]\n",
      "y[3]: [368.7144, 429.4124]\n",
      "y[4]: [376.7843, 456.9778]\n",
      "y[5]: [386.6050, 457.8495]\n",
      "y[6]: [387.1404, 468.5060]\n",
      "y[7]: [362.9457, 431.5504]\n",
      "y[8]: [364.9131, 424.8053]\n",
      "y[9]: [389.2439, 474.6411]\n",
      "y[10]: [369.5141, 434.4902]\n",
      "y[11]: [355.1563, 417.7919]\n",
      "y[12]: [393.6448, 463.8694]\n",
      "y[13]: [336.8288, 430.4474]\n",
      "y[14]: [343.5669, 420.1804]\n",
      "y[15]: [356.0595, 438.4073]\n"
     ]
    }
   ],
   "execution_count": 138
  },
  {
   "metadata": {
    "ExecuteTime": {
     "end_time": "2025-05-16T01:04:01.825388Z",
     "start_time": "2025-05-16T01:04:01.813381Z"
    }
   },
   "cell_type": "code",
   "source": "model = sm.OLS(Y.reshape(16,1), X.T).fit()",
   "id": "bfb3e9ba170ba55a",
   "outputs": [],
   "execution_count": 139
  },
  {
   "metadata": {
    "ExecuteTime": {
     "end_time": "2025-05-16T01:04:01.924198Z",
     "start_time": "2025-05-16T01:04:01.912200Z"
    }
   },
   "cell_type": "code",
   "source": [
    "predictions = model.get_prediction(X.T)\n",
    "conf_int = predictions.conf_int(alpha=alpha)"
   ],
   "id": "ab5fab7e188415c3",
   "outputs": [],
   "execution_count": 140
  },
  {
   "metadata": {
    "ExecuteTime": {
     "end_time": "2025-05-16T01:04:02.016625Z",
     "start_time": "2025-05-16T01:04:02.010633Z"
    }
   },
   "cell_type": "code",
   "source": [
    "for i, (features, intervals) in enumerate(zip(X.T, conf_int), 1):\n",
    "    feature = tuple(int(val) for val in features[1:])\n",
    "    interval = tuple(round(float(val), 2) for val in intervals)\n",
    "    \n",
    "    print(f'Вектор ознак [{i}]: {feature}')\n",
    "    print(f'Довірчий інтервал [{i}]: {interval}')\n",
    "    print()"
   ],
   "id": "798e1a3c9416b61d",
   "outputs": [
    {
     "name": "stdout",
     "output_type": "stream",
     "text": [
      "Вектор ознак [1]: (1, 22, 180, 518, 2801)\n",
      "Довірчий інтервал [1]: (407.93, 485.45)\n",
      "\n",
      "Вектор ознак [2]: (1, 17, 154, 475, 2543)\n",
      "Довірчий інтервал [2]: (361.32, 424.57)\n",
      "\n",
      "Вектор ознак [3]: (1, 18, 217, 510, 2573)\n",
      "Довірчий інтервал [3]: (394.07, 470.62)\n",
      "\n",
      "Вектор ознак [4]: (1, 15, 170, 493, 2648)\n",
      "Довірчий інтервал [4]: (368.71, 429.41)\n",
      "\n",
      "Вектор ознак [5]: (1, 24, 103, 516, 2643)\n",
      "Довірчий інтервал [5]: (376.78, 456.98)\n",
      "\n",
      "Вектор ознак [6]: (1, 22, 163, 476, 2612)\n",
      "Довірчий інтервал [6]: (386.61, 457.85)\n",
      "\n",
      "Вектор ознак [7]: (1, 20, 180, 471, 2815)\n",
      "Довірчий інтервал [7]: (387.14, 468.51)\n",
      "\n",
      "Вектор ознак [8]: (1, 17, 140, 523, 2527)\n",
      "Довірчий інтервал [8]: (362.95, 431.55)\n",
      "\n",
      "Вектор ознак [9]: (1, 21, 92, 483, 2720)\n",
      "Довірчий інтервал [9]: (364.91, 424.81)\n",
      "\n",
      "Вектор ознак [10]: (1, 18, 173, 542, 2817)\n",
      "Довірчий інтервал [10]: (389.24, 474.64)\n",
      "\n",
      "Вектор ознак [11]: (1, 22, 87, 501, 2736)\n",
      "Довірчий інтервал [11]: (369.51, 434.49)\n",
      "\n",
      "Вектор ознак [12]: (1, 20, 93, 471, 2682)\n",
      "Довірчий інтервал [12]: (355.16, 417.79)\n",
      "\n",
      "Вектор ознак [13]: (1, 17, 210, 523, 2593)\n",
      "Довірчий інтервал [13]: (393.64, 463.87)\n",
      "\n",
      "Вектор ознак [14]: (1, 15, 110, 538, 2627)\n",
      "Довірчий інтервал [14]: (336.83, 430.45)\n",
      "\n",
      "Вектор ознак [15]: (1, 21, 86, 472, 2532)\n",
      "Довірчий інтервал [15]: (343.57, 420.18)\n",
      "\n",
      "Вектор ознак [16]: (1, 15, 175, 467, 2693)\n",
      "Довірчий інтервал [16]: (356.06, 438.41)\n",
      "\n"
     ]
    }
   ],
   "execution_count": 141
  },
  {
   "metadata": {},
   "cell_type": "markdown",
   "source": "Коефіцієнт множинної кореляції",
   "id": "9ef45fa5bc9b16f6"
  },
  {
   "metadata": {
    "ExecuteTime": {
     "end_time": "2025-05-16T01:04:02.138586Z",
     "start_time": "2025-05-16T01:04:02.126592Z"
    }
   },
   "cell_type": "code",
   "source": [
    "y_b = np.mean(Y)\n",
    "print(y_b)"
   ],
   "id": "eaa92f4b0a4ca3ed",
   "outputs": [
    {
     "name": "stdout",
     "output_type": "stream",
     "text": [
      "408.875\n"
     ]
    }
   ],
   "execution_count": 142
  },
  {
   "metadata": {
    "ExecuteTime": {
     "end_time": "2025-05-16T01:04:02.253410Z",
     "start_time": "2025-05-16T01:04:02.241385Z"
    }
   },
   "cell_type": "code",
   "source": [
    "num = B @ X @ Y - n * y_b**2\n",
    "denom = Y.T @ Y - n * y_b**2\n",
    "print(num)\n",
    "print(denom)"
   ],
   "id": "ef06f536b0df7e2f",
   "outputs": [
    {
     "name": "stdout",
     "output_type": "stream",
     "text": [
      "6241.7308787880465\n",
      "11245.75\n"
     ]
    }
   ],
   "execution_count": 143
  },
  {
   "metadata": {
    "ExecuteTime": {
     "end_time": "2025-05-16T01:04:02.355216Z",
     "start_time": "2025-05-16T01:04:02.343234Z"
    }
   },
   "cell_type": "code",
   "source": [
    "R_2 = num / denom\n",
    "print(R_2)"
   ],
   "id": "8b15f4c867948de9",
   "outputs": [
    {
     "name": "stdout",
     "output_type": "stream",
     "text": [
      "0.5550302006347329\n"
     ]
    }
   ],
   "execution_count": 144
  },
  {
   "metadata": {
    "ExecuteTime": {
     "end_time": "2025-05-16T01:04:02.443847Z",
     "start_time": "2025-05-16T01:04:02.425871Z"
    }
   },
   "cell_type": "code",
   "source": [
    "R = np.sqrt(R_2)\n",
    "print(R)"
   ],
   "id": "bb4dcda6e296db1d",
   "outputs": [
    {
     "name": "stdout",
     "output_type": "stream",
     "text": [
      "0.7450034903507049\n"
     ]
    }
   ],
   "execution_count": 145
  },
  {
   "metadata": {
    "ExecuteTime": {
     "end_time": "2025-05-16T01:04:02.543848Z",
     "start_time": "2025-05-16T01:04:02.531857Z"
    }
   },
   "cell_type": "code",
   "source": "print(model.rsquared)",
   "id": "d8a16a8a85c18e7c",
   "outputs": [
    {
     "name": "stdout",
     "output_type": "stream",
     "text": [
      "0.5550302006454558\n"
     ]
    }
   ],
   "execution_count": 146
  },
  {
   "metadata": {
    "ExecuteTime": {
     "end_time": "2025-05-16T01:04:02.684289Z",
     "start_time": "2025-05-16T01:04:02.672198Z"
    }
   },
   "cell_type": "code",
   "source": "print(np.sqrt(model.rsquared))",
   "id": "bdce016b790456bf",
   "outputs": [
    {
     "name": "stdout",
     "output_type": "stream",
     "text": [
      "0.7450034903579015\n"
     ]
    }
   ],
   "execution_count": 147
  }
 ],
 "metadata": {
  "kernelspec": {
   "display_name": "Python 3",
   "language": "python",
   "name": "python3"
  },
  "language_info": {
   "codemirror_mode": {
    "name": "ipython",
    "version": 2
   },
   "file_extension": ".py",
   "mimetype": "text/x-python",
   "name": "python",
   "nbconvert_exporter": "python",
   "pygments_lexer": "ipython2",
   "version": "2.7.6"
  }
 },
 "nbformat": 4,
 "nbformat_minor": 5
}
