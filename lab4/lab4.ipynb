{
 "cells": [
  {
   "cell_type": "code",
   "id": "initial_id",
   "metadata": {
    "collapsed": true,
    "ExecuteTime": {
     "end_time": "2025-05-16T00:40:44.733668Z",
     "start_time": "2025-05-16T00:40:44.718141Z"
    }
   },
   "source": [
    "import numpy as np\n",
    "from scipy.stats import t\n",
    "import statsmodels.api as sm"
   ],
   "outputs": [],
   "execution_count": 86
  },
  {
   "metadata": {
    "ExecuteTime": {
     "end_time": "2025-05-16T00:40:44.771739Z",
     "start_time": "2025-05-16T00:40:44.756126Z"
    }
   },
   "cell_type": "code",
   "source": [
    "X_1 = np.array([22, 17, 18, 15, 24, 22, 20, 17, 21, 18, 22, 20, 17, 15, 21, 15])\n",
    "\n",
    "X_2 = np.array([180, 154, 217, 170, 103, 163, 180, 140, 92, 173, 87, 93, 210, 110, 86, 175])\n",
    "\n",
    "X_3 = np.array([518, 475, 510, 493, 516, 476, 471, 523, 483, 542, 501, 471, 523, 538, 472, 467])\n",
    "\n",
    "X_4 = np.array([2801, 2543, 2573, 2648, 2643, 2612, 2815, 2527, 2720, 2817, 2736, 2682, 2593, 2627, 2532, 2693])"
   ],
   "id": "995b4ebaf0e2c2f3",
   "outputs": [],
   "execution_count": 87
  },
  {
   "metadata": {
    "ExecuteTime": {
     "end_time": "2025-05-16T00:40:44.833903Z",
     "start_time": "2025-05-16T00:40:44.818262Z"
    }
   },
   "cell_type": "code",
   "source": "len(X_1)",
   "id": "3584a6947b0b4524",
   "outputs": [
    {
     "data": {
      "text/plain": [
       "16"
      ]
     },
     "execution_count": 88,
     "metadata": {},
     "output_type": "execute_result"
    }
   ],
   "execution_count": 88
  },
  {
   "metadata": {
    "ExecuteTime": {
     "end_time": "2025-05-16T00:40:44.918662Z",
     "start_time": "2025-05-16T00:40:44.903071Z"
    }
   },
   "cell_type": "code",
   "source": [
    "X = np.array([X_1, X_2, X_3, X_4])\n",
    "X = np.concatenate(X).reshape(4, 16)\n",
    "X"
   ],
   "id": "76dd24cb90e0a0fa",
   "outputs": [
    {
     "data": {
      "text/plain": [
       "array([[  22,   17,   18,   15,   24,   22,   20,   17,   21,   18,   22,\n",
       "          20,   17,   15,   21,   15],\n",
       "       [ 180,  154,  217,  170,  103,  163,  180,  140,   92,  173,   87,\n",
       "          93,  210,  110,   86,  175],\n",
       "       [ 518,  475,  510,  493,  516,  476,  471,  523,  483,  542,  501,\n",
       "         471,  523,  538,  472,  467],\n",
       "       [2801, 2543, 2573, 2648, 2643, 2612, 2815, 2527, 2720, 2817, 2736,\n",
       "        2682, 2593, 2627, 2532, 2693]])"
      ]
     },
     "execution_count": 89,
     "metadata": {},
     "output_type": "execute_result"
    }
   ],
   "execution_count": 89
  },
  {
   "metadata": {
    "ExecuteTime": {
     "end_time": "2025-05-16T00:40:45.065565Z",
     "start_time": "2025-05-16T00:40:45.049880Z"
    }
   },
   "cell_type": "code",
   "source": "X.T",
   "id": "2eae2183ec0c45a2",
   "outputs": [
    {
     "data": {
      "text/plain": [
       "array([[  22,  180,  518, 2801],\n",
       "       [  17,  154,  475, 2543],\n",
       "       [  18,  217,  510, 2573],\n",
       "       [  15,  170,  493, 2648],\n",
       "       [  24,  103,  516, 2643],\n",
       "       [  22,  163,  476, 2612],\n",
       "       [  20,  180,  471, 2815],\n",
       "       [  17,  140,  523, 2527],\n",
       "       [  21,   92,  483, 2720],\n",
       "       [  18,  173,  542, 2817],\n",
       "       [  22,   87,  501, 2736],\n",
       "       [  20,   93,  471, 2682],\n",
       "       [  17,  210,  523, 2593],\n",
       "       [  15,  110,  538, 2627],\n",
       "       [  21,   86,  472, 2532],\n",
       "       [  15,  175,  467, 2693]])"
      ]
     },
     "execution_count": 90,
     "metadata": {},
     "output_type": "execute_result"
    }
   ],
   "execution_count": 90
  },
  {
   "metadata": {
    "ExecuteTime": {
     "end_time": "2025-05-16T00:40:45.303604Z",
     "start_time": "2025-05-16T00:40:45.287920Z"
    }
   },
   "cell_type": "code",
   "source": [
    "Y = np.array([452, 377, 478, 371, 397, 404, 427, 396, 399, 418, 413, 412, 423, 393, 381, 401])\n",
    "Y"
   ],
   "id": "426c91e4e2ddf1af",
   "outputs": [
    {
     "data": {
      "text/plain": [
       "array([452, 377, 478, 371, 397, 404, 427, 396, 399, 418, 413, 412, 423,\n",
       "       393, 381, 401])"
      ]
     },
     "execution_count": 91,
     "metadata": {},
     "output_type": "execute_result"
    }
   ],
   "execution_count": 91
  },
  {
   "metadata": {},
   "cell_type": "markdown",
   "source": "Визначити статистичні оцінки для  параметрів лінійної множинної регресії",
   "id": "d93f0653907bcc9f"
  },
  {
   "metadata": {
    "ExecuteTime": {
     "end_time": "2025-05-16T00:40:45.583158Z",
     "start_time": "2025-05-16T00:40:45.567531Z"
    }
   },
   "cell_type": "code",
   "source": [
    "Z = np.linalg.inv(X @ X.T)\n",
    "Z"
   ],
   "id": "7c54424aca7e58cf",
   "outputs": [
    {
     "data": {
      "text/plain": [
       "array([[ 1.07674360e-02,  2.84829459e-04,  7.89307162e-05,\n",
       "        -1.07295481e-04],\n",
       "       [ 2.84829459e-04,  4.20553913e-05, -6.79884480e-06,\n",
       "        -3.06531627e-06],\n",
       "       [ 7.89307162e-05, -6.79884480e-06,  7.41917709e-05,\n",
       "        -1.40841187e-05],\n",
       "       [-1.07295481e-04, -3.06531627e-06, -1.40841187e-05,\n",
       "         3.58047784e-06]])"
      ]
     },
     "execution_count": 92,
     "metadata": {},
     "output_type": "execute_result"
    }
   ],
   "execution_count": 92
  },
  {
   "metadata": {
    "ExecuteTime": {
     "end_time": "2025-05-16T00:40:45.804805Z",
     "start_time": "2025-05-16T00:40:45.789126Z"
    }
   },
   "cell_type": "code",
   "source": [
    "X_Y = X @ Y\n",
    "X_Y"
   ],
   "id": "1a8265aff0a3e0c5",
   "outputs": [
    {
     "data": {
      "text/plain": [
       "array([  124541,   963527,  3265275, 17415854])"
      ]
     },
     "execution_count": 93,
     "metadata": {},
     "output_type": "execute_result"
    }
   ],
   "execution_count": 93
  },
  {
   "metadata": {
    "ExecuteTime": {
     "end_time": "2025-05-16T00:40:46.035087Z",
     "start_time": "2025-05-16T00:40:46.019423Z"
    }
   },
   "cell_type": "code",
   "source": [
    "B = Z @ X_Y\n",
    "B"
   ],
   "id": "628c8073fe744ef3",
   "outputs": [
    {
     "data": {
      "text/plain": [
       "array([4.51618072, 0.40925209, 0.24881935, 0.05235702])"
      ]
     },
     "execution_count": 94,
     "metadata": {},
     "output_type": "execute_result"
    }
   ],
   "execution_count": 94
  },
  {
   "metadata": {
    "ExecuteTime": {
     "end_time": "2025-05-16T00:40:46.167747Z",
     "start_time": "2025-05-16T00:40:46.152187Z"
    }
   },
   "cell_type": "code",
   "source": [
    "eq_str = 'y = '\n",
    "\n",
    "for i in range(len(B)):\n",
    "    print(f'b{i} = {B[i]:.4f}')\n",
    "    eq_str += f'{B[i]:.4f} '\n",
    "    if i != 0:\n",
    "        eq_str += f'* x_i{i} '\n",
    "    if i+1 != len(B):\n",
    "        eq_str += '+ '\n",
    "    \n",
    "print(eq_str)"
   ],
   "id": "5d942adaf35a39c9",
   "outputs": [
    {
     "name": "stdout",
     "output_type": "stream",
     "text": [
      "b0 = 4.5162\n",
      "b1 = 0.4093\n",
      "b2 = 0.2488\n",
      "b3 = 0.0524\n",
      "y = 4.5162 + 0.4093 * x_i1 + 0.2488 * x_i2 + 0.0524 * x_i3 \n"
     ]
    }
   ],
   "execution_count": 95
  },
  {
   "metadata": {},
   "cell_type": "markdown",
   "source": "Побудувати довірчий інтервал",
   "id": "ddf175e0f202ae35"
  },
  {
   "metadata": {
    "ExecuteTime": {
     "end_time": "2025-05-16T00:40:46.350429Z",
     "start_time": "2025-05-16T00:40:46.334813Z"
    }
   },
   "cell_type": "code",
   "source": [
    "y = 0.99\n",
    "alpha = 1 - y\n",
    "print(f'alpha = {alpha:.2f}')"
   ],
   "id": "d29b4b241555bbb0",
   "outputs": [
    {
     "name": "stdout",
     "output_type": "stream",
     "text": [
      "alpha = 0.01\n"
     ]
    }
   ],
   "execution_count": 96
  },
  {
   "metadata": {
    "ExecuteTime": {
     "end_time": "2025-05-16T00:40:46.473822Z",
     "start_time": "2025-05-16T00:40:46.458215Z"
    }
   },
   "cell_type": "code",
   "source": [
    "n = X.shape[1]\n",
    "n"
   ],
   "id": "484677fbfbb0c475",
   "outputs": [
    {
     "data": {
      "text/plain": [
       "16"
      ]
     },
     "execution_count": 97,
     "metadata": {},
     "output_type": "execute_result"
    }
   ],
   "execution_count": 97
  },
  {
   "metadata": {
    "ExecuteTime": {
     "end_time": "2025-05-16T00:40:46.552449Z",
     "start_time": "2025-05-16T00:40:46.536833Z"
    }
   },
   "cell_type": "code",
   "source": [
    "m = X.shape[0]\n",
    "m"
   ],
   "id": "69ba57c8370e4df9",
   "outputs": [
    {
     "data": {
      "text/plain": [
       "4"
      ]
     },
     "execution_count": 98,
     "metadata": {},
     "output_type": "execute_result"
    }
   ],
   "execution_count": 98
  },
  {
   "metadata": {
    "ExecuteTime": {
     "end_time": "2025-05-16T00:40:46.637147Z",
     "start_time": "2025-05-16T00:40:46.621490Z"
    }
   },
   "cell_type": "code",
   "source": [
    "pred_Y = B @ X\n",
    "pred_Y"
   ],
   "id": "e4d28f38f0935468",
   "outputs": [
    {
     "data": {
      "text/plain": [
       "array([448.56180268, 391.13300026, 431.71145062, 398.62490816,\n",
       "       417.31170485, 421.25862668, 428.5679299 , 396.50908768,\n",
       "       395.0818419 , 434.44169209, 402.86822296, 385.99951408,\n",
       "       428.61229739, 384.16715639, 380.04619588, 396.55793147])"
      ]
     },
     "execution_count": 99,
     "metadata": {},
     "output_type": "execute_result"
    }
   ],
   "execution_count": 99
  },
  {
   "metadata": {
    "ExecuteTime": {
     "end_time": "2025-05-16T00:40:46.721889Z",
     "start_time": "2025-05-16T00:40:46.706312Z"
    }
   },
   "cell_type": "code",
   "source": [
    "e = Y - pred_Y\n",
    "e"
   ],
   "id": "2f0b2a628bd2a9b6",
   "outputs": [
    {
     "data": {
      "text/plain": [
       "array([  3.43819732, -14.13300026,  46.28854938, -27.62490816,\n",
       "       -20.31170485, -17.25862668,  -1.5679299 ,  -0.50908768,\n",
       "         3.9181581 , -16.44169209,  10.13177704,  26.00048592,\n",
       "        -5.61229739,   8.83284361,   0.95380412,   4.44206853])"
      ]
     },
     "execution_count": 100,
     "metadata": {},
     "output_type": "execute_result"
    }
   ],
   "execution_count": 100
  },
  {
   "metadata": {
    "ExecuteTime": {
     "end_time": "2025-05-16T00:40:46.785440Z",
     "start_time": "2025-05-16T00:40:46.769811Z"
    }
   },
   "cell_type": "code",
   "source": [
    "S_2 = np.sum(e**2) / (n-m)\n",
    "print(S_2)"
   ],
   "id": "4218f7c338ad77fd",
   "outputs": [
    {
     "name": "stdout",
     "output_type": "stream",
     "text": [
      "418.7491228721567\n"
     ]
    }
   ],
   "execution_count": 101
  },
  {
   "metadata": {
    "ExecuteTime": {
     "end_time": "2025-05-16T00:40:46.822399Z",
     "start_time": "2025-05-16T00:40:46.806762Z"
    }
   },
   "cell_type": "code",
   "source": [
    "S = np.sqrt(S_2)\n",
    "print(S)"
   ],
   "id": "8499d75b0966350",
   "outputs": [
    {
     "name": "stdout",
     "output_type": "stream",
     "text": [
      "20.463360498025654\n"
     ]
    }
   ],
   "execution_count": 102
  },
  {
   "metadata": {
    "ExecuteTime": {
     "end_time": "2025-05-16T00:40:46.937910Z",
     "start_time": "2025-05-16T00:40:46.906658Z"
    }
   },
   "cell_type": "code",
   "source": [
    "t_val = t.ppf(1-alpha/2, df=n-m)\n",
    "print(t_val)"
   ],
   "id": "2a9cc7de7668b460",
   "outputs": [
    {
     "name": "stdout",
     "output_type": "stream",
     "text": [
      "3.0545395893929017\n"
     ]
    }
   ],
   "execution_count": 103
  },
  {
   "metadata": {
    "ExecuteTime": {
     "end_time": "2025-05-16T00:40:47.045732Z",
     "start_time": "2025-05-16T00:40:47.014522Z"
    }
   },
   "cell_type": "code",
   "source": [
    "for i in range(Y.shape[0]):\n",
    "    x_0 = X.T[i].reshape(-1, 1)\n",
    "    y_0 = pred_Y[i]\n",
    "    \n",
    "    margin = t_val*S*np.sqrt((x_0.T @ Z @ x_0)[0][0])\n",
    "    \n",
    "    low = y_0 - margin\n",
    "    high = y_0 + margin\n",
    "    \n",
    "    print(f'y[{i}]: [{low:.4f}, {high:.4f}]')"
   ],
   "id": "8e5d454f2f99c1a7",
   "outputs": [
    {
     "name": "stdout",
     "output_type": "stream",
     "text": [
      "y[0]: [422.3996, 474.7240]\n",
      "y[1]: [374.4146, 407.8514]\n",
      "y[2]: [396.6377, 466.7852]\n",
      "y[3]: [370.6203, 426.6296]\n",
      "y[4]: [379.9360, 454.6874]\n",
      "y[5]: [390.3551, 452.1621]\n",
      "y[6]: [391.5503, 465.5856]\n",
      "y[7]: [365.7534, 427.2648]\n",
      "y[8]: [366.9887, 423.1749]\n",
      "y[9]: [413.0034, 455.8800]\n",
      "y[10]: [374.5837, 431.1528]\n",
      "y[11]: [357.1670, 414.8320]\n",
      "y[12]: [395.5395, 461.6851]\n",
      "y[13]: [340.5925, 427.7418]\n",
      "y[14]: [353.8862, 406.2062]\n",
      "y[15]: [358.8162, 434.2996]\n"
     ]
    }
   ],
   "execution_count": 104
  },
  {
   "metadata": {
    "ExecuteTime": {
     "end_time": "2025-05-16T00:40:47.138757Z",
     "start_time": "2025-05-16T00:40:47.123144Z"
    }
   },
   "cell_type": "code",
   "source": "model = sm.OLS(Y.reshape(16,1), X.T).fit()",
   "id": "bfb3e9ba170ba55a",
   "outputs": [],
   "execution_count": 105
  },
  {
   "metadata": {
    "ExecuteTime": {
     "end_time": "2025-05-16T00:40:47.207372Z",
     "start_time": "2025-05-16T00:40:47.185607Z"
    }
   },
   "cell_type": "code",
   "source": [
    "predictions = model.get_prediction(X.T)\n",
    "conf_int = predictions.conf_int(alpha=alpha)"
   ],
   "id": "ab5fab7e188415c3",
   "outputs": [],
   "execution_count": 106
  },
  {
   "metadata": {
    "ExecuteTime": {
     "end_time": "2025-05-16T00:40:47.254284Z",
     "start_time": "2025-05-16T00:40:47.238664Z"
    }
   },
   "cell_type": "code",
   "source": [
    "for i, (features, intervals) in enumerate(zip(X.T, conf_int), 1):\n",
    "    feature = tuple(int(val) for val in features[1:])\n",
    "    interval = tuple(round(float(val), 2) for val in intervals)\n",
    "    \n",
    "    print(f'Вектор ознак [{i}]: {feature}')\n",
    "    print(f'Довірчий інтервал [{i}]: {interval}')\n",
    "    print()"
   ],
   "id": "798e1a3c9416b61d",
   "outputs": [
    {
     "name": "stdout",
     "output_type": "stream",
     "text": [
      "Вектор ознак [1]: (180, 518, 2801)\n",
      "Довірчий інтервал [1]: (422.4, 474.72)\n",
      "\n",
      "Вектор ознак [2]: (154, 475, 2543)\n",
      "Довірчий інтервал [2]: (374.41, 407.85)\n",
      "\n",
      "Вектор ознак [3]: (217, 510, 2573)\n",
      "Довірчий інтервал [3]: (396.64, 466.79)\n",
      "\n",
      "Вектор ознак [4]: (170, 493, 2648)\n",
      "Довірчий інтервал [4]: (370.62, 426.63)\n",
      "\n",
      "Вектор ознак [5]: (103, 516, 2643)\n",
      "Довірчий інтервал [5]: (379.94, 454.69)\n",
      "\n",
      "Вектор ознак [6]: (163, 476, 2612)\n",
      "Довірчий інтервал [6]: (390.36, 452.16)\n",
      "\n",
      "Вектор ознак [7]: (180, 471, 2815)\n",
      "Довірчий інтервал [7]: (391.55, 465.59)\n",
      "\n",
      "Вектор ознак [8]: (140, 523, 2527)\n",
      "Довірчий інтервал [8]: (365.75, 427.26)\n",
      "\n",
      "Вектор ознак [9]: (92, 483, 2720)\n",
      "Довірчий інтервал [9]: (366.99, 423.17)\n",
      "\n",
      "Вектор ознак [10]: (173, 542, 2817)\n",
      "Довірчий інтервал [10]: (413.0, 455.88)\n",
      "\n",
      "Вектор ознак [11]: (87, 501, 2736)\n",
      "Довірчий інтервал [11]: (374.58, 431.15)\n",
      "\n",
      "Вектор ознак [12]: (93, 471, 2682)\n",
      "Довірчий інтервал [12]: (357.17, 414.83)\n",
      "\n",
      "Вектор ознак [13]: (210, 523, 2593)\n",
      "Довірчий інтервал [13]: (395.54, 461.69)\n",
      "\n",
      "Вектор ознак [14]: (110, 538, 2627)\n",
      "Довірчий інтервал [14]: (340.59, 427.74)\n",
      "\n",
      "Вектор ознак [15]: (86, 472, 2532)\n",
      "Довірчий інтервал [15]: (353.89, 406.21)\n",
      "\n",
      "Вектор ознак [16]: (175, 467, 2693)\n",
      "Довірчий інтервал [16]: (358.82, 434.3)\n",
      "\n"
     ]
    }
   ],
   "execution_count": 107
  },
  {
   "metadata": {},
   "cell_type": "markdown",
   "source": "Коефіцієнт множинної кореляції",
   "id": "9ef45fa5bc9b16f6"
  },
  {
   "metadata": {
    "ExecuteTime": {
     "end_time": "2025-05-16T00:40:47.323074Z",
     "start_time": "2025-05-16T00:40:47.307492Z"
    }
   },
   "cell_type": "code",
   "source": [
    "y_b = np.mean(Y)\n",
    "print(y_b)"
   ],
   "id": "eaa92f4b0a4ca3ed",
   "outputs": [
    {
     "name": "stdout",
     "output_type": "stream",
     "text": [
      "408.875\n"
     ]
    }
   ],
   "execution_count": 108
  },
  {
   "metadata": {
    "ExecuteTime": {
     "end_time": "2025-05-16T00:40:47.407375Z",
     "start_time": "2025-05-16T00:40:47.391726Z"
    }
   },
   "cell_type": "code",
   "source": [
    "num = B @ X @ Y - n * y_b**2\n",
    "denom = Y.T @ Y - n * y_b**2\n",
    "print(num)\n",
    "print(denom)"
   ],
   "id": "ef06f536b0df7e2f",
   "outputs": [
    {
     "name": "stdout",
     "output_type": "stream",
     "text": [
      "6220.76052561868\n",
      "11245.75\n"
     ]
    }
   ],
   "execution_count": 109
  },
  {
   "metadata": {
    "ExecuteTime": {
     "end_time": "2025-05-16T00:40:47.518915Z",
     "start_time": "2025-05-16T00:40:47.501058Z"
    }
   },
   "cell_type": "code",
   "source": [
    "R_2 = num / denom\n",
    "print(R_2)"
   ],
   "id": "8b15f4c867948de9",
   "outputs": [
    {
     "name": "stdout",
     "output_type": "stream",
     "text": [
      "0.5531654647861352\n"
     ]
    }
   ],
   "execution_count": 110
  },
  {
   "metadata": {
    "ExecuteTime": {
     "end_time": "2025-05-16T00:40:47.582550Z",
     "start_time": "2025-05-16T00:40:47.566929Z"
    }
   },
   "cell_type": "code",
   "source": [
    "R = np.sqrt(R_2)\n",
    "print(R)"
   ],
   "id": "bb4dcda6e296db1d",
   "outputs": [
    {
     "name": "stdout",
     "output_type": "stream",
     "text": [
      "0.7437509427127708\n"
     ]
    }
   ],
   "execution_count": 111
  },
  {
   "metadata": {
    "ExecuteTime": {
     "end_time": "2025-05-16T00:40:47.654676Z",
     "start_time": "2025-05-16T00:40:47.639091Z"
    }
   },
   "cell_type": "code",
   "source": "print(model.rsquared)",
   "id": "d8a16a8a85c18e7c",
   "outputs": [
    {
     "name": "stdout",
     "output_type": "stream",
     "text": [
      "0.9981292661293092\n"
     ]
    }
   ],
   "execution_count": 112
  },
  {
   "metadata": {
    "ExecuteTime": {
     "end_time": "2025-05-16T00:40:47.770762Z",
     "start_time": "2025-05-16T00:40:47.755157Z"
    }
   },
   "cell_type": "code",
   "source": "print(np.sqrt(model.rsquared))",
   "id": "bdce016b790456bf",
   "outputs": [
    {
     "name": "stdout",
     "output_type": "stream",
     "text": [
      "0.9990641951993421\n"
     ]
    }
   ],
   "execution_count": 113
  }
 ],
 "metadata": {
  "kernelspec": {
   "display_name": "Python 3",
   "language": "python",
   "name": "python3"
  },
  "language_info": {
   "codemirror_mode": {
    "name": "ipython",
    "version": 2
   },
   "file_extension": ".py",
   "mimetype": "text/x-python",
   "name": "python",
   "nbconvert_exporter": "python",
   "pygments_lexer": "ipython2",
   "version": "2.7.6"
  }
 },
 "nbformat": 4,
 "nbformat_minor": 5
}
